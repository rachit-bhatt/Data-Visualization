{
 "cells": [
  {
   "cell_type": "markdown",
   "id": "48a4139d",
   "metadata": {},
   "source": [
    "## Importing Libraries"
   ]
  },
  {
   "cell_type": "code",
   "execution_count": 39,
   "id": "46494605",
   "metadata": {},
   "outputs": [],
   "source": [
    "import pandas as pd\n",
    "import seaborn as sns\n",
    "import matplotlib.pyplot as plt\n",
    "from sklearn.model_selection import train_test_split\n",
    "from sklearn.preprocessing import StandardScaler\n",
    "import tensorflow as tf\n",
    "from tensorflow.keras.models import Sequential\n",
    "from tensorflow.keras.layers import Dense\n",
    "from sklearn.neural_network import MLPClassifier\n",
    "from sklearn.linear_model import LogisticRegression\n",
    "import plotly.figure_factory as ff\n",
    "from pickle import dump"
   ]
  },
  {
   "cell_type": "code",
   "execution_count": 40,
   "id": "3f2a0c01",
   "metadata": {},
   "outputs": [],
   "source": [
    "# importing dataset\n",
    "dataset = pd.read_csv('Student Data.csv', skiprows = 23, na_values = '?')"
   ]
  },
  {
   "cell_type": "code",
   "execution_count": 41,
   "id": "f5106397",
   "metadata": {},
   "outputs": [
    {
     "data": {
      "text/html": [
       "<div>\n",
       "<style scoped>\n",
       "    .dataframe tbody tr th:only-of-type {\n",
       "        vertical-align: middle;\n",
       "    }\n",
       "\n",
       "    .dataframe tbody tr th {\n",
       "        vertical-align: top;\n",
       "    }\n",
       "\n",
       "    .dataframe thead th {\n",
       "        text-align: right;\n",
       "    }\n",
       "</style>\n",
       "<table border=\"1\" class=\"dataframe\">\n",
       "  <thead>\n",
       "    <tr style=\"text-align: right;\">\n",
       "      <th></th>\n",
       "      <th>Unnamed: 0</th>\n",
       "      <th>Unnamed: 1</th>\n",
       "      <th>Unnamed: 2</th>\n",
       "      <th>Unnamed: 3</th>\n",
       "      <th>Unnamed: 4</th>\n",
       "      <th>Unnamed: 5</th>\n",
       "      <th>Unnamed: 6</th>\n",
       "      <th>Unnamed: 7</th>\n",
       "      <th>Unnamed: 8</th>\n",
       "      <th>Unnamed: 9</th>\n",
       "      <th>Unnamed: 10</th>\n",
       "      <th>Unnamed: 11</th>\n",
       "      <th>Unnamed: 12</th>\n",
       "      <th>Unnamed: 13</th>\n",
       "      <th>Unnamed: 14</th>\n",
       "    </tr>\n",
       "  </thead>\n",
       "  <tbody>\n",
       "    <tr>\n",
       "      <th>0</th>\n",
       "      <td>0.000000</td>\n",
       "      <td>0.000000</td>\n",
       "      <td>1.0</td>\n",
       "      <td>2</td>\n",
       "      <td>6</td>\n",
       "      <td>2</td>\n",
       "      <td>1</td>\n",
       "      <td>1</td>\n",
       "      <td>2</td>\n",
       "      <td>1.0</td>\n",
       "      <td>1.0</td>\n",
       "      <td>59.0</td>\n",
       "      <td>16.0</td>\n",
       "      <td>7.0</td>\n",
       "      <td>1</td>\n",
       "    </tr>\n",
       "    <tr>\n",
       "      <th>1</th>\n",
       "      <td>2.500000</td>\n",
       "      <td>2.000000</td>\n",
       "      <td>3.0</td>\n",
       "      <td>4</td>\n",
       "      <td>6</td>\n",
       "      <td>1</td>\n",
       "      <td>2</td>\n",
       "      <td>2</td>\n",
       "      <td>2</td>\n",
       "      <td>1.0</td>\n",
       "      <td>3.0</td>\n",
       "      <td>NaN</td>\n",
       "      <td>NaN</td>\n",
       "      <td>7.0</td>\n",
       "      <td>1</td>\n",
       "    </tr>\n",
       "    <tr>\n",
       "      <th>2</th>\n",
       "      <td>4.250000</td>\n",
       "      <td>3.923077</td>\n",
       "      <td>1.0</td>\n",
       "      <td>1</td>\n",
       "      <td>6</td>\n",
       "      <td>2</td>\n",
       "      <td>1</td>\n",
       "      <td>1</td>\n",
       "      <td>1</td>\n",
       "      <td>2.0</td>\n",
       "      <td>3.0</td>\n",
       "      <td>92.0</td>\n",
       "      <td>41.0</td>\n",
       "      <td>9.0</td>\n",
       "      <td>1</td>\n",
       "    </tr>\n",
       "    <tr>\n",
       "      <th>3</th>\n",
       "      <td>3.020833</td>\n",
       "      <td>2.321429</td>\n",
       "      <td>3.0</td>\n",
       "      <td>4</td>\n",
       "      <td>6</td>\n",
       "      <td>1</td>\n",
       "      <td>2</td>\n",
       "      <td>2</td>\n",
       "      <td>2</td>\n",
       "      <td>2.0</td>\n",
       "      <td>3.0</td>\n",
       "      <td>NaN</td>\n",
       "      <td>NaN</td>\n",
       "      <td>8.0</td>\n",
       "      <td>1</td>\n",
       "    </tr>\n",
       "    <tr>\n",
       "      <th>4</th>\n",
       "      <td>4.275000</td>\n",
       "      <td>4.326923</td>\n",
       "      <td>1.0</td>\n",
       "      <td>2</td>\n",
       "      <td>6</td>\n",
       "      <td>1</td>\n",
       "      <td>1</td>\n",
       "      <td>1</td>\n",
       "      <td>1</td>\n",
       "      <td>2.0</td>\n",
       "      <td>3.0</td>\n",
       "      <td>97.0</td>\n",
       "      <td>NaN</td>\n",
       "      <td>9.0</td>\n",
       "      <td>1</td>\n",
       "    </tr>\n",
       "  </tbody>\n",
       "</table>\n",
       "</div>"
      ],
      "text/plain": [
       "   Unnamed: 0  Unnamed: 1  Unnamed: 2  Unnamed: 3  Unnamed: 4  Unnamed: 5  \\\n",
       "0    0.000000    0.000000         1.0           2           6           2   \n",
       "1    2.500000    2.000000         3.0           4           6           1   \n",
       "2    4.250000    3.923077         1.0           1           6           2   \n",
       "3    3.020833    2.321429         3.0           4           6           1   \n",
       "4    4.275000    4.326923         1.0           2           6           1   \n",
       "\n",
       "   Unnamed: 6  Unnamed: 7  Unnamed: 8  Unnamed: 9  Unnamed: 10  Unnamed: 11  \\\n",
       "0           1           1           2         1.0          1.0         59.0   \n",
       "1           2           2           2         1.0          3.0          NaN   \n",
       "2           1           1           1         2.0          3.0         92.0   \n",
       "3           2           2           2         2.0          3.0          NaN   \n",
       "4           1           1           1         2.0          3.0         97.0   \n",
       "\n",
       "   Unnamed: 12  Unnamed: 13  Unnamed: 14  \n",
       "0         16.0          7.0            1  \n",
       "1          NaN          7.0            1  \n",
       "2         41.0          9.0            1  \n",
       "3          NaN          8.0            1  \n",
       "4          NaN          9.0            1  "
      ]
     },
     "execution_count": 41,
     "metadata": {},
     "output_type": "execute_result"
    }
   ],
   "source": [
    "dataset.head()"
   ]
  },
  {
   "cell_type": "code",
   "execution_count": 42,
   "id": "246a507f",
   "metadata": {},
   "outputs": [
    {
     "data": {
      "text/plain": [
       "(1437, 15)"
      ]
     },
     "execution_count": 42,
     "metadata": {},
     "output_type": "execute_result"
    }
   ],
   "source": [
    "# Checking shape of the dataset\n",
    "dataset.shape"
   ]
  },
  {
   "cell_type": "code",
   "execution_count": 43,
   "id": "bd18155d",
   "metadata": {},
   "outputs": [],
   "source": [
    "# Naming the columns\n",
    "dataset.columns=[\"First Term Gpa\",\"Second Term Gpa\",\"First Language\",\"Funding\",\"School\",\"FastTrack\",\"Coop\",\"Residency\",\"Gender\",\"Previous Education\",\"Age Group\",\"High School Average Mark\",\"Math Score\",\"English Grade\",\"FirstYearPersistence\"]"
   ]
  },
  {
   "cell_type": "code",
   "execution_count": 44,
   "id": "bfebe870",
   "metadata": {},
   "outputs": [
    {
     "data": {
      "text/html": [
       "<div>\n",
       "<style scoped>\n",
       "    .dataframe tbody tr th:only-of-type {\n",
       "        vertical-align: middle;\n",
       "    }\n",
       "\n",
       "    .dataframe tbody tr th {\n",
       "        vertical-align: top;\n",
       "    }\n",
       "\n",
       "    .dataframe thead th {\n",
       "        text-align: right;\n",
       "    }\n",
       "</style>\n",
       "<table border=\"1\" class=\"dataframe\">\n",
       "  <thead>\n",
       "    <tr style=\"text-align: right;\">\n",
       "      <th></th>\n",
       "      <th>First Term Gpa</th>\n",
       "      <th>Second Term Gpa</th>\n",
       "      <th>First Language</th>\n",
       "      <th>Funding</th>\n",
       "      <th>School</th>\n",
       "      <th>FastTrack</th>\n",
       "      <th>Coop</th>\n",
       "      <th>Residency</th>\n",
       "      <th>Gender</th>\n",
       "      <th>Previous Education</th>\n",
       "      <th>Age Group</th>\n",
       "      <th>High School Average Mark</th>\n",
       "      <th>Math Score</th>\n",
       "      <th>English Grade</th>\n",
       "      <th>FirstYearPersistence</th>\n",
       "    </tr>\n",
       "  </thead>\n",
       "  <tbody>\n",
       "    <tr>\n",
       "      <th>0</th>\n",
       "      <td>0.000000</td>\n",
       "      <td>0.000000</td>\n",
       "      <td>1.0</td>\n",
       "      <td>2</td>\n",
       "      <td>6</td>\n",
       "      <td>2</td>\n",
       "      <td>1</td>\n",
       "      <td>1</td>\n",
       "      <td>2</td>\n",
       "      <td>1.0</td>\n",
       "      <td>1.0</td>\n",
       "      <td>59.0</td>\n",
       "      <td>16.0</td>\n",
       "      <td>7.0</td>\n",
       "      <td>1</td>\n",
       "    </tr>\n",
       "    <tr>\n",
       "      <th>1</th>\n",
       "      <td>2.500000</td>\n",
       "      <td>2.000000</td>\n",
       "      <td>3.0</td>\n",
       "      <td>4</td>\n",
       "      <td>6</td>\n",
       "      <td>1</td>\n",
       "      <td>2</td>\n",
       "      <td>2</td>\n",
       "      <td>2</td>\n",
       "      <td>1.0</td>\n",
       "      <td>3.0</td>\n",
       "      <td>NaN</td>\n",
       "      <td>NaN</td>\n",
       "      <td>7.0</td>\n",
       "      <td>1</td>\n",
       "    </tr>\n",
       "    <tr>\n",
       "      <th>2</th>\n",
       "      <td>4.250000</td>\n",
       "      <td>3.923077</td>\n",
       "      <td>1.0</td>\n",
       "      <td>1</td>\n",
       "      <td>6</td>\n",
       "      <td>2</td>\n",
       "      <td>1</td>\n",
       "      <td>1</td>\n",
       "      <td>1</td>\n",
       "      <td>2.0</td>\n",
       "      <td>3.0</td>\n",
       "      <td>92.0</td>\n",
       "      <td>41.0</td>\n",
       "      <td>9.0</td>\n",
       "      <td>1</td>\n",
       "    </tr>\n",
       "    <tr>\n",
       "      <th>3</th>\n",
       "      <td>3.020833</td>\n",
       "      <td>2.321429</td>\n",
       "      <td>3.0</td>\n",
       "      <td>4</td>\n",
       "      <td>6</td>\n",
       "      <td>1</td>\n",
       "      <td>2</td>\n",
       "      <td>2</td>\n",
       "      <td>2</td>\n",
       "      <td>2.0</td>\n",
       "      <td>3.0</td>\n",
       "      <td>NaN</td>\n",
       "      <td>NaN</td>\n",
       "      <td>8.0</td>\n",
       "      <td>1</td>\n",
       "    </tr>\n",
       "    <tr>\n",
       "      <th>4</th>\n",
       "      <td>4.275000</td>\n",
       "      <td>4.326923</td>\n",
       "      <td>1.0</td>\n",
       "      <td>2</td>\n",
       "      <td>6</td>\n",
       "      <td>1</td>\n",
       "      <td>1</td>\n",
       "      <td>1</td>\n",
       "      <td>1</td>\n",
       "      <td>2.0</td>\n",
       "      <td>3.0</td>\n",
       "      <td>97.0</td>\n",
       "      <td>NaN</td>\n",
       "      <td>9.0</td>\n",
       "      <td>1</td>\n",
       "    </tr>\n",
       "  </tbody>\n",
       "</table>\n",
       "</div>"
      ],
      "text/plain": [
       "   First Term Gpa  Second Term Gpa  First Language  Funding  School  \\\n",
       "0        0.000000         0.000000             1.0        2       6   \n",
       "1        2.500000         2.000000             3.0        4       6   \n",
       "2        4.250000         3.923077             1.0        1       6   \n",
       "3        3.020833         2.321429             3.0        4       6   \n",
       "4        4.275000         4.326923             1.0        2       6   \n",
       "\n",
       "   FastTrack  Coop  Residency  Gender  Previous Education  Age Group  \\\n",
       "0          2     1          1       2                 1.0        1.0   \n",
       "1          1     2          2       2                 1.0        3.0   \n",
       "2          2     1          1       1                 2.0        3.0   \n",
       "3          1     2          2       2                 2.0        3.0   \n",
       "4          1     1          1       1                 2.0        3.0   \n",
       "\n",
       "   High School Average Mark  Math Score  English Grade  FirstYearPersistence  \n",
       "0                      59.0        16.0            7.0                     1  \n",
       "1                       NaN         NaN            7.0                     1  \n",
       "2                      92.0        41.0            9.0                     1  \n",
       "3                       NaN         NaN            8.0                     1  \n",
       "4                      97.0         NaN            9.0                     1  "
      ]
     },
     "execution_count": 44,
     "metadata": {},
     "output_type": "execute_result"
    }
   ],
   "source": [
    "dataset.head()"
   ]
  },
  {
   "cell_type": "code",
   "execution_count": 45,
   "id": "d44c958e",
   "metadata": {},
   "outputs": [
    {
     "data": {
      "text/plain": [
       "First Term Gpa               17\n",
       "Second Term Gpa             160\n",
       "First Language              111\n",
       "Funding                       0\n",
       "School                        0\n",
       "FastTrack                     0\n",
       "Coop                          0\n",
       "Residency                     0\n",
       "Gender                        0\n",
       "Previous Education            4\n",
       "Age Group                     4\n",
       "High School Average Mark    743\n",
       "Math Score                  462\n",
       "English Grade                45\n",
       "FirstYearPersistence          0\n",
       "dtype: int64"
      ]
     },
     "execution_count": 45,
     "metadata": {},
     "output_type": "execute_result"
    }
   ],
   "source": [
    "# here we can see thar we have 1546 missing value\n",
    "dataset.isnull().sum()"
   ]
  },
  {
   "cell_type": "code",
   "execution_count": 78,
   "id": "4c7ca85b",
   "metadata": {},
   "outputs": [
    {
     "data": {
      "text/plain": [
       "1.0    863\n",
       "2.0    482\n",
       "0.0     88\n",
       "Name: Previous Education, dtype: int64"
      ]
     },
     "execution_count": 78,
     "metadata": {},
     "output_type": "execute_result"
    }
   ],
   "source": [
    "dataset['Previous Education'].value_counts()"
   ]
  },
  {
   "cell_type": "code",
   "execution_count": 46,
   "id": "7b93351d",
   "metadata": {},
   "outputs": [
    {
     "data": {
      "text/plain": [
       "6    1437\n",
       "Name: School, dtype: int64"
      ]
     },
     "execution_count": 46,
     "metadata": {},
     "output_type": "execute_result"
    }
   ],
   "source": [
    "dataset['School'].value_counts()"
   ]
  },
  {
   "cell_type": "code",
   "execution_count": 47,
   "id": "d9c770f8",
   "metadata": {},
   "outputs": [],
   "source": [
    "# Impute the first gpa using the average of the First Gpa\n",
    "def impute_First_gpa(row):\n",
    "    if pd.isnull(row['First Term Gpa']):\n",
    "        avg_gpa = dataset['First Term Gpa'].mean()\n",
    "        return avg_gpa\n",
    "    else:\n",
    "        return row['First Term Gpa']\n",
    "\n",
    "dataset['First Term Gpa'] = dataset.apply(impute_First_gpa, axis=1)"
   ]
  },
  {
   "cell_type": "code",
   "execution_count": 48,
   "id": "ce114559",
   "metadata": {},
   "outputs": [],
   "source": [
    "# Impute the first gpa using the average of the First Gpa\n",
    "def impute_second_gpa(row):\n",
    "    if pd.isnull(row['Second Term Gpa']):\n",
    "        avg_gpa = dataset['Second Term Gpa'].mean()\n",
    "        return avg_gpa\n",
    "    else:\n",
    "        return row['Second Term Gpa']\n",
    "\n",
    "dataset['Second Term Gpa'] = dataset.apply(impute_second_gpa, axis=1)\n"
   ]
  },
  {
   "cell_type": "code",
   "execution_count": 49,
   "id": "1a372339",
   "metadata": {},
   "outputs": [],
   "source": [
    "# create the mode for the first language\n",
    "lang_mode=dataset['First Language'].mode()[0]"
   ]
  },
  {
   "cell_type": "code",
   "execution_count": 50,
   "id": "7a09659e",
   "metadata": {},
   "outputs": [],
   "source": [
    "# impute the First language using the mode\n",
    "dataset['First Language'] = dataset['First Language'].fillna(lang_mode)"
   ]
  },
  {
   "cell_type": "code",
   "execution_count": 51,
   "id": "549b83f1",
   "metadata": {},
   "outputs": [
    {
     "data": {
      "text/plain": [
       "First Term Gpa                0\n",
       "Second Term Gpa               0\n",
       "First Language                0\n",
       "Funding                       0\n",
       "School                        0\n",
       "FastTrack                     0\n",
       "Coop                          0\n",
       "Residency                     0\n",
       "Gender                        0\n",
       "Previous Education            4\n",
       "Age Group                     4\n",
       "High School Average Mark    743\n",
       "Math Score                  462\n",
       "English Grade                45\n",
       "FirstYearPersistence          0\n",
       "dtype: int64"
      ]
     },
     "execution_count": 51,
     "metadata": {},
     "output_type": "execute_result"
    }
   ],
   "source": [
    "# after imputing againg checking the missing value and now it is 0 First Language column\n",
    "dataset.isnull().sum()"
   ]
  },
  {
   "cell_type": "code",
   "execution_count": 52,
   "id": "b913f300",
   "metadata": {},
   "outputs": [],
   "source": [
    "#drop the dataset which has the null value in the Previous Education\n",
    "dataset = dataset.dropna(subset=['Previous Education'])"
   ]
  },
  {
   "cell_type": "code",
   "execution_count": 53,
   "id": "f9c3c54a",
   "metadata": {},
   "outputs": [],
   "source": [
    "#impute the math score using the average\n",
    "dataset['Math Score']=dataset['Math Score'].fillna(dataset['Math Score'].mean())"
   ]
  },
  {
   "cell_type": "code",
   "execution_count": 54,
   "id": "ba0ff776",
   "metadata": {},
   "outputs": [],
   "source": [
    "#impute the English score using the average\n",
    "dataset['English Grade']=dataset['English Grade'].fillna(dataset['English Grade'].mean())"
   ]
  },
  {
   "cell_type": "code",
   "execution_count": 55,
   "id": "bded1999",
   "metadata": {},
   "outputs": [],
   "source": [
    "# drop the High schoolo mark columns because of the high missing values\n",
    "dataset.drop(columns='High School Average Mark',inplace=True)"
   ]
  },
  {
   "cell_type": "code",
   "execution_count": 56,
   "id": "bd9e28fc",
   "metadata": {},
   "outputs": [
    {
     "data": {
      "text/plain": [
       "First Term Gpa          0\n",
       "Second Term Gpa         0\n",
       "First Language          0\n",
       "Funding                 0\n",
       "School                  0\n",
       "FastTrack               0\n",
       "Coop                    0\n",
       "Residency               0\n",
       "Gender                  0\n",
       "Previous Education      0\n",
       "Age Group               0\n",
       "Math Score              0\n",
       "English Grade           0\n",
       "FirstYearPersistence    0\n",
       "dtype: int64"
      ]
     },
     "execution_count": 56,
     "metadata": {},
     "output_type": "execute_result"
    }
   ],
   "source": [
    "# check the null values in the dataset\n",
    "dataset.isnull().sum()"
   ]
  },
  {
   "cell_type": "code",
   "execution_count": 57,
   "id": "357b4b19",
   "metadata": {},
   "outputs": [
    {
     "data": {
      "image/png": "[encoded data removed]",
      "text/plain": [
       "<Figure size 800x800 with 1 Axes>"
      ]
     },
     "metadata": {},
     "output_type": "display_data"
    }
   ],
   "source": [
    "# checking distribution of out target column\n",
    "value_counts = dataset['FirstYearPersistence'].value_counts(ascending=True)\n",
    "\n",
    "plt.figure(figsize=(8, 8))\n",
    "plt.pie(value_counts, labels=value_counts.index, autopct='%1.1f%%')\n",
    "plt.legend(['Dropout','Not Dropout'])\n",
    "plt.title('Distribution of Dropouts')\n",
    "plt.show()"
   ]
  },
  {
   "cell_type": "code",
   "execution_count": 58,
   "id": "d6d9565c",
   "metadata": {},
   "outputs": [
    {
     "data": {
      "text/plain": [
       "<Axes: xlabel='First Term Gpa', ylabel='Second Term Gpa'>"
      ]
     },
     "execution_count": 58,
     "metadata": {},
     "output_type": "execute_result"
    },
    {
     "data": {
      "image/png": "[encoded data removed]",
      "text/plain": [
       "<Figure size 640x480 with 1 Axes>"
      ]
     },
     "metadata": {},
     "output_type": "display_data"
    }
   ],
   "source": [
    "# vizulizing the 1st and 2nd term GPA with respect to first year persistence\n",
    "sns.scatterplot(dataset,x='First Term Gpa',y='Second Term Gpa',hue='FirstYearPersistence')"
   ]
  },
  {
   "cell_type": "code",
   "execution_count": 59,
   "id": "c19c9d17",
   "metadata": {
    "scrolled": false
   },
   "outputs": [
    {
     "data": {
      "application/vnd.plotly.v1+json": {
       "config": {
        "plotlyServerURL": "https://plot.ly"
       },
       "data": [
        {
         "alignmentgroup": "True",
         "bingroup": "x",
         "hovertemplate": "FirstYearPersistence=1<br>Funding=%{x}<br>count=%{y}<extra></extra>",
         "legendgroup": "1",
         "marker": {
          "color": "#636efa",
          "pattern": {
           "shape": ""
          }
         },
         "name": "1",
         "offsetgroup": "1",
         "orientation": "v",
         "showlegend": true,
         "type": "histogram",
         "x": [
          2,
          4,
          1,
          4,
          2,
          2,
          2,
          2,
          2,
          4,
          2,
          2,
          2,
          4,
          4,
          2,
          8,
          4,
          4,
          4,
          2,
          4,
          4,
          4,
          2,
          2,
          4,
          4,
          4,
          2,
          2,
          2,
          4,
          4,
          2,
          2,
          1,
          2,
          2,
          4,
          2,
          2,
          4,
          4,
          2,
          2,
          2,
          4,
          4,
          4,
          2,
          2,
          2,
          2,
          1,
          4,
          4,
          4,
          2,
          4,
          4,
          2,
          2,
          2,
          2,
          4,
          4,
          2,
          4,
          4,
          2,
          2,
          2,
          4,
          2,
          2,
          8,
          2,
          2,
          2,
          4,
          2,
          4,
          2,
          2,
          2,
          2,
          2,
          4,
          2,
          4,
          4,
          2,
          4,
          8,
          2,
          4,
          4,
          4,
          4,
          2,
          4,
          2,
          4,
          4,
          2,
          2,
          2,
          2,
          2,
          2,
          2,
          2,
          2,
          4,
          2,
          4,
          5,
          4,
          4,
          2,
          2,
          2,
          5,
          2,
          2,
          4,
          2,
          2,
          2,
          4,
          4,
          4,
          4,
          2,
          1,
          4,
          2,
          2,
          4,
          4,
          4,
          2,
          2,
          2,
          2,
          4,
          4,
          2,
          4,
          4,
          2,
          5,
          4,
          2,
          2,
          2,
          4,
          2,
          2,
          4,
          2,
          2,
          2,
          2,
          2,
          4,
          2,
          4,
          4,
          4,
          2,
          4,
          4,
          4,
          2,
          4,
          4,
          4,
          2,
          4,
          2,
          4,
          4,
          4,
          2,
          4,
          4,
          4,
          4,
          2,
          2,
          2,
          4,
          2,
          4,
          2,
          2,
          4,
          4,
          2,
          2,
          2,
          4,
          4,
          2,
          2,
          2,
          4,
          2,
          8,
          2,
          4,
          2,
          4,
          2,
          4,
          4,
          4,
          4,
          4,
          2,
          2,
          8,
          4,
          4,
          2,
          2,
          4,
          2,
          4,
          4,
          2,
          4,
          2,
          2,
          2,
          2,
          4,
          2,
          1,
          2,
          4,
          4,
          2,
          4,
          2,
          2,
          2,
          2,
          4,
          2,
          2,
          2,
          4,
          2,
          4,
          2,
          2,
          2,
          4,
          2,
          4,
          2,
          4,
          4,
          4,
          4,
          2,
          4,
          4,
          1,
          2,
          4,
          2,
          4,
          1,
          2,
          8,
          4,
          4,
          4,
          2,
          2,
          4,
          4,
          2,
          2,
          2,
          8,
          2,
          4,
          2,
          4,
          2,
          2,
          2,
          4,
          4,
          2,
          2,
          2,
          2,
          4,
          2,
          8,
          2,
          2,
          2,
          4,
          2,
          4,
          2,
          4,
          4,
          2,
          2,
          2,
          4,
          2,
          4,
          4,
          2,
          2,
          1,
          4,
          2,
          2,
          4,
          2,
          2,
          2,
          2,
          2,
          2,
          2,
          4,
          2,
          2,
          4,
          4,
          4,
          2,
          2,
          4,
          4,
          4,
          8,
          2,
          4,
          4,
          4,
          8,
          4,
          1,
          4,
          4,
          4,
          4,
          4,
          4,
          2,
          2,
          4,
          2,
          2,
          2,
          2,
          2,
          4,
          4,
          2,
          2,
          2,
          4,
          2,
          2,
          2,
          2,
          4,
          4,
          2,
          4,
          2,
          4,
          2,
          2,
          2,
          2,
          4,
          4,
          5,
          2,
          4,
          2,
          2,
          4,
          2,
          2,
          2,
          4,
          2,
          2,
          2,
          4,
          4,
          4,
          2,
          2,
          4,
          4,
          4,
          4,
          1,
          2,
          4,
          4,
          2,
          2,
          2,
          4,
          4,
          2,
          4,
          4,
          2,
          2,
          4,
          2,
          2,
          2,
          4,
          2,
          4,
          2,
          2,
          4,
          2,
          4,
          4,
          2,
          4,
          2,
          2,
          2,
          4,
          4,
          4,
          2,
          4,
          2,
          4,
          2,
          4,
          2,
          2,
          4,
          2,
          4,
          4,
          2,
          2,
          2,
          2,
          4,
          4,
          2,
          4,
          2,
          2,
          4,
          4,
          4,
          2,
          4,
          2,
          4,
          2,
          2,
          2,
          2,
          4,
          4,
          2,
          2,
          2,
          2,
          2,
          4,
          4,
          2,
          2,
          4,
          4,
          4,
          4,
          2,
          4,
          2,
          2,
          2,
          2,
          4,
          2,
          4,
          4,
          4,
          4,
          4,
          4,
          2,
          2,
          4,
          4,
          2,
          2,
          2,
          2,
          4,
          4,
          4,
          4,
          4,
          4,
          2,
          4,
          4,
          2,
          2,
          2,
          2,
          4,
          4,
          2,
          1,
          2,
          1,
          4,
          4,
          2,
          4,
          4,
          2,
          4,
          5,
          4,
          2,
          2,
          2,
          2,
          2,
          2,
          2,
          4,
          2,
          1,
          1,
          4,
          2,
          4,
          2,
          2,
          4,
          2,
          2,
          4,
          8,
          2,
          4,
          4,
          2,
          2,
          2,
          2,
          2,
          4,
          4,
          4,
          2,
          4,
          4,
          4,
          4,
          2,
          8,
          4,
          4,
          1,
          4,
          4,
          8,
          2,
          4,
          2,
          2,
          4,
          2,
          4,
          2,
          4,
          4,
          4,
          4,
          4,
          2,
          4,
          2,
          4,
          4,
          4,
          4,
          4,
          4,
          2,
          4,
          4,
          4,
          4,
          4,
          2,
          2,
          4,
          2,
          2,
          4,
          2,
          4,
          2,
          4,
          4,
          1,
          4,
          4,
          4,
          2,
          2,
          4,
          2,
          2,
          2,
          2,
          2,
          2,
          2,
          4,
          4,
          4,
          4,
          2,
          2,
          4,
          4,
          2,
          2,
          4,
          2,
          2,
          2,
          2,
          4,
          4,
          4,
          4,
          2,
          4,
          2,
          2,
          4,
          4,
          4,
          2,
          4,
          2,
          4,
          2,
          2,
          4,
          4,
          4,
          2,
          8,
          2,
          2,
          2,
          4,
          4,
          2,
          4,
          4,
          4,
          2,
          4,
          4,
          2,
          2,
          2,
          2,
          2,
          2,
          4,
          4,
          8,
          1,
          4,
          2,
          2,
          4,
          2,
          4,
          5,
          4,
          2,
          4,
          4,
          4,
          2,
          2,
          2,
          2,
          4,
          2,
          4,
          4,
          2,
          5,
          4,
          2,
          2,
          8,
          1,
          4,
          2,
          4,
          4,
          2,
          4,
          2,
          2,
          4,
          2,
          4,
          2,
          2,
          2,
          2,
          2,
          4,
          2,
          4,
          4,
          1,
          4,
          2,
          4,
          4,
          2,
          4,
          4,
          2,
          2,
          2,
          2,
          4,
          2,
          4,
          4,
          4,
          2,
          4,
          4,
          4,
          2,
          2,
          2,
          4,
          4,
          4,
          2,
          2,
          4,
          4,
          2,
          4,
          4,
          4,
          5,
          2,
          4,
          4,
          2,
          2,
          4,
          4,
          2,
          2,
          4,
          4,
          2,
          2,
          2,
          4,
          2,
          2,
          2,
          4,
          8,
          2,
          2,
          4,
          4,
          4,
          2,
          2,
          2,
          2,
          4,
          4,
          2,
          4,
          2,
          2,
          4,
          8,
          2,
          4,
          4,
          2,
          2,
          2,
          4,
          2,
          4,
          2,
          2,
          2,
          4,
          4,
          2,
          2,
          4,
          2,
          4,
          4,
          4,
          4,
          4,
          4,
          4,
          2,
          4,
          4,
          2,
          2,
          2,
          4,
          2,
          4,
          2,
          4,
          2,
          4,
          4,
          2,
          2,
          4,
          2,
          8,
          4,
          4,
          2,
          2,
          5,
          4,
          4,
          2,
          2,
          4,
          4,
          4,
          4,
          4,
          2,
          4,
          2,
          2,
          4,
          2,
          2,
          2,
          2,
          4,
          2,
          2,
          1,
          4,
          4,
          4,
          2,
          2,
          2,
          4,
          2,
          4,
          2,
          4,
          2,
          8,
          2,
          1,
          2,
          2,
          2,
          4,
          4,
          2,
          4,
          4,
          4,
          4,
          4,
          4,
          4,
          4,
          4,
          4,
          2,
          2,
          2,
          4,
          4,
          4,
          2,
          4,
          8,
          2,
          2,
          4,
          2,
          4,
          2,
          2,
          4,
          1,
          4,
          2,
          2,
          2,
          4,
          4,
          2,
          4,
          4,
          4,
          2,
          4,
          4,
          2,
          2,
          2,
          4,
          2,
          4,
          4,
          4,
          4,
          1,
          2,
          4,
          2,
          9,
          4,
          4,
          2,
          2,
          2,
          2,
          4,
          4,
          2,
          2,
          4,
          4,
          4,
          4,
          2,
          4,
          4,
          2,
          4,
          4,
          2,
          4,
          2,
          2,
          2,
          4,
          4,
          2,
          2,
          4,
          2,
          2,
          2,
          4,
          2,
          4,
          4,
          2,
          2,
          4,
          2,
          2,
          2,
          4,
          2,
          2,
          2,
          2,
          4,
          2,
          2,
          4,
          2,
          4,
          8,
          2,
          4,
          4,
          2,
          2,
          4,
          4,
          2,
          4,
          4,
          2,
          2,
          2,
          2,
          4,
          2,
          2,
          2,
          4,
          2,
          2,
          2,
          2,
          2,
          4,
          2,
          4,
          2,
          2,
          4,
          2,
          4,
          2,
          4,
          2,
          2,
          2,
          2,
          2,
          2,
          2,
          4,
          4,
          4,
          2,
          2,
          2,
          4,
          4,
          4,
          2,
          4,
          2,
          4,
          4,
          2,
          4,
          8,
          2,
          2,
          4,
          2,
          2,
          2,
          2,
          2,
          2,
          4,
          4,
          4,
          2,
          2,
          2,
          4,
          4,
          4,
          2,
          4,
          4,
          2,
          4,
          4,
          2,
          2,
          2,
          2,
          4,
          4,
          2,
          2,
          4,
          4,
          8,
          2,
          2,
          4,
          4,
          5,
          8,
          4,
          2,
          2,
          2,
          2,
          2,
          4,
          2,
          2,
          4,
          2
         ],
         "xaxis": "x",
         "yaxis": "y"
        },
        {
         "alignmentgroup": "True",
         "bingroup": "x",
         "hovertemplate": "FirstYearPersistence=0<br>Funding=%{x}<br>count=%{y}<extra></extra>",
         "legendgroup": "0",
         "marker": {
          "color": "#EF553B",
          "pattern": {
           "shape": ""
          }
         },
         "name": "0",
         "offsetgroup": "0",
         "orientation": "v",
         "showlegend": true,
         "type": "histogram",
         "x": [
          2,
          2,
          2,
          2,
          2,
          2,
          2,
          2,
          4,
          2,
          2,
          2,
          2,
          4,
          2,
          4,
          2,
          2,
          4,
          2,
          2,
          2,
          2,
          4,
          2,
          2,
          2,
          4,
          4,
          2,
          2,
          2,
          2,
          2,
          4,
          4,
          4,
          2,
          2,
          2,
          1,
          2,
          2,
          2,
          2,
          4,
          2,
          2,
          2,
          4,
          2,
          2,
          2,
          2,
          2,
          2,
          2,
          4,
          2,
          4,
          2,
          4,
          4,
          2,
          2,
          2,
          4,
          2,
          4,
          2,
          4,
          2,
          2,
          2,
          2,
          2,
          2,
          4,
          2,
          2,
          2,
          2,
          2,
          2,
          2,
          4,
          4,
          2,
          2,
          2,
          2,
          2,
          2,
          2,
          2,
          2,
          2,
          2,
          2,
          2,
          2,
          2,
          2,
          2,
          2,
          2,
          2,
          2,
          4,
          2,
          2,
          4,
          2,
          2,
          2,
          2,
          2,
          2,
          2,
          2,
          2,
          2,
          2,
          2,
          2,
          2,
          2,
          2,
          2,
          2,
          2,
          2,
          2,
          2,
          2,
          2,
          2,
          4,
          2,
          2,
          2,
          4,
          2,
          2,
          2,
          2,
          2,
          2,
          2,
          2,
          2,
          2,
          2,
          2,
          4,
          2,
          2,
          2,
          4,
          2,
          2,
          4,
          4,
          2,
          1,
          2,
          2,
          2,
          4,
          2,
          2,
          2,
          2,
          4,
          2,
          2,
          2,
          2,
          2,
          4,
          2,
          4,
          2,
          4,
          2,
          2,
          1,
          2,
          2,
          2,
          2,
          4,
          2,
          4,
          4,
          2,
          2,
          2,
          2,
          2,
          2,
          2,
          2,
          2,
          2,
          2,
          2,
          4,
          2,
          2,
          2,
          2,
          2,
          2,
          4,
          2,
          2,
          2,
          4,
          2,
          2,
          2,
          4,
          4,
          2,
          2,
          4,
          2,
          2,
          4,
          2,
          2,
          2,
          4,
          2,
          4,
          2,
          4,
          2,
          2,
          2,
          2,
          2,
          2,
          2,
          2,
          2,
          2,
          2,
          2,
          2,
          2,
          2,
          2,
          2,
          2,
          2,
          2,
          2,
          2,
          2,
          4,
          4,
          8,
          2,
          4,
          4,
          2,
          2,
          4,
          2,
          4,
          4,
          4,
          1,
          2,
          2,
          4,
          2,
          4,
          2,
          2,
          2,
          2,
          2,
          2,
          2,
          8,
          2,
          2,
          4,
          2,
          2,
          2,
          8,
          2,
          2,
          4
         ],
         "xaxis": "x",
         "yaxis": "y"
        }
       ],
       "layout": {
        "barmode": "group",
        "legend": {
         "title": {
          "text": "FirstYearPersistence"
         },
         "tracegroupgap": 0
        },
        "template": {
         "data": {
          "bar": [
           {
            "error_x": {
             "color": "#2a3f5f"
            },
            "error_y": {
             "color": "#2a3f5f"
            },
            "marker": {
             "line": {
              "color": "#E5ECF6",
              "width": 0.5
             },
             "pattern": {
              "fillmode": "overlay",
              "size": 10,
              "solidity": 0.2
             }
            },
            "type": "bar"
           }
          ],
          "barpolar": [
           {
            "marker": {
             "line": {
              "color": "#E5ECF6",
              "width": 0.5
             },
             "pattern": {
              "fillmode": "overlay",
              "size": 10,
              "solidity": 0.2
             }
            },
            "type": "barpolar"
           }
          ],
          "carpet": [
           {
            "aaxis": {
             "endlinecolor": "#2a3f5f",
             "gridcolor": "white",
             "linecolor": "white",
             "minorgridcolor": "white",
             "startlinecolor": "#2a3f5f"
            },
            "baxis": {
             "endlinecolor": "#2a3f5f",
             "gridcolor": "white",
             "linecolor": "white",
             "minorgridcolor": "white",
             "startlinecolor": "#2a3f5f"
            },
            "type": "carpet"
           }
          ],
          "choropleth": [
           {
            "colorbar": {
             "outlinewidth": 0,
             "ticks": ""
            },
            "type": "choropleth"
           }
          ],
          "contour": [
           {
            "colorbar": {
             "outlinewidth": 0,
             "ticks": ""
            },
            "colorscale": [
             [
              0,
              "#0d0887"
             ],
             [
              0.1111111111111111,
              "#46039f"
             ],
             [
              0.2222222222222222,
              "#7201a8"
             ],
             [
              0.3333333333333333,
              "#9c179e"
             ],
             [
              0.4444444444444444,
              "#bd3786"
             ],
             [
              0.5555555555555556,
              "#d8576b"
             ],
             [
              0.6666666666666666,
              "#ed7953"
             ],
             [
              0.7777777777777778,
              "#fb9f3a"
             ],
             [
              0.8888888888888888,
              "#fdca26"
             ],
             [
              1,
              "#f0f921"
             ]
            ],
            "type": "contour"
           }
          ],
          "contourcarpet": [
           {
            "colorbar": {
             "outlinewidth": 0,
             "ticks": ""
            },
            "type": "contourcarpet"
           }
          ],
          "heatmap": [
           {
            "colorbar": {
             "outlinewidth": 0,
             "ticks": ""
            },
            "colorscale": [
             [
              0,
              "#0d0887"
             ],
             [
              0.1111111111111111,
              "#46039f"
             ],
             [
              0.2222222222222222,
              "#7201a8"
             ],
             [
              0.3333333333333333,
              "#9c179e"
             ],
             [
              0.4444444444444444,
              "#bd3786"
             ],
             [
              0.5555555555555556,
              "#d8576b"
             ],
             [
              0.6666666666666666,
              "#ed7953"
             ],
             [
              0.7777777777777778,
              "#fb9f3a"
             ],
             [
              0.8888888888888888,
              "#fdca26"
             ],
             [
              1,
              "#f0f921"
             ]
            ],
            "type": "heatmap"
           }
          ],
          "heatmapgl": [
           {
            "colorbar": {
             "outlinewidth": 0,
             "ticks": ""
            },
            "colorscale": [
             [
              0,
              "#0d0887"
             ],
             [
              0.1111111111111111,
              "#46039f"
             ],
             [
              0.2222222222222222,
              "#7201a8"
             ],
             [
              0.3333333333333333,
              "#9c179e"
             ],
             [
              0.4444444444444444,
              "#bd3786"
             ],
             [
              0.5555555555555556,
              "#d8576b"
             ],
             [
              0.6666666666666666,
              "#ed7953"
             ],
             [
              0.7777777777777778,
              "#fb9f3a"
             ],
             [
              0.8888888888888888,
              "#fdca26"
             ],
             [
              1,
              "#f0f921"
             ]
            ],
            "type": "heatmapgl"
           }
          ],
          "histogram": [
           {
            "marker": {
             "pattern": {
              "fillmode": "overlay",
              "size": 10,
              "solidity": 0.2
             }
            },
            "type": "histogram"
           }
          ],
          "histogram2d": [
           {
            "colorbar": {
             "outlinewidth": 0,
             "ticks": ""
            },
            "colorscale": [
             [
              0,
              "#0d0887"
             ],
             [
              0.1111111111111111,
              "#46039f"
             ],
             [
              0.2222222222222222,
              "#7201a8"
             ],
             [
              0.3333333333333333,
              "#9c179e"
             ],
             [
              0.4444444444444444,
              "#bd3786"
             ],
             [
              0.5555555555555556,
              "#d8576b"
             ],
             [
              0.6666666666666666,
              "#ed7953"
             ],
             [
              0.7777777777777778,
              "#fb9f3a"
             ],
             [
              0.8888888888888888,
              "#fdca26"
             ],
             [
              1,
              "#f0f921"
             ]
            ],
            "type": "histogram2d"
           }
          ],
          "histogram2dcontour": [
           {
            "colorbar": {
             "outlinewidth": 0,
             "ticks": ""
            },
            "colorscale": [
             [
              0,
              "#0d0887"
             ],
             [
              0.1111111111111111,
              "#46039f"
             ],
             [
              0.2222222222222222,
              "#7201a8"
             ],
             [
              0.3333333333333333,
              "#9c179e"
             ],
             [
              0.4444444444444444,
              "#bd3786"
             ],
             [
              0.5555555555555556,
              "#d8576b"
             ],
             [
              0.6666666666666666,
              "#ed7953"
             ],
             [
              0.7777777777777778,
              "#fb9f3a"
             ],
             [
              0.8888888888888888,
              "#fdca26"
             ],
             [
              1,
              "#f0f921"
             ]
            ],
            "type": "histogram2dcontour"
           }
          ],
          "mesh3d": [
           {
            "colorbar": {
             "outlinewidth": 0,
             "ticks": ""
            },
            "type": "mesh3d"
           }
          ],
          "parcoords": [
           {
            "line": {
             "colorbar": {
              "outlinewidth": 0,
              "ticks": ""
             }
            },
            "type": "parcoords"
           }
          ],
          "pie": [
           {
            "automargin": true,
            "type": "pie"
           }
          ],
          "scatter": [
           {
            "fillpattern": {
             "fillmode": "overlay",
             "size": 10,
             "solidity": 0.2
            },
            "type": "scatter"
           }
          ],
          "scatter3d": [
           {
            "line": {
             "colorbar": {
              "outlinewidth": 0,
              "ticks": ""
             }
            },
            "marker": {
             "colorbar": {
              "outlinewidth": 0,
              "ticks": ""
             }
            },
            "type": "scatter3d"
           }
          ],
          "scattercarpet": [
           {
            "marker": {
             "colorbar": {
              "outlinewidth": 0,
              "ticks": ""
             }
            },
            "type": "scattercarpet"
           }
          ],
          "scattergeo": [
           {
            "marker": {
             "colorbar": {
              "outlinewidth": 0,
              "ticks": ""
             }
            },
            "type": "scattergeo"
           }
          ],
          "scattergl": [
           {
            "marker": {
             "colorbar": {
              "outlinewidth": 0,
              "ticks": ""
             }
            },
            "type": "scattergl"
           }
          ],
          "scattermapbox": [
           {
            "marker": {
             "colorbar": {
              "outlinewidth": 0,
              "ticks": ""
             }
            },
            "type": "scattermapbox"
           }
          ],
          "scatterpolar": [
           {
            "marker": {
             "colorbar": {
              "outlinewidth": 0,
              "ticks": ""
             }
            },
            "type": "scatterpolar"
           }
          ],
          "scatterpolargl": [
           {
            "marker": {
             "colorbar": {
              "outlinewidth": 0,
              "ticks": ""
             }
            },
            "type": "scatterpolargl"
           }
          ],
          "scatterternary": [
           {
            "marker": {
             "colorbar": {
              "outlinewidth": 0,
              "ticks": ""
             }
            },
            "type": "scatterternary"
           }
          ],
          "surface": [
           {
            "colorbar": {
             "outlinewidth": 0,
             "ticks": ""
            },
            "colorscale": [
             [
              0,
              "#0d0887"
             ],
             [
              0.1111111111111111,
              "#46039f"
             ],
             [
              0.2222222222222222,
              "#7201a8"
             ],
             [
              0.3333333333333333,
              "#9c179e"
             ],
             [
              0.4444444444444444,
              "#bd3786"
             ],
             [
              0.5555555555555556,
              "#d8576b"
             ],
             [
              0.6666666666666666,
              "#ed7953"
             ],
             [
              0.7777777777777778,
              "#fb9f3a"
             ],
             [
              0.8888888888888888,
              "#fdca26"
             ],
             [
              1,
              "#f0f921"
             ]
            ],
            "type": "surface"
           }
          ],
          "table": [
           {
            "cells": {
             "fill": {
              "color": "#EBF0F8"
             },
             "line": {
              "color": "white"
             }
            },
            "header": {
             "fill": {
              "color": "#C8D4E3"
             },
             "line": {
              "color": "white"
             }
            },
            "type": "table"
           }
          ]
         },
         "layout": {
          "annotationdefaults": {
           "arrowcolor": "#2a3f5f",
           "arrowhead": 0,
           "arrowwidth": 1
          },
          "autotypenumbers": "strict",
          "coloraxis": {
           "colorbar": {
            "outlinewidth": 0,
            "ticks": ""
           }
          },
          "colorscale": {
           "diverging": [
            [
             0,
             "#8e0152"
            ],
            [
             0.1,
             "#c51b7d"
            ],
            [
             0.2,
             "#de77ae"
            ],
            [
             0.3,
             "#f1b6da"
            ],
            [
             0.4,
             "#fde0ef"
            ],
            [
             0.5,
             "#f7f7f7"
            ],
            [
             0.6,
             "#e6f5d0"
            ],
            [
             0.7,
             "#b8e186"
            ],
            [
             0.8,
             "#7fbc41"
            ],
            [
             0.9,
             "#4d9221"
            ],
            [
             1,
             "#276419"
            ]
           ],
           "sequential": [
            [
             0,
             "#0d0887"
            ],
            [
             0.1111111111111111,
             "#46039f"
            ],
            [
             0.2222222222222222,
             "#7201a8"
            ],
            [
             0.3333333333333333,
             "#9c179e"
            ],
            [
             0.4444444444444444,
             "#bd3786"
            ],
            [
             0.5555555555555556,
             "#d8576b"
            ],
            [
             0.6666666666666666,
             "#ed7953"
            ],
            [
             0.7777777777777778,
             "#fb9f3a"
            ],
            [
             0.8888888888888888,
             "#fdca26"
            ],
            [
             1,
             "#f0f921"
            ]
           ],
           "sequentialminus": [
            [
             0,
             "#0d0887"
            ],
            [
             0.1111111111111111,
             "#46039f"
            ],
            [
             0.2222222222222222,
             "#7201a8"
            ],
            [
             0.3333333333333333,
             "#9c179e"
            ],
            [
             0.4444444444444444,
             "#bd3786"
            ],
            [
             0.5555555555555556,
             "#d8576b"
            ],
            [
             0.6666666666666666,
             "#ed7953"
            ],
            [
             0.7777777777777778,
             "#fb9f3a"
            ],
            [
             0.8888888888888888,
             "#fdca26"
            ],
            [
             1,
             "#f0f921"
            ]
           ]
          },
          "colorway": [
           "#636efa",
           "#EF553B",
           "#00cc96",
           "#ab63fa",
           "#FFA15A",
           "#19d3f3",
           "#FF6692",
           "#B6E880",
           "#FF97FF",
           "#FECB52"
          ],
          "font": {
           "color": "#2a3f5f"
          },
          "geo": {
           "bgcolor": "white",
           "lakecolor": "white",
           "landcolor": "#E5ECF6",
           "showlakes": true,
           "showland": true,
           "subunitcolor": "white"
          },
          "hoverlabel": {
           "align": "left"
          },
          "hovermode": "closest",
          "mapbox": {
           "style": "light"
          },
          "paper_bgcolor": "white",
          "plot_bgcolor": "#E5ECF6",
          "polar": {
           "angularaxis": {
            "gridcolor": "white",
            "linecolor": "white",
            "ticks": ""
           },
           "bgcolor": "#E5ECF6",
           "radialaxis": {
            "gridcolor": "white",
            "linecolor": "white",
            "ticks": ""
           }
          },
          "scene": {
           "xaxis": {
            "backgroundcolor": "#E5ECF6",
            "gridcolor": "white",
            "gridwidth": 2,
            "linecolor": "white",
            "showbackground": true,
            "ticks": "",
            "zerolinecolor": "white"
           },
           "yaxis": {
            "backgroundcolor": "#E5ECF6",
            "gridcolor": "white",
            "gridwidth": 2,
            "linecolor": "white",
            "showbackground": true,
            "ticks": "",
            "zerolinecolor": "white"
           },
           "zaxis": {
            "backgroundcolor": "#E5ECF6",
            "gridcolor": "white",
            "gridwidth": 2,
            "linecolor": "white",
            "showbackground": true,
            "ticks": "",
            "zerolinecolor": "white"
           }
          },
          "shapedefaults": {
           "line": {
            "color": "#2a3f5f"
           }
          },
          "ternary": {
           "aaxis": {
            "gridcolor": "white",
            "linecolor": "white",
            "ticks": ""
           },
           "baxis": {
            "gridcolor": "white",
            "linecolor": "white",
            "ticks": ""
           },
           "bgcolor": "#E5ECF6",
           "caxis": {
            "gridcolor": "white",
            "linecolor": "white",
            "ticks": ""
           }
          },
          "title": {
           "x": 0.05
          },
          "xaxis": {
           "automargin": true,
           "gridcolor": "white",
           "linecolor": "white",
           "ticks": "",
           "title": {
            "standoff": 15
           },
           "zerolinecolor": "white",
           "zerolinewidth": 2
          },
          "yaxis": {
           "automargin": true,
           "gridcolor": "white",
           "linecolor": "white",
           "ticks": "",
           "title": {
            "standoff": 15
           },
           "zerolinecolor": "white",
           "zerolinewidth": 2
          }
         }
        },
        "title": {
         "text": "Bar Plot of Funding vs FirstYearPersistence"
        },
        "xaxis": {
         "anchor": "y",
         "domain": [
          0,
          1
         ],
         "title": {
          "text": "Funding"
         },
         "type": "category"
        },
        "yaxis": {
         "anchor": "x",
         "domain": [
          0,
          1
         ],
         "title": {
          "text": "count"
         }
        }
       }
      }
     },
     "metadata": {},
     "output_type": "display_data"
    },
    {
     "data": {
      "application/vnd.plotly.v1+json": {
       "config": {
        "plotlyServerURL": "https://plot.ly"
       },
       "data": [
        {
         "alignmentgroup": "True",
         "bingroup": "x",
         "hovertemplate": "FirstYearPersistence=1<br>School=%{x}<br>count=%{y}<extra></extra>",
         "legendgroup": "1",
         "marker": {
          "color": "#636efa",
          "pattern": {
           "shape": ""
          }
         },
         "name": "1",
         "offsetgroup": "1",
         "orientation": "v",
         "showlegend": true,
         "type": "histogram",
         "x": [
          6,
          6,
          6,
          6,
          6,
          6,
          6,
          6,
          6,
          6,
          6,
          6,
          6,
          6,
          6,
          6,
          6,
          6,
          6,
          6,
          6,
          6,
          6,
          6,
          6,
          6,
          6,
          6,
          6,
          6,
          6,
          6,
          6,
          6,
          6,
          6,
          6,
          6,
          6,
          6,
          6,
          6,
          6,
          6,
          6,
          6,
          6,
          6,
          6,
          6,
          6,
          6,
          6,
          6,
          6,
          6,
          6,
          6,
          6,
          6,
          6,
          6,
          6,
          6,
          6,
          6,
          6,
          6,
          6,
          6,
          6,
          6,
          6,
          6,
          6,
          6,
          6,
          6,
          6,
          6,
          6,
          6,
          6,
          6,
          6,
          6,
          6,
          6,
          6,
          6,
          6,
          6,
          6,
          6,
          6,
          6,
          6,
          6,
          6,
          6,
          6,
          6,
          6,
          6,
          6,
          6,
          6,
          6,
          6,
          6,
          6,
          6,
          6,
          6,
          6,
          6,
          6,
          6,
          6,
          6,
          6,
          6,
          6,
          6,
          6,
          6,
          6,
          6,
          6,
          6,
          6,
          6,
          6,
          6,
          6,
          6,
          6,
          6,
          6,
          6,
          6,
          6,
          6,
          6,
          6,
          6,
          6,
          6,
          6,
          6,
          6,
          6,
          6,
          6,
          6,
          6,
          6,
          6,
          6,
          6,
          6,
          6,
          6,
          6,
          6,
          6,
          6,
          6,
          6,
          6,
          6,
          6,
          6,
          6,
          6,
          6,
          6,
          6,
          6,
          6,
          6,
          6,
          6,
          6,
          6,
          6,
          6,
          6,
          6,
          6,
          6,
          6,
          6,
          6,
          6,
          6,
          6,
          6,
          6,
          6,
          6,
          6,
          6,
          6,
          6,
          6,
          6,
          6,
          6,
          6,
          6,
          6,
          6,
          6,
          6,
          6,
          6,
          6,
          6,
          6,
          6,
          6,
          6,
          6,
          6,
          6,
          6,
          6,
          6,
          6,
          6,
          6,
          6,
          6,
          6,
          6,
          6,
          6,
          6,
          6,
          6,
          6,
          6,
          6,
          6,
          6,
          6,
          6,
          6,
          6,
          6,
          6,
          6,
          6,
          6,
          6,
          6,
          6,
          6,
          6,
          6,
          6,
          6,
          6,
          6,
          6,
          6,
          6,
          6,
          6,
          6,
          6,
          6,
          6,
          6,
          6,
          6,
          6,
          6,
          6,
          6,
          6,
          6,
          6,
          6,
          6,
          6,
          6,
          6,
          6,
          6,
          6,
          6,
          6,
          6,
          6,
          6,
          6,
          6,
          6,
          6,
          6,
          6,
          6,
          6,
          6,
          6,
          6,
          6,
          6,
          6,
          6,
          6,
          6,
          6,
          6,
          6,
          6,
          6,
          6,
          6,
          6,
          6,
          6,
          6,
          6,
          6,
          6,
          6,
          6,
          6,
          6,
          6,
          6,
          6,
          6,
          6,
          6,
          6,
          6,
          6,
          6,
          6,
          6,
          6,
          6,
          6,
          6,
          6,
          6,
          6,
          6,
          6,
          6,
          6,
          6,
          6,
          6,
          6,
          6,
          6,
          6,
          6,
          6,
          6,
          6,
          6,
          6,
          6,
          6,
          6,
          6,
          6,
          6,
          6,
          6,
          6,
          6,
          6,
          6,
          6,
          6,
          6,
          6,
          6,
          6,
          6,
          6,
          6,
          6,
          6,
          6,
          6,
          6,
          6,
          6,
          6,
          6,
          6,
          6,
          6,
          6,
          6,
          6,
          6,
          6,
          6,
          6,
          6,
          6,
          6,
          6,
          6,
          6,
          6,
          6,
          6,
          6,
          6,
          6,
          6,
          6,
          6,
          6,
          6,
          6,
          6,
          6,
          6,
          6,
          6,
          6,
          6,
          6,
          6,
          6,
          6,
          6,
          6,
          6,
          6,
          6,
          6,
          6,
          6,
          6,
          6,
          6,
          6,
          6,
          6,
          6,
          6,
          6,
          6,
          6,
          6,
          6,
          6,
          6,
          6,
          6,
          6,
          6,
          6,
          6,
          6,
          6,
          6,
          6,
          6,
          6,
          6,
          6,
          6,
          6,
          6,
          6,
          6,
          6,
          6,
          6,
          6,
          6,
          6,
          6,
          6,
          6,
          6,
          6,
          6,
          6,
          6,
          6,
          6,
          6,
          6,
          6,
          6,
          6,
          6,
          6,
          6,
          6,
          6,
          6,
          6,
          6,
          6,
          6,
          6,
          6,
          6,
          6,
          6,
          6,
          6,
          6,
          6,
          6,
          6,
          6,
          6,
          6,
          6,
          6,
          6,
          6,
          6,
          6,
          6,
          6,
          6,
          6,
          6,
          6,
          6,
          6,
          6,
          6,
          6,
          6,
          6,
          6,
          6,
          6,
          6,
          6,
          6,
          6,
          6,
          6,
          6,
          6,
          6,
          6,
          6,
          6,
          6,
          6,
          6,
          6,
          6,
          6,
          6,
          6,
          6,
          6,
          6,
          6,
          6,
          6,
          6,
          6,
          6,
          6,
          6,
          6,
          6,
          6,
          6,
          6,
          6,
          6,
          6,
          6,
          6,
          6,
          6,
          6,
          6,
          6,
          6,
          6,
          6,
          6,
          6,
          6,
          6,
          6,
          6,
          6,
          6,
          6,
          6,
          6,
          6,
          6,
          6,
          6,
          6,
          6,
          6,
          6,
          6,
          6,
          6,
          6,
          6,
          6,
          6,
          6,
          6,
          6,
          6,
          6,
          6,
          6,
          6,
          6,
          6,
          6,
          6,
          6,
          6,
          6,
          6,
          6,
          6,
          6,
          6,
          6,
          6,
          6,
          6,
          6,
          6,
          6,
          6,
          6,
          6,
          6,
          6,
          6,
          6,
          6,
          6,
          6,
          6,
          6,
          6,
          6,
          6,
          6,
          6,
          6,
          6,
          6,
          6,
          6,
          6,
          6,
          6,
          6,
          6,
          6,
          6,
          6,
          6,
          6,
          6,
          6,
          6,
          6,
          6,
          6,
          6,
          6,
          6,
          6,
          6,
          6,
          6,
          6,
          6,
          6,
          6,
          6,
          6,
          6,
          6,
          6,
          6,
          6,
          6,
          6,
          6,
          6,
          6,
          6,
          6,
          6,
          6,
          6,
          6,
          6,
          6,
          6,
          6,
          6,
          6,
          6,
          6,
          6,
          6,
          6,
          6,
          6,
          6,
          6,
          6,
          6,
          6,
          6,
          6,
          6,
          6,
          6,
          6,
          6,
          6,
          6,
          6,
          6,
          6,
          6,
          6,
          6,
          6,
          6,
          6,
          6,
          6,
          6,
          6,
          6,
          6,
          6,
          6,
          6,
          6,
          6,
          6,
          6,
          6,
          6,
          6,
          6,
          6,
          6,
          6,
          6,
          6,
          6,
          6,
          6,
          6,
          6,
          6,
          6,
          6,
          6,
          6,
          6,
          6,
          6,
          6,
          6,
          6,
          6,
          6,
          6,
          6,
          6,
          6,
          6,
          6,
          6,
          6,
          6,
          6,
          6,
          6,
          6,
          6,
          6,
          6,
          6,
          6,
          6,
          6,
          6,
          6,
          6,
          6,
          6,
          6,
          6,
          6,
          6,
          6,
          6,
          6,
          6,
          6,
          6,
          6,
          6,
          6,
          6,
          6,
          6,
          6,
          6,
          6,
          6,
          6,
          6,
          6,
          6,
          6,
          6,
          6,
          6,
          6,
          6,
          6,
          6,
          6,
          6,
          6,
          6,
          6,
          6,
          6,
          6,
          6,
          6,
          6,
          6,
          6,
          6,
          6,
          6,
          6,
          6,
          6,
          6,
          6,
          6,
          6,
          6,
          6,
          6,
          6,
          6,
          6,
          6,
          6,
          6,
          6,
          6,
          6,
          6,
          6,
          6,
          6,
          6,
          6,
          6,
          6,
          6,
          6,
          6,
          6,
          6,
          6,
          6,
          6,
          6,
          6,
          6,
          6,
          6,
          6,
          6,
          6,
          6,
          6,
          6,
          6,
          6,
          6,
          6,
          6,
          6,
          6,
          6,
          6,
          6,
          6,
          6,
          6,
          6,
          6,
          6,
          6,
          6,
          6,
          6,
          6,
          6,
          6,
          6,
          6,
          6,
          6,
          6,
          6,
          6,
          6,
          6,
          6,
          6,
          6,
          6,
          6,
          6,
          6,
          6,
          6,
          6,
          6,
          6,
          6,
          6,
          6,
          6,
          6,
          6,
          6,
          6,
          6,
          6,
          6,
          6,
          6,
          6,
          6,
          6,
          6,
          6,
          6,
          6,
          6,
          6,
          6,
          6,
          6,
          6,
          6,
          6,
          6,
          6,
          6,
          6,
          6,
          6,
          6,
          6,
          6,
          6,
          6,
          6,
          6,
          6,
          6,
          6,
          6,
          6,
          6,
          6,
          6,
          6,
          6,
          6,
          6,
          6,
          6,
          6,
          6,
          6,
          6,
          6,
          6,
          6,
          6,
          6,
          6,
          6,
          6,
          6,
          6,
          6,
          6,
          6,
          6,
          6,
          6,
          6,
          6,
          6,
          6,
          6,
          6,
          6,
          6,
          6,
          6,
          6,
          6,
          6,
          6,
          6,
          6,
          6,
          6,
          6,
          6,
          6,
          6,
          6,
          6,
          6,
          6,
          6,
          6,
          6,
          6,
          6,
          6,
          6,
          6,
          6,
          6,
          6,
          6,
          6,
          6,
          6,
          6,
          6,
          6,
          6,
          6,
          6,
          6,
          6,
          6,
          6,
          6,
          6,
          6,
          6,
          6,
          6,
          6,
          6,
          6,
          6,
          6,
          6,
          6,
          6,
          6,
          6,
          6,
          6,
          6,
          6,
          6,
          6,
          6,
          6,
          6,
          6,
          6,
          6,
          6,
          6,
          6,
          6,
          6,
          6,
          6,
          6,
          6,
          6,
          6,
          6,
          6,
          6,
          6,
          6,
          6,
          6,
          6,
          6,
          6,
          6,
          6,
          6,
          6,
          6,
          6
         ],
         "xaxis": "x",
         "yaxis": "y"
        },
        {
         "alignmentgroup": "True",
         "bingroup": "x",
         "hovertemplate": "FirstYearPersistence=0<br>School=%{x}<br>count=%{y}<extra></extra>",
         "legendgroup": "0",
         "marker": {
          "color": "#EF553B",
          "pattern": {
           "shape": ""
          }
         },
         "name": "0",
         "offsetgroup": "0",
         "orientation": "v",
         "showlegend": true,
         "type": "histogram",
         "x": [
          6,
          6,
          6,
          6,
          6,
          6,
          6,
          6,
          6,
          6,
          6,
          6,
          6,
          6,
          6,
          6,
          6,
          6,
          6,
          6,
          6,
          6,
          6,
          6,
          6,
          6,
          6,
          6,
          6,
          6,
          6,
          6,
          6,
          6,
          6,
          6,
          6,
          6,
          6,
          6,
          6,
          6,
          6,
          6,
          6,
          6,
          6,
          6,
          6,
          6,
          6,
          6,
          6,
          6,
          6,
          6,
          6,
          6,
          6,
          6,
          6,
          6,
          6,
          6,
          6,
          6,
          6,
          6,
          6,
          6,
          6,
          6,
          6,
          6,
          6,
          6,
          6,
          6,
          6,
          6,
          6,
          6,
          6,
          6,
          6,
          6,
          6,
          6,
          6,
          6,
          6,
          6,
          6,
          6,
          6,
          6,
          6,
          6,
          6,
          6,
          6,
          6,
          6,
          6,
          6,
          6,
          6,
          6,
          6,
          6,
          6,
          6,
          6,
          6,
          6,
          6,
          6,
          6,
          6,
          6,
          6,
          6,
          6,
          6,
          6,
          6,
          6,
          6,
          6,
          6,
          6,
          6,
          6,
          6,
          6,
          6,
          6,
          6,
          6,
          6,
          6,
          6,
          6,
          6,
          6,
          6,
          6,
          6,
          6,
          6,
          6,
          6,
          6,
          6,
          6,
          6,
          6,
          6,
          6,
          6,
          6,
          6,
          6,
          6,
          6,
          6,
          6,
          6,
          6,
          6,
          6,
          6,
          6,
          6,
          6,
          6,
          6,
          6,
          6,
          6,
          6,
          6,
          6,
          6,
          6,
          6,
          6,
          6,
          6,
          6,
          6,
          6,
          6,
          6,
          6,
          6,
          6,
          6,
          6,
          6,
          6,
          6,
          6,
          6,
          6,
          6,
          6,
          6,
          6,
          6,
          6,
          6,
          6,
          6,
          6,
          6,
          6,
          6,
          6,
          6,
          6,
          6,
          6,
          6,
          6,
          6,
          6,
          6,
          6,
          6,
          6,
          6,
          6,
          6,
          6,
          6,
          6,
          6,
          6,
          6,
          6,
          6,
          6,
          6,
          6,
          6,
          6,
          6,
          6,
          6,
          6,
          6,
          6,
          6,
          6,
          6,
          6,
          6,
          6,
          6,
          6,
          6,
          6,
          6,
          6,
          6,
          6,
          6,
          6,
          6,
          6,
          6,
          6,
          6,
          6,
          6,
          6,
          6,
          6,
          6,
          6,
          6,
          6,
          6,
          6,
          6,
          6,
          6,
          6,
          6,
          6,
          6,
          6,
          6,
          6,
          6,
          6,
          6
         ],
         "xaxis": "x",
         "yaxis": "y"
        }
       ],
       "layout": {
        "barmode": "group",
        "legend": {
         "title": {
          "text": "FirstYearPersistence"
         },
         "tracegroupgap": 0
        },
        "template": {
         "data": {
          "bar": [
           {
            "error_x": {
             "color": "#2a3f5f"
            },
            "error_y": {
             "color": "#2a3f5f"
            },
            "marker": {
             "line": {
              "color": "#E5ECF6",
              "width": 0.5
             },
             "pattern": {
              "fillmode": "overlay",
              "size": 10,
              "solidity": 0.2
             }
            },
            "type": "bar"
           }
          ],
          "barpolar": [
           {
            "marker": {
             "line": {
              "color": "#E5ECF6",
              "width": 0.5
             },
             "pattern": {
              "fillmode": "overlay",
              "size": 10,
              "solidity": 0.2
             }
            },
            "type": "barpolar"
           }
          ],
          "carpet": [
           {
            "aaxis": {
             "endlinecolor": "#2a3f5f",
             "gridcolor": "white",
             "linecolor": "white",
             "minorgridcolor": "white",
             "startlinecolor": "#2a3f5f"
            },
            "baxis": {
             "endlinecolor": "#2a3f5f",
             "gridcolor": "white",
             "linecolor": "white",
             "minorgridcolor": "white",
             "startlinecolor": "#2a3f5f"
            },
            "type": "carpet"
           }
          ],
          "choropleth": [
           {
            "colorbar": {
             "outlinewidth": 0,
             "ticks": ""
            },
            "type": "choropleth"
           }
          ],
          "contour": [
           {
            "colorbar": {
             "outlinewidth": 0,
             "ticks": ""
            },
            "colorscale": [
             [
              0,
              "#0d0887"
             ],
             [
              0.1111111111111111,
              "#46039f"
             ],
             [
              0.2222222222222222,
              "#7201a8"
             ],
             [
              0.3333333333333333,
              "#9c179e"
             ],
             [
              0.4444444444444444,
              "#bd3786"
             ],
             [
              0.5555555555555556,
              "#d8576b"
             ],
             [
              0.6666666666666666,
              "#ed7953"
             ],
             [
              0.7777777777777778,
              "#fb9f3a"
             ],
             [
              0.8888888888888888,
              "#fdca26"
             ],
             [
              1,
              "#f0f921"
             ]
            ],
            "type": "contour"
           }
          ],
          "contourcarpet": [
           {
            "colorbar": {
             "outlinewidth": 0,
             "ticks": ""
            },
            "type": "contourcarpet"
           }
          ],
          "heatmap": [
           {
            "colorbar": {
             "outlinewidth": 0,
             "ticks": ""
            },
            "colorscale": [
             [
              0,
              "#0d0887"
             ],
             [
              0.1111111111111111,
              "#46039f"
             ],
             [
              0.2222222222222222,
              "#7201a8"
             ],
             [
              0.3333333333333333,
              "#9c179e"
             ],
             [
              0.4444444444444444,
              "#bd3786"
             ],
             [
              0.5555555555555556,
              "#d8576b"
             ],
             [
              0.6666666666666666,
              "#ed7953"
             ],
             [
              0.7777777777777778,
              "#fb9f3a"
             ],
             [
              0.8888888888888888,
              "#fdca26"
             ],
             [
              1,
              "#f0f921"
             ]
            ],
            "type": "heatmap"
           }
          ],
          "heatmapgl": [
           {
            "colorbar": {
             "outlinewidth": 0,
             "ticks": ""
            },
            "colorscale": [
             [
              0,
              "#0d0887"
             ],
             [
              0.1111111111111111,
              "#46039f"
             ],
             [
              0.2222222222222222,
              "#7201a8"
             ],
             [
              0.3333333333333333,
              "#9c179e"
             ],
             [
              0.4444444444444444,
              "#bd3786"
             ],
             [
              0.5555555555555556,
              "#d8576b"
             ],
             [
              0.6666666666666666,
              "#ed7953"
             ],
             [
              0.7777777777777778,
              "#fb9f3a"
             ],
             [
              0.8888888888888888,
              "#fdca26"
             ],
             [
              1,
              "#f0f921"
             ]
            ],
            "type": "heatmapgl"
           }
          ],
          "histogram": [
           {
            "marker": {
             "pattern": {
              "fillmode": "overlay",
              "size": 10,
              "solidity": 0.2
             }
            },
            "type": "histogram"
           }
          ],
          "histogram2d": [
           {
            "colorbar": {
             "outlinewidth": 0,
             "ticks": ""
            },
            "colorscale": [
             [
              0,
              "#0d0887"
             ],
             [
              0.1111111111111111,
              "#46039f"
             ],
             [
              0.2222222222222222,
              "#7201a8"
             ],
             [
              0.3333333333333333,
              "#9c179e"
             ],
             [
              0.4444444444444444,
              "#bd3786"
             ],
             [
              0.5555555555555556,
              "#d8576b"
             ],
             [
              0.6666666666666666,
              "#ed7953"
             ],
             [
              0.7777777777777778,
              "#fb9f3a"
             ],
             [
              0.8888888888888888,
              "#fdca26"
             ],
             [
              1,
              "#f0f921"
             ]
            ],
            "type": "histogram2d"
           }
          ],
          "histogram2dcontour": [
           {
            "colorbar": {
             "outlinewidth": 0,
             "ticks": ""
            },
            "colorscale": [
             [
              0,
              "#0d0887"
             ],
             [
              0.1111111111111111,
              "#46039f"
             ],
             [
              0.2222222222222222,
              "#7201a8"
             ],
             [
              0.3333333333333333,
              "#9c179e"
             ],
             [
              0.4444444444444444,
              "#bd3786"
             ],
             [
              0.5555555555555556,
              "#d8576b"
             ],
             [
              0.6666666666666666,
              "#ed7953"
             ],
             [
              0.7777777777777778,
              "#fb9f3a"
             ],
             [
              0.8888888888888888,
              "#fdca26"
             ],
             [
              1,
              "#f0f921"
             ]
            ],
            "type": "histogram2dcontour"
           }
          ],
          "mesh3d": [
           {
            "colorbar": {
             "outlinewidth": 0,
             "ticks": ""
            },
            "type": "mesh3d"
           }
          ],
          "parcoords": [
           {
            "line": {
             "colorbar": {
              "outlinewidth": 0,
              "ticks": ""
             }
            },
            "type": "parcoords"
           }
          ],
          "pie": [
           {
            "automargin": true,
            "type": "pie"
           }
          ],
          "scatter": [
           {
            "fillpattern": {
             "fillmode": "overlay",
             "size": 10,
             "solidity": 0.2
            },
            "type": "scatter"
           }
          ],
          "scatter3d": [
           {
            "line": {
             "colorbar": {
              "outlinewidth": 0,
              "ticks": ""
             }
            },
            "marker": {
             "colorbar": {
              "outlinewidth": 0,
              "ticks": ""
             }
            },
            "type": "scatter3d"
           }
          ],
          "scattercarpet": [
           {
            "marker": {
             "colorbar": {
              "outlinewidth": 0,
              "ticks": ""
             }
            },
            "type": "scattercarpet"
           }
          ],
          "scattergeo": [
           {
            "marker": {
             "colorbar": {
              "outlinewidth": 0,
              "ticks": ""
             }
            },
            "type": "scattergeo"
           }
          ],
          "scattergl": [
           {
            "marker": {
             "colorbar": {
              "outlinewidth": 0,
              "ticks": ""
             }
            },
            "type": "scattergl"
           }
          ],
          "scattermapbox": [
           {
            "marker": {
             "colorbar": {
              "outlinewidth": 0,
              "ticks": ""
             }
            },
            "type": "scattermapbox"
           }
          ],
          "scatterpolar": [
           {
            "marker": {
             "colorbar": {
              "outlinewidth": 0,
              "ticks": ""
             }
            },
            "type": "scatterpolar"
           }
          ],
          "scatterpolargl": [
           {
            "marker": {
             "colorbar": {
              "outlinewidth": 0,
              "ticks": ""
             }
            },
            "type": "scatterpolargl"
           }
          ],
          "scatterternary": [
           {
            "marker": {
             "colorbar": {
              "outlinewidth": 0,
              "ticks": ""
             }
            },
            "type": "scatterternary"
           }
          ],
          "surface": [
           {
            "colorbar": {
             "outlinewidth": 0,
             "ticks": ""
            },
            "colorscale": [
             [
              0,
              "#0d0887"
             ],
             [
              0.1111111111111111,
              "#46039f"
             ],
             [
              0.2222222222222222,
              "#7201a8"
             ],
             [
              0.3333333333333333,
              "#9c179e"
             ],
             [
              0.4444444444444444,
              "#bd3786"
             ],
             [
              0.5555555555555556,
              "#d8576b"
             ],
             [
              0.6666666666666666,
              "#ed7953"
             ],
             [
              0.7777777777777778,
              "#fb9f3a"
             ],
             [
              0.8888888888888888,
              "#fdca26"
             ],
             [
              1,
              "#f0f921"
             ]
            ],
            "type": "surface"
           }
          ],
          "table": [
           {
            "cells": {
             "fill": {
              "color": "#EBF0F8"
             },
             "line": {
              "color": "white"
             }
            },
            "header": {
             "fill": {
              "color": "#C8D4E3"
             },
             "line": {
              "color": "white"
             }
            },
            "type": "table"
           }
          ]
         },
         "layout": {
          "annotationdefaults": {
           "arrowcolor": "#2a3f5f",
           "arrowhead": 0,
           "arrowwidth": 1
          },
          "autotypenumbers": "strict",
          "coloraxis": {
           "colorbar": {
            "outlinewidth": 0,
            "ticks": ""
           }
          },
          "colorscale": {
           "diverging": [
            [
             0,
             "#8e0152"
            ],
            [
             0.1,
             "#c51b7d"
            ],
            [
             0.2,
             "#de77ae"
            ],
            [
             0.3,
             "#f1b6da"
            ],
            [
             0.4,
             "#fde0ef"
            ],
            [
             0.5,
             "#f7f7f7"
            ],
            [
             0.6,
             "#e6f5d0"
            ],
            [
             0.7,
             "#b8e186"
            ],
            [
             0.8,
             "#7fbc41"
            ],
            [
             0.9,
             "#4d9221"
            ],
            [
             1,
             "#276419"
            ]
           ],
           "sequential": [
            [
             0,
             "#0d0887"
            ],
            [
             0.1111111111111111,
             "#46039f"
            ],
            [
             0.2222222222222222,
             "#7201a8"
            ],
            [
             0.3333333333333333,
             "#9c179e"
            ],
            [
             0.4444444444444444,
             "#bd3786"
            ],
            [
             0.5555555555555556,
             "#d8576b"
            ],
            [
             0.6666666666666666,
             "#ed7953"
            ],
            [
             0.7777777777777778,
             "#fb9f3a"
            ],
            [
             0.8888888888888888,
             "#fdca26"
            ],
            [
             1,
             "#f0f921"
            ]
           ],
           "sequentialminus": [
            [
             0,
             "#0d0887"
            ],
            [
             0.1111111111111111,
             "#46039f"
            ],
            [
             0.2222222222222222,
             "#7201a8"
            ],
            [
             0.3333333333333333,
             "#9c179e"
            ],
            [
             0.4444444444444444,
             "#bd3786"
            ],
            [
             0.5555555555555556,
             "#d8576b"
            ],
            [
             0.6666666666666666,
             "#ed7953"
            ],
            [
             0.7777777777777778,
             "#fb9f3a"
            ],
            [
             0.8888888888888888,
             "#fdca26"
            ],
            [
             1,
             "#f0f921"
            ]
           ]
          },
          "colorway": [
           "#636efa",
           "#EF553B",
           "#00cc96",
           "#ab63fa",
           "#FFA15A",
           "#19d3f3",
           "#FF6692",
           "#B6E880",
           "#FF97FF",
           "#FECB52"
          ],
          "font": {
           "color": "#2a3f5f"
          },
          "geo": {
           "bgcolor": "white",
           "lakecolor": "white",
           "landcolor": "#E5ECF6",
           "showlakes": true,
           "showland": true,
           "subunitcolor": "white"
          },
          "hoverlabel": {
           "align": "left"
          },
          "hovermode": "closest",
          "mapbox": {
           "style": "light"
          },
          "paper_bgcolor": "white",
          "plot_bgcolor": "#E5ECF6",
          "polar": {
           "angularaxis": {
            "gridcolor": "white",
            "linecolor": "white",
            "ticks": ""
           },
           "bgcolor": "#E5ECF6",
           "radialaxis": {
            "gridcolor": "white",
            "linecolor": "white",
            "ticks": ""
           }
          },
          "scene": {
           "xaxis": {
            "backgroundcolor": "#E5ECF6",
            "gridcolor": "white",
            "gridwidth": 2,
            "linecolor": "white",
            "showbackground": true,
            "ticks": "",
            "zerolinecolor": "white"
           },
           "yaxis": {
            "backgroundcolor": "#E5ECF6",
            "gridcolor": "white",
            "gridwidth": 2,
            "linecolor": "white",
            "showbackground": true,
            "ticks": "",
            "zerolinecolor": "white"
           },
           "zaxis": {
            "backgroundcolor": "#E5ECF6",
            "gridcolor": "white",
            "gridwidth": 2,
            "linecolor": "white",
            "showbackground": true,
            "ticks": "",
            "zerolinecolor": "white"
           }
          },
          "shapedefaults": {
           "line": {
            "color": "#2a3f5f"
           }
          },
          "ternary": {
           "aaxis": {
            "gridcolor": "white",
            "linecolor": "white",
            "ticks": ""
           },
           "baxis": {
            "gridcolor": "white",
            "linecolor": "white",
            "ticks": ""
           },
           "bgcolor": "#E5ECF6",
           "caxis": {
            "gridcolor": "white",
            "linecolor": "white",
            "ticks": ""
           }
          },
          "title": {
           "x": 0.05
          },
          "xaxis": {
           "automargin": true,
           "gridcolor": "white",
           "linecolor": "white",
           "ticks": "",
           "title": {
            "standoff": 15
           },
           "zerolinecolor": "white",
           "zerolinewidth": 2
          },
          "yaxis": {
           "automargin": true,
           "gridcolor": "white",
           "linecolor": "white",
           "ticks": "",
           "title": {
            "standoff": 15
           },
           "zerolinecolor": "white",
           "zerolinewidth": 2
          }
         }
        },
        "title": {
         "text": "Bar Plot of School vs FirstYearPersistence"
        },
        "xaxis": {
         "anchor": "y",
         "domain": [
          0,
          1
         ],
         "title": {
          "text": "School"
         },
         "type": "category"
        },
        "yaxis": {
         "anchor": "x",
         "domain": [
          0,
          1
         ],
         "title": {
          "text": "count"
         }
        }
       }
      }
     },
     "metadata": {},
     "output_type": "display_data"
    },
    {
     "data": {
      "application/vnd.plotly.v1+json": {
       "config": {
        "plotlyServerURL": "https://plot.ly"
       },
       "data": [
        {
         "alignmentgroup": "True",
         "bingroup": "x",
         "hovertemplate": "FirstYearPersistence=1<br>FastTrack=%{x}<br>count=%{y}<extra></extra>",
         "legendgroup": "1",
         "marker": {
          "color": "#636efa",
          "pattern": {
           "shape": ""
          }
         },
         "name": "1",
         "offsetgroup": "1",
         "orientation": "v",
         "showlegend": true,
         "type": "histogram",
         "x": [
          2,
          1,
          2,
          1,
          1,
          2,
          2,
          2,
          2,
          1,
          2,
          2,
          2,
          2,
          1,
          2,
          1,
          1,
          2,
          1,
          2,
          1,
          2,
          2,
          2,
          1,
          1,
          1,
          2,
          2,
          2,
          2,
          2,
          2,
          2,
          2,
          2,
          2,
          2,
          1,
          2,
          2,
          1,
          2,
          2,
          2,
          2,
          2,
          1,
          1,
          2,
          2,
          2,
          2,
          2,
          1,
          1,
          2,
          1,
          2,
          2,
          2,
          2,
          2,
          2,
          1,
          2,
          2,
          2,
          1,
          2,
          2,
          2,
          2,
          2,
          2,
          2,
          2,
          2,
          2,
          2,
          2,
          2,
          2,
          2,
          2,
          2,
          1,
          1,
          2,
          1,
          1,
          2,
          1,
          2,
          2,
          1,
          1,
          1,
          1,
          2,
          1,
          2,
          1,
          2,
          2,
          2,
          2,
          2,
          1,
          2,
          2,
          2,
          2,
          2,
          2,
          2,
          2,
          1,
          1,
          2,
          2,
          1,
          2,
          2,
          1,
          1,
          2,
          2,
          2,
          1,
          1,
          2,
          2,
          2,
          2,
          1,
          2,
          2,
          2,
          1,
          2,
          2,
          2,
          2,
          2,
          2,
          1,
          2,
          1,
          1,
          2,
          2,
          1,
          2,
          2,
          2,
          2,
          2,
          2,
          2,
          2,
          2,
          2,
          2,
          2,
          2,
          2,
          2,
          2,
          1,
          2,
          1,
          2,
          1,
          2,
          1,
          2,
          1,
          2,
          2,
          2,
          1,
          2,
          1,
          2,
          1,
          1,
          2,
          1,
          2,
          1,
          2,
          1,
          2,
          1,
          2,
          2,
          2,
          1,
          2,
          2,
          2,
          2,
          2,
          2,
          2,
          2,
          1,
          2,
          1,
          2,
          1,
          2,
          1,
          2,
          2,
          1,
          2,
          1,
          2,
          2,
          2,
          2,
          2,
          2,
          2,
          2,
          1,
          2,
          1,
          2,
          2,
          2,
          2,
          2,
          2,
          2,
          2,
          2,
          2,
          2,
          2,
          1,
          2,
          2,
          2,
          2,
          2,
          2,
          2,
          2,
          2,
          2,
          2,
          2,
          1,
          2,
          2,
          2,
          2,
          2,
          1,
          2,
          1,
          1,
          1,
          1,
          2,
          1,
          2,
          2,
          2,
          2,
          2,
          1,
          2,
          2,
          2,
          1,
          2,
          1,
          2,
          2,
          2,
          2,
          2,
          2,
          2,
          1,
          2,
          1,
          2,
          2,
          2,
          1,
          2,
          1,
          2,
          2,
          2,
          2,
          2,
          2,
          2,
          2,
          2,
          2,
          2,
          2,
          2,
          1,
          2,
          1,
          2,
          2,
          2,
          1,
          2,
          2,
          2,
          1,
          2,
          2,
          2,
          2,
          2,
          2,
          1,
          2,
          2,
          2,
          2,
          2,
          2,
          2,
          1,
          2,
          2,
          1,
          2,
          1,
          2,
          2,
          1,
          1,
          1,
          2,
          2,
          2,
          1,
          2,
          2,
          1,
          2,
          1,
          2,
          1,
          1,
          2,
          1,
          2,
          2,
          1,
          2,
          2,
          2,
          2,
          2,
          2,
          1,
          2,
          2,
          2,
          1,
          2,
          2,
          2,
          2,
          1,
          1,
          2,
          1,
          2,
          1,
          2,
          2,
          2,
          2,
          2,
          1,
          2,
          2,
          2,
          2,
          2,
          2,
          2,
          2,
          2,
          1,
          2,
          2,
          2,
          1,
          1,
          1,
          2,
          2,
          2,
          2,
          2,
          1,
          2,
          2,
          2,
          1,
          2,
          2,
          2,
          2,
          1,
          2,
          2,
          1,
          2,
          2,
          1,
          2,
          2,
          2,
          1,
          2,
          1,
          2,
          2,
          1,
          2,
          1,
          1,
          2,
          1,
          2,
          2,
          2,
          2,
          2,
          2,
          2,
          2,
          2,
          1,
          2,
          1,
          2,
          2,
          2,
          2,
          1,
          1,
          2,
          2,
          2,
          2,
          1,
          1,
          2,
          1,
          2,
          2,
          1,
          2,
          2,
          2,
          1,
          2,
          2,
          2,
          2,
          2,
          2,
          1,
          2,
          2,
          2,
          2,
          2,
          2,
          1,
          2,
          2,
          2,
          1,
          1,
          2,
          1,
          2,
          1,
          2,
          2,
          2,
          2,
          1,
          2,
          2,
          1,
          2,
          1,
          1,
          1,
          2,
          2,
          1,
          1,
          2,
          2,
          2,
          2,
          1,
          2,
          2,
          2,
          1,
          1,
          2,
          1,
          1,
          2,
          2,
          2,
          2,
          1,
          2,
          2,
          2,
          2,
          2,
          2,
          2,
          2,
          1,
          1,
          2,
          1,
          2,
          2,
          2,
          2,
          2,
          2,
          2,
          2,
          2,
          1,
          2,
          2,
          2,
          2,
          2,
          2,
          2,
          2,
          2,
          2,
          2,
          1,
          2,
          2,
          1,
          1,
          2,
          2,
          2,
          2,
          2,
          1,
          2,
          1,
          2,
          2,
          1,
          1,
          2,
          2,
          2,
          1,
          1,
          2,
          1,
          2,
          2,
          2,
          1,
          2,
          2,
          2,
          2,
          2,
          2,
          2,
          1,
          1,
          1,
          1,
          2,
          2,
          2,
          1,
          2,
          1,
          2,
          1,
          1,
          2,
          2,
          1,
          1,
          2,
          2,
          2,
          2,
          1,
          2,
          2,
          2,
          2,
          2,
          2,
          1,
          2,
          2,
          1,
          2,
          1,
          2,
          2,
          1,
          2,
          2,
          2,
          2,
          2,
          2,
          2,
          1,
          1,
          2,
          2,
          2,
          2,
          1,
          2,
          2,
          2,
          1,
          1,
          2,
          2,
          2,
          2,
          2,
          1,
          1,
          2,
          1,
          2,
          2,
          1,
          2,
          1,
          1,
          1,
          2,
          2,
          2,
          2,
          2,
          2,
          1,
          2,
          2,
          2,
          2,
          2,
          2,
          2,
          2,
          2,
          2,
          1,
          2,
          1,
          1,
          2,
          2,
          2,
          1,
          2,
          2,
          1,
          2,
          2,
          2,
          1,
          2,
          2,
          2,
          2,
          2,
          2,
          1,
          2,
          1,
          2,
          2,
          2,
          2,
          2,
          2,
          1,
          2,
          2,
          1,
          2,
          2,
          2,
          1,
          2,
          2,
          2,
          1,
          2,
          1,
          1,
          2,
          1,
          2,
          2,
          1,
          2,
          1,
          1,
          2,
          2,
          2,
          2,
          1,
          2,
          1,
          2,
          2,
          2,
          2,
          1,
          2,
          2,
          1,
          2,
          2,
          2,
          2,
          2,
          1,
          2,
          1,
          1,
          1,
          2,
          2,
          1,
          1,
          2,
          2,
          2,
          1,
          1,
          2,
          2,
          2,
          2,
          1,
          2,
          1,
          1,
          1,
          2,
          2,
          2,
          2,
          2,
          1,
          1,
          1,
          2,
          2,
          1,
          1,
          2,
          2,
          2,
          1,
          2,
          2,
          2,
          1,
          2,
          2,
          2,
          1,
          2,
          1,
          2,
          2,
          2,
          2,
          2,
          1,
          2,
          2,
          2,
          2,
          2,
          2,
          2,
          1,
          2,
          2,
          2,
          2,
          1,
          2,
          1,
          2,
          2,
          2,
          1,
          2,
          2,
          2,
          1,
          2,
          2,
          1,
          1,
          2,
          1,
          1,
          2,
          2,
          1,
          2,
          2,
          2,
          2,
          1,
          2,
          1,
          2,
          2,
          2,
          1,
          2,
          2,
          2,
          2,
          2,
          2,
          2,
          2,
          2,
          2,
          2,
          1,
          1,
          2,
          2,
          1,
          1,
          1,
          1,
          2,
          2,
          1,
          2,
          1,
          2,
          2,
          2,
          2,
          2,
          1,
          2,
          2,
          2,
          1,
          2,
          1,
          2,
          2,
          2,
          1,
          2,
          1,
          2,
          2,
          2,
          2,
          2,
          2,
          2,
          2,
          1,
          1,
          2,
          2,
          1,
          2,
          1,
          2,
          2,
          1,
          1,
          1,
          1,
          2,
          1,
          2,
          2,
          2,
          1,
          1,
          2,
          2,
          2,
          2,
          2,
          1,
          2,
          1,
          2,
          2,
          2,
          2,
          2,
          2,
          2,
          2,
          1,
          1,
          2,
          2,
          2,
          2,
          2,
          1,
          1,
          1,
          2,
          2,
          1,
          2,
          2,
          2,
          1,
          2,
          2,
          2,
          1,
          1,
          2,
          1,
          2,
          2,
          1,
          2,
          2,
          1,
          1,
          2,
          2,
          2,
          1,
          1,
          1,
          1,
          1,
          1,
          2,
          1,
          2,
          2,
          1,
          2,
          2,
          2,
          2,
          2,
          2,
          2,
          1,
          2,
          2,
          2,
          2,
          1,
          1,
          2,
          2,
          2,
          1,
          2,
          2,
          2,
          1,
          2,
          1,
          2,
          2,
          1,
          2,
          2,
          2,
          2,
          1,
          2,
          2,
          2,
          1,
          2,
          2,
          1,
          1,
          2,
          2,
          1,
          2,
          2,
          2,
          2,
          2,
          2,
          2,
          2,
          1,
          2,
          2,
          1,
          2,
          2,
          1,
          2,
          1,
          2,
          2,
          1,
          2,
          2,
          1,
          2,
          2,
          2,
          2,
          2,
          2,
          2,
          2,
          1,
          2,
          1,
          2,
          2,
          2,
          2,
          1,
          1,
          2,
          1,
          2,
          2,
          2,
          2,
          1,
          1,
          2,
          2,
          1,
          2,
          2,
          2,
          1,
          2,
          2,
          1,
          1,
          1,
          2,
          2,
          2,
          1,
          2,
          1,
          2,
          2,
          1,
          2,
          2,
          1,
          2,
          2,
          2,
          2,
          1,
          1,
          2,
          2,
          2,
          2,
          2,
          2,
          1,
          2,
          1,
          2,
          2,
          1,
          2,
          2,
          1,
          2,
          2,
          2,
          1,
          2,
          2,
          2
         ],
         "xaxis": "x",
         "yaxis": "y"
        },
        {
         "alignmentgroup": "True",
         "bingroup": "x",
         "hovertemplate": "FirstYearPersistence=0<br>FastTrack=%{x}<br>count=%{y}<extra></extra>",
         "legendgroup": "0",
         "marker": {
          "color": "#EF553B",
          "pattern": {
           "shape": ""
          }
         },
         "name": "0",
         "offsetgroup": "0",
         "orientation": "v",
         "showlegend": true,
         "type": "histogram",
         "x": [
          2,
          2,
          2,
          2,
          2,
          2,
          2,
          2,
          2,
          2,
          2,
          2,
          2,
          2,
          2,
          1,
          2,
          2,
          1,
          2,
          2,
          2,
          2,
          2,
          2,
          2,
          2,
          1,
          1,
          2,
          2,
          2,
          2,
          2,
          1,
          2,
          2,
          2,
          2,
          2,
          2,
          2,
          1,
          2,
          2,
          1,
          2,
          2,
          2,
          2,
          2,
          2,
          2,
          2,
          2,
          1,
          2,
          1,
          2,
          1,
          2,
          2,
          2,
          2,
          2,
          2,
          2,
          2,
          2,
          2,
          2,
          2,
          2,
          2,
          2,
          2,
          2,
          1,
          2,
          2,
          2,
          2,
          2,
          2,
          2,
          1,
          1,
          2,
          1,
          2,
          2,
          2,
          2,
          2,
          2,
          2,
          2,
          1,
          2,
          2,
          2,
          2,
          2,
          2,
          2,
          2,
          2,
          2,
          2,
          2,
          2,
          2,
          2,
          2,
          2,
          2,
          2,
          2,
          2,
          2,
          2,
          2,
          2,
          2,
          2,
          2,
          2,
          2,
          2,
          2,
          1,
          2,
          2,
          2,
          2,
          2,
          2,
          2,
          2,
          2,
          2,
          2,
          2,
          2,
          2,
          2,
          2,
          2,
          2,
          2,
          2,
          2,
          2,
          2,
          1,
          2,
          2,
          2,
          2,
          1,
          2,
          2,
          2,
          2,
          2,
          2,
          2,
          2,
          1,
          2,
          2,
          2,
          2,
          2,
          2,
          2,
          2,
          2,
          2,
          2,
          2,
          2,
          2,
          2,
          2,
          2,
          2,
          2,
          2,
          2,
          2,
          1,
          2,
          1,
          2,
          2,
          2,
          2,
          2,
          1,
          2,
          2,
          2,
          2,
          2,
          2,
          1,
          1,
          2,
          2,
          2,
          2,
          2,
          2,
          2,
          2,
          2,
          2,
          2,
          2,
          2,
          2,
          2,
          1,
          2,
          2,
          1,
          2,
          2,
          2,
          2,
          2,
          2,
          2,
          2,
          2,
          2,
          2,
          2,
          2,
          2,
          2,
          2,
          2,
          2,
          2,
          2,
          2,
          2,
          2,
          2,
          2,
          2,
          2,
          2,
          2,
          2,
          2,
          2,
          2,
          2,
          2,
          1,
          2,
          2,
          1,
          1,
          2,
          2,
          2,
          2,
          2,
          2,
          2,
          2,
          2,
          2,
          1,
          2,
          2,
          2,
          2,
          2,
          2,
          2,
          2,
          2,
          2,
          2,
          2,
          2,
          2,
          2,
          2,
          2,
          2,
          2,
          2
         ],
         "xaxis": "x",
         "yaxis": "y"
        }
       ],
       "layout": {
        "barmode": "group",
        "legend": {
         "title": {
          "text": "FirstYearPersistence"
         },
         "tracegroupgap": 0
        },
        "template": {
         "data": {
          "bar": [
           {
            "error_x": {
             "color": "#2a3f5f"
            },
            "error_y": {
             "color": "#2a3f5f"
            },
            "marker": {
             "line": {
              "color": "#E5ECF6",
              "width": 0.5
             },
             "pattern": {
              "fillmode": "overlay",
              "size": 10,
              "solidity": 0.2
             }
            },
            "type": "bar"
           }
          ],
          "barpolar": [
           {
            "marker": {
             "line": {
              "color": "#E5ECF6",
              "width": 0.5
             },
             "pattern": {
              "fillmode": "overlay",
              "size": 10,
              "solidity": 0.2
             }
            },
            "type": "barpolar"
           }
          ],
          "carpet": [
           {
            "aaxis": {
             "endlinecolor": "#2a3f5f",
             "gridcolor": "white",
             "linecolor": "white",
             "minorgridcolor": "white",
             "startlinecolor": "#2a3f5f"
            },
            "baxis": {
             "endlinecolor": "#2a3f5f",
             "gridcolor": "white",
             "linecolor": "white",
             "minorgridcolor": "white",
             "startlinecolor": "#2a3f5f"
            },
            "type": "carpet"
           }
          ],
          "choropleth": [
           {
            "colorbar": {
             "outlinewidth": 0,
             "ticks": ""
            },
            "type": "choropleth"
           }
          ],
          "contour": [
           {
            "colorbar": {
             "outlinewidth": 0,
             "ticks": ""
            },
            "colorscale": [
             [
              0,
              "#0d0887"
             ],
             [
              0.1111111111111111,
              "#46039f"
             ],
             [
              0.2222222222222222,
              "#7201a8"
             ],
             [
              0.3333333333333333,
              "#9c179e"
             ],
             [
              0.4444444444444444,
              "#bd3786"
             ],
             [
              0.5555555555555556,
              "#d8576b"
             ],
             [
              0.6666666666666666,
              "#ed7953"
             ],
             [
              0.7777777777777778,
              "#fb9f3a"
             ],
             [
              0.8888888888888888,
              "#fdca26"
             ],
             [
              1,
              "#f0f921"
             ]
            ],
            "type": "contour"
           }
          ],
          "contourcarpet": [
           {
            "colorbar": {
             "outlinewidth": 0,
             "ticks": ""
            },
            "type": "contourcarpet"
           }
          ],
          "heatmap": [
           {
            "colorbar": {
             "outlinewidth": 0,
             "ticks": ""
            },
            "colorscale": [
             [
              0,
              "#0d0887"
             ],
             [
              0.1111111111111111,
              "#46039f"
             ],
             [
              0.2222222222222222,
              "#7201a8"
             ],
             [
              0.3333333333333333,
              "#9c179e"
             ],
             [
              0.4444444444444444,
              "#bd3786"
             ],
             [
              0.5555555555555556,
              "#d8576b"
             ],
             [
              0.6666666666666666,
              "#ed7953"
             ],
             [
              0.7777777777777778,
              "#fb9f3a"
             ],
             [
              0.8888888888888888,
              "#fdca26"
             ],
             [
              1,
              "#f0f921"
             ]
            ],
            "type": "heatmap"
           }
          ],
          "heatmapgl": [
           {
            "colorbar": {
             "outlinewidth": 0,
             "ticks": ""
            },
            "colorscale": [
             [
              0,
              "#0d0887"
             ],
             [
              0.1111111111111111,
              "#46039f"
             ],
             [
              0.2222222222222222,
              "#7201a8"
             ],
             [
              0.3333333333333333,
              "#9c179e"
             ],
             [
              0.4444444444444444,
              "#bd3786"
             ],
             [
              0.5555555555555556,
              "#d8576b"
             ],
             [
              0.6666666666666666,
              "#ed7953"
             ],
             [
              0.7777777777777778,
              "#fb9f3a"
             ],
             [
              0.8888888888888888,
              "#fdca26"
             ],
             [
              1,
              "#f0f921"
             ]
            ],
            "type": "heatmapgl"
           }
          ],
          "histogram": [
           {
            "marker": {
             "pattern": {
              "fillmode": "overlay",
              "size": 10,
              "solidity": 0.2
             }
            },
            "type": "histogram"
           }
          ],
          "histogram2d": [
           {
            "colorbar": {
             "outlinewidth": 0,
             "ticks": ""
            },
            "colorscale": [
             [
              0,
              "#0d0887"
             ],
             [
              0.1111111111111111,
              "#46039f"
             ],
             [
              0.2222222222222222,
              "#7201a8"
             ],
             [
              0.3333333333333333,
              "#9c179e"
             ],
             [
              0.4444444444444444,
              "#bd3786"
             ],
             [
              0.5555555555555556,
              "#d8576b"
             ],
             [
              0.6666666666666666,
              "#ed7953"
             ],
             [
              0.7777777777777778,
              "#fb9f3a"
             ],
             [
              0.8888888888888888,
              "#fdca26"
             ],
             [
              1,
              "#f0f921"
             ]
            ],
            "type": "histogram2d"
           }
          ],
          "histogram2dcontour": [
           {
            "colorbar": {
             "outlinewidth": 0,
             "ticks": ""
            },
            "colorscale": [
             [
              0,
              "#0d0887"
             ],
             [
              0.1111111111111111,
              "#46039f"
             ],
             [
              0.2222222222222222,
              "#7201a8"
             ],
             [
              0.3333333333333333,
              "#9c179e"
             ],
             [
              0.4444444444444444,
              "#bd3786"
             ],
             [
              0.5555555555555556,
              "#d8576b"
             ],
             [
              0.6666666666666666,
              "#ed7953"
             ],
             [
              0.7777777777777778,
              "#fb9f3a"
             ],
             [
              0.8888888888888888,
              "#fdca26"
             ],
             [
              1,
              "#f0f921"
             ]
            ],
            "type": "histogram2dcontour"
           }
          ],
          "mesh3d": [
           {
            "colorbar": {
             "outlinewidth": 0,
             "ticks": ""
            },
            "type": "mesh3d"
           }
          ],
          "parcoords": [
           {
            "line": {
             "colorbar": {
              "outlinewidth": 0,
              "ticks": ""
             }
            },
            "type": "parcoords"
           }
          ],
          "pie": [
           {
            "automargin": true,
            "type": "pie"
           }
          ],
          "scatter": [
           {
            "fillpattern": {
             "fillmode": "overlay",
             "size": 10,
             "solidity": 0.2
            },
            "type": "scatter"
           }
          ],
          "scatter3d": [
           {
            "line": {
             "colorbar": {
              "outlinewidth": 0,
              "ticks": ""
             }
            },
            "marker": {
             "colorbar": {
              "outlinewidth": 0,
              "ticks": ""
             }
            },
            "type": "scatter3d"
           }
          ],
          "scattercarpet": [
           {
            "marker": {
             "colorbar": {
              "outlinewidth": 0,
              "ticks": ""
             }
            },
            "type": "scattercarpet"
           }
          ],
          "scattergeo": [
           {
            "marker": {
             "colorbar": {
              "outlinewidth": 0,
              "ticks": ""
             }
            },
            "type": "scattergeo"
           }
          ],
          "scattergl": [
           {
            "marker": {
             "colorbar": {
              "outlinewidth": 0,
              "ticks": ""
             }
            },
            "type": "scattergl"
           }
          ],
          "scattermapbox": [
           {
            "marker": {
             "colorbar": {
              "outlinewidth": 0,
              "ticks": ""
             }
            },
            "type": "scattermapbox"
           }
          ],
          "scatterpolar": [
           {
            "marker": {
             "colorbar": {
              "outlinewidth": 0,
              "ticks": ""
             }
            },
            "type": "scatterpolar"
           }
          ],
          "scatterpolargl": [
           {
            "marker": {
             "colorbar": {
              "outlinewidth": 0,
              "ticks": ""
             }
            },
            "type": "scatterpolargl"
           }
          ],
          "scatterternary": [
           {
            "marker": {
             "colorbar": {
              "outlinewidth": 0,
              "ticks": ""
             }
            },
            "type": "scatterternary"
           }
          ],
          "surface": [
           {
            "colorbar": {
             "outlinewidth": 0,
             "ticks": ""
            },
            "colorscale": [
             [
              0,
              "#0d0887"
             ],
             [
              0.1111111111111111,
              "#46039f"
             ],
             [
              0.2222222222222222,
              "#7201a8"
             ],
             [
              0.3333333333333333,
              "#9c179e"
             ],
             [
              0.4444444444444444,
              "#bd3786"
             ],
             [
              0.5555555555555556,
              "#d8576b"
             ],
             [
              0.6666666666666666,
              "#ed7953"
             ],
             [
              0.7777777777777778,
              "#fb9f3a"
             ],
             [
              0.8888888888888888,
              "#fdca26"
             ],
             [
              1,
              "#f0f921"
             ]
            ],
            "type": "surface"
           }
          ],
          "table": [
           {
            "cells": {
             "fill": {
              "color": "#EBF0F8"
             },
             "line": {
              "color": "white"
             }
            },
            "header": {
             "fill": {
              "color": "#C8D4E3"
             },
             "line": {
              "color": "white"
             }
            },
            "type": "table"
           }
          ]
         },
         "layout": {
          "annotationdefaults": {
           "arrowcolor": "#2a3f5f",
           "arrowhead": 0,
           "arrowwidth": 1
          },
          "autotypenumbers": "strict",
          "coloraxis": {
           "colorbar": {
            "outlinewidth": 0,
            "ticks": ""
           }
          },
          "colorscale": {
           "diverging": [
            [
             0,
             "#8e0152"
            ],
            [
             0.1,
             "#c51b7d"
            ],
            [
             0.2,
             "#de77ae"
            ],
            [
             0.3,
             "#f1b6da"
            ],
            [
             0.4,
             "#fde0ef"
            ],
            [
             0.5,
             "#f7f7f7"
            ],
            [
             0.6,
             "#e6f5d0"
            ],
            [
             0.7,
             "#b8e186"
            ],
            [
             0.8,
             "#7fbc41"
            ],
            [
             0.9,
             "#4d9221"
            ],
            [
             1,
             "#276419"
            ]
           ],
           "sequential": [
            [
             0,
             "#0d0887"
            ],
            [
             0.1111111111111111,
             "#46039f"
            ],
            [
             0.2222222222222222,
             "#7201a8"
            ],
            [
             0.3333333333333333,
             "#9c179e"
            ],
            [
             0.4444444444444444,
             "#bd3786"
            ],
            [
             0.5555555555555556,
             "#d8576b"
            ],
            [
             0.6666666666666666,
             "#ed7953"
            ],
            [
             0.7777777777777778,
             "#fb9f3a"
            ],
            [
             0.8888888888888888,
             "#fdca26"
            ],
            [
             1,
             "#f0f921"
            ]
           ],
           "sequentialminus": [
            [
             0,
             "#0d0887"
            ],
            [
             0.1111111111111111,
             "#46039f"
            ],
            [
             0.2222222222222222,
             "#7201a8"
            ],
            [
             0.3333333333333333,
             "#9c179e"
            ],
            [
             0.4444444444444444,
             "#bd3786"
            ],
            [
             0.5555555555555556,
             "#d8576b"
            ],
            [
             0.6666666666666666,
             "#ed7953"
            ],
            [
             0.7777777777777778,
             "#fb9f3a"
            ],
            [
             0.8888888888888888,
             "#fdca26"
            ],
            [
             1,
             "#f0f921"
            ]
           ]
          },
          "colorway": [
           "#636efa",
           "#EF553B",
           "#00cc96",
           "#ab63fa",
           "#FFA15A",
           "#19d3f3",
           "#FF6692",
           "#B6E880",
           "#FF97FF",
           "#FECB52"
          ],
          "font": {
           "color": "#2a3f5f"
          },
          "geo": {
           "bgcolor": "white",
           "lakecolor": "white",
           "landcolor": "#E5ECF6",
           "showlakes": true,
           "showland": true,
           "subunitcolor": "white"
          },
          "hoverlabel": {
           "align": "left"
          },
          "hovermode": "closest",
          "mapbox": {
           "style": "light"
          },
          "paper_bgcolor": "white",
          "plot_bgcolor": "#E5ECF6",
          "polar": {
           "angularaxis": {
            "gridcolor": "white",
            "linecolor": "white",
            "ticks": ""
           },
           "bgcolor": "#E5ECF6",
           "radialaxis": {
            "gridcolor": "white",
            "linecolor": "white",
            "ticks": ""
           }
          },
          "scene": {
           "xaxis": {
            "backgroundcolor": "#E5ECF6",
            "gridcolor": "white",
            "gridwidth": 2,
            "linecolor": "white",
            "showbackground": true,
            "ticks": "",
            "zerolinecolor": "white"
           },
           "yaxis": {
            "backgroundcolor": "#E5ECF6",
            "gridcolor": "white",
            "gridwidth": 2,
            "linecolor": "white",
            "showbackground": true,
            "ticks": "",
            "zerolinecolor": "white"
           },
           "zaxis": {
            "backgroundcolor": "#E5ECF6",
            "gridcolor": "white",
            "gridwidth": 2,
            "linecolor": "white",
            "showbackground": true,
            "ticks": "",
            "zerolinecolor": "white"
           }
          },
          "shapedefaults": {
           "line": {
            "color": "#2a3f5f"
           }
          },
          "ternary": {
           "aaxis": {
            "gridcolor": "white",
            "linecolor": "white",
            "ticks": ""
           },
           "baxis": {
            "gridcolor": "white",
            "linecolor": "white",
            "ticks": ""
           },
           "bgcolor": "#E5ECF6",
           "caxis": {
            "gridcolor": "white",
            "linecolor": "white",
            "ticks": ""
           }
          },
          "title": {
           "x": 0.05
          },
          "xaxis": {
           "automargin": true,
           "gridcolor": "white",
           "linecolor": "white",
           "ticks": "",
           "title": {
            "standoff": 15
           },
           "zerolinecolor": "white",
           "zerolinewidth": 2
          },
          "yaxis": {
           "automargin": true,
           "gridcolor": "white",
           "linecolor": "white",
           "ticks": "",
           "title": {
            "standoff": 15
           },
           "zerolinecolor": "white",
           "zerolinewidth": 2
          }
         }
        },
        "title": {
         "text": "Bar Plot of FastTrack vs FirstYearPersistence"
        },
        "xaxis": {
         "anchor": "y",
         "domain": [
          0,
          1
         ],
         "title": {
          "text": "FastTrack"
         },
         "type": "category"
        },
        "yaxis": {
         "anchor": "x",
         "domain": [
          0,
          1
         ],
         "title": {
          "text": "count"
         }
        }
       }
      }
     },
     "metadata": {},
     "output_type": "display_data"
    },
    {
     "data": {
      "application/vnd.plotly.v1+json": {
       "config": {
        "plotlyServerURL": "https://plot.ly"
       },
       "data": [
        {
         "alignmentgroup": "True",
         "bingroup": "x",
         "hovertemplate": "FirstYearPersistence=1<br>Coop=%{x}<br>count=%{y}<extra></extra>",
         "legendgroup": "1",
         "marker": {
          "color": "#636efa",
          "pattern": {
           "shape": ""
          }
         },
         "name": "1",
         "offsetgroup": "1",
         "orientation": "v",
         "showlegend": true,
         "type": "histogram",
         "x": [
          1,
          2,
          1,
          2,
          1,
          1,
          1,
          1,
          1,
          2,
          1,
          2,
          2,
          2,
          2,
          2,
          2,
          2,
          2,
          2,
          2,
          2,
          2,
          2,
          1,
          2,
          2,
          1,
          2,
          2,
          1,
          1,
          2,
          2,
          2,
          2,
          1,
          1,
          2,
          2,
          2,
          1,
          1,
          2,
          2,
          1,
          2,
          2,
          2,
          2,
          2,
          2,
          1,
          1,
          1,
          2,
          2,
          2,
          1,
          2,
          1,
          2,
          2,
          1,
          2,
          2,
          2,
          1,
          2,
          2,
          1,
          2,
          1,
          2,
          2,
          2,
          2,
          2,
          2,
          1,
          1,
          1,
          2,
          2,
          2,
          1,
          2,
          2,
          2,
          1,
          2,
          2,
          2,
          2,
          2,
          1,
          2,
          2,
          2,
          2,
          2,
          2,
          2,
          2,
          2,
          2,
          2,
          2,
          2,
          2,
          2,
          2,
          2,
          2,
          2,
          2,
          2,
          2,
          1,
          2,
          1,
          2,
          1,
          2,
          2,
          2,
          2,
          2,
          1,
          2,
          2,
          2,
          2,
          2,
          2,
          1,
          2,
          2,
          1,
          2,
          1,
          2,
          1,
          2,
          2,
          2,
          2,
          2,
          1,
          2,
          2,
          2,
          2,
          2,
          2,
          2,
          2,
          2,
          1,
          2,
          2,
          2,
          2,
          1,
          2,
          2,
          1,
          2,
          2,
          2,
          2,
          1,
          2,
          2,
          2,
          2,
          2,
          2,
          1,
          2,
          2,
          2,
          2,
          2,
          1,
          2,
          2,
          2,
          2,
          2,
          1,
          1,
          2,
          2,
          1,
          2,
          2,
          1,
          2,
          2,
          2,
          2,
          2,
          1,
          2,
          2,
          1,
          2,
          1,
          2,
          2,
          1,
          2,
          1,
          2,
          1,
          2,
          2,
          2,
          1,
          1,
          2,
          2,
          2,
          2,
          2,
          1,
          2,
          2,
          1,
          2,
          2,
          1,
          2,
          2,
          1,
          2,
          2,
          1,
          2,
          1,
          2,
          1,
          2,
          2,
          1,
          2,
          1,
          2,
          1,
          2,
          1,
          2,
          1,
          2,
          1,
          2,
          2,
          1,
          1,
          1,
          2,
          1,
          2,
          2,
          2,
          2,
          2,
          1,
          2,
          1,
          1,
          1,
          2,
          2,
          2,
          1,
          1,
          2,
          1,
          1,
          2,
          1,
          2,
          2,
          2,
          2,
          1,
          2,
          1,
          2,
          2,
          2,
          2,
          2,
          2,
          1,
          2,
          2,
          2,
          1,
          2,
          2,
          2,
          1,
          2,
          2,
          2,
          2,
          2,
          2,
          2,
          2,
          2,
          2,
          1,
          2,
          2,
          2,
          2,
          2,
          2,
          1,
          2,
          1,
          2,
          2,
          1,
          2,
          2,
          1,
          2,
          1,
          2,
          2,
          2,
          2,
          2,
          1,
          2,
          2,
          2,
          2,
          1,
          1,
          2,
          2,
          2,
          1,
          2,
          2,
          2,
          2,
          1,
          1,
          2,
          2,
          1,
          1,
          2,
          2,
          1,
          2,
          2,
          2,
          1,
          2,
          2,
          2,
          2,
          2,
          2,
          2,
          2,
          2,
          2,
          2,
          1,
          2,
          2,
          2,
          1,
          1,
          2,
          2,
          1,
          2,
          2,
          1,
          2,
          2,
          1,
          2,
          2,
          2,
          1,
          2,
          2,
          1,
          1,
          2,
          1,
          1,
          1,
          1,
          2,
          2,
          2,
          1,
          2,
          2,
          2,
          1,
          1,
          1,
          2,
          2,
          2,
          2,
          1,
          2,
          2,
          2,
          2,
          2,
          2,
          2,
          2,
          2,
          1,
          2,
          1,
          1,
          2,
          2,
          2,
          2,
          2,
          2,
          2,
          1,
          2,
          2,
          1,
          2,
          2,
          2,
          2,
          2,
          2,
          1,
          2,
          1,
          2,
          1,
          2,
          2,
          1,
          1,
          2,
          1,
          2,
          2,
          1,
          2,
          2,
          2,
          2,
          1,
          2,
          2,
          2,
          2,
          2,
          2,
          1,
          2,
          2,
          1,
          1,
          1,
          1,
          2,
          2,
          1,
          2,
          2,
          1,
          2,
          1,
          2,
          2,
          2,
          1,
          2,
          2,
          2,
          2,
          2,
          1,
          1,
          1,
          2,
          2,
          2,
          2,
          2,
          2,
          2,
          2,
          2,
          1,
          2,
          2,
          2,
          2,
          2,
          1,
          2,
          2,
          2,
          2,
          2,
          1,
          1,
          2,
          1,
          2,
          1,
          2,
          2,
          2,
          1,
          2,
          1,
          1,
          1,
          2,
          2,
          1,
          2,
          2,
          2,
          2,
          2,
          2,
          1,
          1,
          2,
          1,
          2,
          1,
          2,
          2,
          1,
          1,
          1,
          2,
          2,
          2,
          1,
          2,
          2,
          2,
          2,
          1,
          2,
          2,
          2,
          2,
          2,
          2,
          1,
          1,
          1,
          2,
          2,
          2,
          1,
          2,
          2,
          1,
          2,
          2,
          2,
          1,
          2,
          1,
          2,
          1,
          2,
          1,
          1,
          2,
          1,
          2,
          2,
          2,
          2,
          2,
          2,
          2,
          2,
          2,
          2,
          2,
          2,
          2,
          2,
          2,
          1,
          2,
          2,
          1,
          2,
          2,
          1,
          1,
          2,
          2,
          2,
          1,
          2,
          2,
          2,
          2,
          2,
          2,
          2,
          2,
          1,
          2,
          2,
          2,
          1,
          2,
          2,
          1,
          2,
          1,
          2,
          1,
          1,
          2,
          2,
          1,
          2,
          2,
          1,
          2,
          1,
          1,
          1,
          2,
          2,
          1,
          2,
          2,
          1,
          2,
          2,
          2,
          2,
          1,
          2,
          1,
          1,
          2,
          1,
          1,
          2,
          2,
          2,
          2,
          1,
          1,
          2,
          2,
          2,
          1,
          2,
          2,
          1,
          2,
          2,
          2,
          1,
          2,
          2,
          1,
          2,
          2,
          2,
          2,
          1,
          1,
          2,
          1,
          2,
          2,
          2,
          2,
          1,
          1,
          2,
          1,
          2,
          1,
          1,
          2,
          2,
          2,
          2,
          2,
          2,
          1,
          2,
          2,
          2,
          2,
          1,
          2,
          2,
          2,
          1,
          1,
          1,
          2,
          2,
          1,
          2,
          2,
          2,
          2,
          1,
          2,
          1,
          2,
          2,
          2,
          2,
          2,
          1,
          2,
          2,
          2,
          2,
          1,
          2,
          1,
          1,
          2,
          2,
          2,
          2,
          2,
          2,
          2,
          1,
          2,
          1,
          1,
          2,
          1,
          2,
          2,
          2,
          2,
          2,
          2,
          2,
          1,
          1,
          2,
          1,
          2,
          2,
          2,
          1,
          2,
          2,
          1,
          2,
          2,
          2,
          2,
          2,
          2,
          2,
          1,
          1,
          2,
          2,
          1,
          2,
          2,
          2,
          2,
          2,
          1,
          1,
          1,
          2,
          2,
          2,
          2,
          2,
          1,
          2,
          2,
          2,
          2,
          2,
          2,
          2,
          2,
          2,
          1,
          2,
          1,
          2,
          2,
          2,
          1,
          2,
          2,
          2,
          1,
          2,
          1,
          2,
          1,
          2,
          1,
          1,
          2,
          2,
          2,
          1,
          2,
          1,
          1,
          2,
          2,
          1,
          2,
          2,
          2,
          2,
          2,
          2,
          2,
          2,
          2,
          1,
          2,
          2,
          1,
          1,
          2,
          2,
          2,
          2,
          1,
          2,
          1,
          2,
          2,
          2,
          1,
          1,
          1,
          2,
          2,
          2,
          2,
          2,
          2,
          1,
          2,
          2,
          1,
          2,
          2,
          2,
          2,
          2,
          1,
          1,
          2,
          2,
          1,
          2,
          1,
          2,
          2,
          2,
          2,
          1,
          1,
          2,
          2,
          2,
          1,
          2,
          1,
          2,
          2,
          1,
          2,
          1,
          2,
          1,
          2,
          2,
          1,
          2,
          2,
          1,
          2,
          2,
          2,
          2,
          2,
          2,
          2,
          2,
          1,
          2,
          2,
          2,
          2,
          2,
          2,
          1,
          1,
          2,
          2,
          2,
          2,
          1,
          1,
          1,
          2,
          2,
          2,
          2,
          2,
          2,
          1,
          2,
          2,
          1,
          1,
          2,
          1,
          1,
          1,
          2,
          2,
          2,
          2,
          2,
          2,
          2,
          1,
          2,
          2,
          1,
          2,
          2,
          2,
          2,
          2,
          2,
          2,
          2,
          2,
          2,
          1,
          1,
          1,
          1,
          2,
          2,
          2,
          2,
          1,
          2,
          1,
          1,
          1,
          2,
          2,
          1,
          2,
          1,
          2,
          2,
          2,
          2,
          1,
          2,
          1,
          1,
          2,
          1,
          1,
          2,
          2,
          2,
          2,
          2,
          2,
          1,
          2,
          1,
          2,
          2,
          1,
          2,
          2,
          1,
          2,
          2,
          2,
          2,
          2,
          2,
          2,
          2,
          1,
          1,
          2,
          2,
          2,
          2,
          2,
          1,
          2,
          2,
          1,
          2,
          2,
          2,
          2,
          1,
          2,
          2,
          2,
          2,
          1,
          2,
          1,
          2,
          1,
          2,
          2,
          2,
          1,
          1,
          1,
          2,
          2,
          2,
          2,
          2,
          2,
          2,
          2,
          2,
          2,
          2,
          2,
          2,
          1,
          2,
          2,
          2,
          1,
          2,
          2,
          1,
          1,
          2,
          1,
          1,
          2,
          1,
          2,
          1,
          2,
          2,
          2,
          2,
          2,
          2,
          2,
          2,
          2,
          2,
          1,
          2,
          2,
          1,
          2,
          1,
          1,
          1,
          2,
          1,
          2,
          2,
          1,
          2,
          2,
          2,
          1,
          2,
          2,
          2,
          2,
          2,
          2,
          2,
          2,
          2,
          2,
          1,
          1,
          2,
          1,
          1,
          1,
          2
         ],
         "xaxis": "x",
         "yaxis": "y"
        },
        {
         "alignmentgroup": "True",
         "bingroup": "x",
         "hovertemplate": "FirstYearPersistence=0<br>Coop=%{x}<br>count=%{y}<extra></extra>",
         "legendgroup": "0",
         "marker": {
          "color": "#EF553B",
          "pattern": {
           "shape": ""
          }
         },
         "name": "0",
         "offsetgroup": "0",
         "orientation": "v",
         "showlegend": true,
         "type": "histogram",
         "x": [
          1,
          2,
          2,
          2,
          1,
          1,
          2,
          2,
          2,
          2,
          1,
          2,
          2,
          2,
          1,
          2,
          2,
          2,
          2,
          1,
          2,
          1,
          2,
          2,
          2,
          2,
          2,
          2,
          2,
          1,
          2,
          2,
          1,
          2,
          2,
          2,
          2,
          2,
          1,
          2,
          1,
          1,
          2,
          2,
          2,
          2,
          2,
          1,
          1,
          2,
          2,
          1,
          2,
          2,
          1,
          1,
          1,
          2,
          1,
          1,
          2,
          2,
          2,
          2,
          2,
          2,
          2,
          2,
          2,
          2,
          2,
          2,
          1,
          2,
          1,
          1,
          2,
          2,
          2,
          2,
          1,
          2,
          1,
          2,
          2,
          1,
          2,
          2,
          1,
          2,
          1,
          1,
          1,
          2,
          2,
          1,
          1,
          1,
          2,
          1,
          1,
          2,
          2,
          2,
          2,
          2,
          2,
          2,
          2,
          2,
          2,
          2,
          2,
          1,
          2,
          2,
          2,
          2,
          2,
          2,
          2,
          2,
          2,
          2,
          2,
          1,
          2,
          2,
          2,
          2,
          2,
          1,
          2,
          2,
          1,
          1,
          2,
          2,
          2,
          1,
          2,
          1,
          1,
          2,
          2,
          2,
          1,
          1,
          2,
          2,
          1,
          2,
          1,
          1,
          2,
          2,
          1,
          2,
          2,
          2,
          2,
          2,
          2,
          2,
          1,
          2,
          2,
          2,
          2,
          2,
          2,
          1,
          2,
          2,
          2,
          1,
          2,
          1,
          2,
          2,
          1,
          2,
          2,
          2,
          1,
          1,
          1,
          2,
          1,
          2,
          2,
          2,
          1,
          2,
          2,
          2,
          1,
          2,
          1,
          1,
          1,
          1,
          2,
          1,
          1,
          2,
          1,
          2,
          2,
          2,
          1,
          2,
          2,
          1,
          1,
          2,
          1,
          2,
          1,
          2,
          2,
          2,
          2,
          1,
          2,
          2,
          2,
          1,
          2,
          2,
          2,
          2,
          2,
          2,
          1,
          2,
          1,
          2,
          2,
          2,
          2,
          2,
          2,
          2,
          2,
          2,
          2,
          2,
          2,
          2,
          2,
          2,
          2,
          1,
          2,
          1,
          2,
          1,
          2,
          2,
          1,
          2,
          2,
          2,
          1,
          2,
          2,
          2,
          2,
          2,
          1,
          2,
          2,
          2,
          1,
          1,
          2,
          2,
          1,
          1,
          1,
          2,
          2,
          2,
          1,
          2,
          1,
          2,
          2,
          2,
          2,
          1,
          2,
          2,
          2,
          2,
          1,
          2
         ],
         "xaxis": "x",
         "yaxis": "y"
        }
       ],
       "layout": {
        "barmode": "group",
        "legend": {
         "title": {
          "text": "FirstYearPersistence"
         },
         "tracegroupgap": 0
        },
        "template": {
         "data": {
          "bar": [
           {
            "error_x": {
             "color": "#2a3f5f"
            },
            "error_y": {
             "color": "#2a3f5f"
            },
            "marker": {
             "line": {
              "color": "#E5ECF6",
              "width": 0.5
             },
             "pattern": {
              "fillmode": "overlay",
              "size": 10,
              "solidity": 0.2
             }
            },
            "type": "bar"
           }
          ],
          "barpolar": [
           {
            "marker": {
             "line": {
              "color": "#E5ECF6",
              "width": 0.5
             },
             "pattern": {
              "fillmode": "overlay",
              "size": 10,
              "solidity": 0.2
             }
            },
            "type": "barpolar"
           }
          ],
          "carpet": [
           {
            "aaxis": {
             "endlinecolor": "#2a3f5f",
             "gridcolor": "white",
             "linecolor": "white",
             "minorgridcolor": "white",
             "startlinecolor": "#2a3f5f"
            },
            "baxis": {
             "endlinecolor": "#2a3f5f",
             "gridcolor": "white",
             "linecolor": "white",
             "minorgridcolor": "white",
             "startlinecolor": "#2a3f5f"
            },
            "type": "carpet"
           }
          ],
          "choropleth": [
           {
            "colorbar": {
             "outlinewidth": 0,
             "ticks": ""
            },
            "type": "choropleth"
           }
          ],
          "contour": [
           {
            "colorbar": {
             "outlinewidth": 0,
             "ticks": ""
            },
            "colorscale": [
             [
              0,
              "#0d0887"
             ],
             [
              0.1111111111111111,
              "#46039f"
             ],
             [
              0.2222222222222222,
              "#7201a8"
             ],
             [
              0.3333333333333333,
              "#9c179e"
             ],
             [
              0.4444444444444444,
              "#bd3786"
             ],
             [
              0.5555555555555556,
              "#d8576b"
             ],
             [
              0.6666666666666666,
              "#ed7953"
             ],
             [
              0.7777777777777778,
              "#fb9f3a"
             ],
             [
              0.8888888888888888,
              "#fdca26"
             ],
             [
              1,
              "#f0f921"
             ]
            ],
            "type": "contour"
           }
          ],
          "contourcarpet": [
           {
            "colorbar": {
             "outlinewidth": 0,
             "ticks": ""
            },
            "type": "contourcarpet"
           }
          ],
          "heatmap": [
           {
            "colorbar": {
             "outlinewidth": 0,
             "ticks": ""
            },
            "colorscale": [
             [
              0,
              "#0d0887"
             ],
             [
              0.1111111111111111,
              "#46039f"
             ],
             [
              0.2222222222222222,
              "#7201a8"
             ],
             [
              0.3333333333333333,
              "#9c179e"
             ],
             [
              0.4444444444444444,
              "#bd3786"
             ],
             [
              0.5555555555555556,
              "#d8576b"
             ],
             [
              0.6666666666666666,
              "#ed7953"
             ],
             [
              0.7777777777777778,
              "#fb9f3a"
             ],
             [
              0.8888888888888888,
              "#fdca26"
             ],
             [
              1,
              "#f0f921"
             ]
            ],
            "type": "heatmap"
           }
          ],
          "heatmapgl": [
           {
            "colorbar": {
             "outlinewidth": 0,
             "ticks": ""
            },
            "colorscale": [
             [
              0,
              "#0d0887"
             ],
             [
              0.1111111111111111,
              "#46039f"
             ],
             [
              0.2222222222222222,
              "#7201a8"
             ],
             [
              0.3333333333333333,
              "#9c179e"
             ],
             [
              0.4444444444444444,
              "#bd3786"
             ],
             [
              0.5555555555555556,
              "#d8576b"
             ],
             [
              0.6666666666666666,
              "#ed7953"
             ],
             [
              0.7777777777777778,
              "#fb9f3a"
             ],
             [
              0.8888888888888888,
              "#fdca26"
             ],
             [
              1,
              "#f0f921"
             ]
            ],
            "type": "heatmapgl"
           }
          ],
          "histogram": [
           {
            "marker": {
             "pattern": {
              "fillmode": "overlay",
              "size": 10,
              "solidity": 0.2
             }
            },
            "type": "histogram"
           }
          ],
          "histogram2d": [
           {
            "colorbar": {
             "outlinewidth": 0,
             "ticks": ""
            },
            "colorscale": [
             [
              0,
              "#0d0887"
             ],
             [
              0.1111111111111111,
              "#46039f"
             ],
             [
              0.2222222222222222,
              "#7201a8"
             ],
             [
              0.3333333333333333,
              "#9c179e"
             ],
             [
              0.4444444444444444,
              "#bd3786"
             ],
             [
              0.5555555555555556,
              "#d8576b"
             ],
             [
              0.6666666666666666,
              "#ed7953"
             ],
             [
              0.7777777777777778,
              "#fb9f3a"
             ],
             [
              0.8888888888888888,
              "#fdca26"
             ],
             [
              1,
              "#f0f921"
             ]
            ],
            "type": "histogram2d"
           }
          ],
          "histogram2dcontour": [
           {
            "colorbar": {
             "outlinewidth": 0,
             "ticks": ""
            },
            "colorscale": [
             [
              0,
              "#0d0887"
             ],
             [
              0.1111111111111111,
              "#46039f"
             ],
             [
              0.2222222222222222,
              "#7201a8"
             ],
             [
              0.3333333333333333,
              "#9c179e"
             ],
             [
              0.4444444444444444,
              "#bd3786"
             ],
             [
              0.5555555555555556,
              "#d8576b"
             ],
             [
              0.6666666666666666,
              "#ed7953"
             ],
             [
              0.7777777777777778,
              "#fb9f3a"
             ],
             [
              0.8888888888888888,
              "#fdca26"
             ],
             [
              1,
              "#f0f921"
             ]
            ],
            "type": "histogram2dcontour"
           }
          ],
          "mesh3d": [
           {
            "colorbar": {
             "outlinewidth": 0,
             "ticks": ""
            },
            "type": "mesh3d"
           }
          ],
          "parcoords": [
           {
            "line": {
             "colorbar": {
              "outlinewidth": 0,
              "ticks": ""
             }
            },
            "type": "parcoords"
           }
          ],
          "pie": [
           {
            "automargin": true,
            "type": "pie"
           }
          ],
          "scatter": [
           {
            "fillpattern": {
             "fillmode": "overlay",
             "size": 10,
             "solidity": 0.2
            },
            "type": "scatter"
           }
          ],
          "scatter3d": [
           {
            "line": {
             "colorbar": {
              "outlinewidth": 0,
              "ticks": ""
             }
            },
            "marker": {
             "colorbar": {
              "outlinewidth": 0,
              "ticks": ""
             }
            },
            "type": "scatter3d"
           }
          ],
          "scattercarpet": [
           {
            "marker": {
             "colorbar": {
              "outlinewidth": 0,
              "ticks": ""
             }
            },
            "type": "scattercarpet"
           }
          ],
          "scattergeo": [
           {
            "marker": {
             "colorbar": {
              "outlinewidth": 0,
              "ticks": ""
             }
            },
            "type": "scattergeo"
           }
          ],
          "scattergl": [
           {
            "marker": {
             "colorbar": {
              "outlinewidth": 0,
              "ticks": ""
             }
            },
            "type": "scattergl"
           }
          ],
          "scattermapbox": [
           {
            "marker": {
             "colorbar": {
              "outlinewidth": 0,
              "ticks": ""
             }
            },
            "type": "scattermapbox"
           }
          ],
          "scatterpolar": [
           {
            "marker": {
             "colorbar": {
              "outlinewidth": 0,
              "ticks": ""
             }
            },
            "type": "scatterpolar"
           }
          ],
          "scatterpolargl": [
           {
            "marker": {
             "colorbar": {
              "outlinewidth": 0,
              "ticks": ""
             }
            },
            "type": "scatterpolargl"
           }
          ],
          "scatterternary": [
           {
            "marker": {
             "colorbar": {
              "outlinewidth": 0,
              "ticks": ""
             }
            },
            "type": "scatterternary"
           }
          ],
          "surface": [
           {
            "colorbar": {
             "outlinewidth": 0,
             "ticks": ""
            },
            "colorscale": [
             [
              0,
              "#0d0887"
             ],
             [
              0.1111111111111111,
              "#46039f"
             ],
             [
              0.2222222222222222,
              "#7201a8"
             ],
             [
              0.3333333333333333,
              "#9c179e"
             ],
             [
              0.4444444444444444,
              "#bd3786"
             ],
             [
              0.5555555555555556,
              "#d8576b"
             ],
             [
              0.6666666666666666,
              "#ed7953"
             ],
             [
              0.7777777777777778,
              "#fb9f3a"
             ],
             [
              0.8888888888888888,
              "#fdca26"
             ],
             [
              1,
              "#f0f921"
             ]
            ],
            "type": "surface"
           }
          ],
          "table": [
           {
            "cells": {
             "fill": {
              "color": "#EBF0F8"
             },
             "line": {
              "color": "white"
             }
            },
            "header": {
             "fill": {
              "color": "#C8D4E3"
             },
             "line": {
              "color": "white"
             }
            },
            "type": "table"
           }
          ]
         },
         "layout": {
          "annotationdefaults": {
           "arrowcolor": "#2a3f5f",
           "arrowhead": 0,
           "arrowwidth": 1
          },
          "autotypenumbers": "strict",
          "coloraxis": {
           "colorbar": {
            "outlinewidth": 0,
            "ticks": ""
           }
          },
          "colorscale": {
           "diverging": [
            [
             0,
             "#8e0152"
            ],
            [
             0.1,
             "#c51b7d"
            ],
            [
             0.2,
             "#de77ae"
            ],
            [
             0.3,
             "#f1b6da"
            ],
            [
             0.4,
             "#fde0ef"
            ],
            [
             0.5,
             "#f7f7f7"
            ],
            [
             0.6,
             "#e6f5d0"
            ],
            [
             0.7,
             "#b8e186"
            ],
            [
             0.8,
             "#7fbc41"
            ],
            [
             0.9,
             "#4d9221"
            ],
            [
             1,
             "#276419"
            ]
           ],
           "sequential": [
            [
             0,
             "#0d0887"
            ],
            [
             0.1111111111111111,
             "#46039f"
            ],
            [
             0.2222222222222222,
             "#7201a8"
            ],
            [
             0.3333333333333333,
             "#9c179e"
            ],
            [
             0.4444444444444444,
             "#bd3786"
            ],
            [
             0.5555555555555556,
             "#d8576b"
            ],
            [
             0.6666666666666666,
             "#ed7953"
            ],
            [
             0.7777777777777778,
             "#fb9f3a"
            ],
            [
             0.8888888888888888,
             "#fdca26"
            ],
            [
             1,
             "#f0f921"
            ]
           ],
           "sequentialminus": [
            [
             0,
             "#0d0887"
            ],
            [
             0.1111111111111111,
             "#46039f"
            ],
            [
             0.2222222222222222,
             "#7201a8"
            ],
            [
             0.3333333333333333,
             "#9c179e"
            ],
            [
             0.4444444444444444,
             "#bd3786"
            ],
            [
             0.5555555555555556,
             "#d8576b"
            ],
            [
             0.6666666666666666,
             "#ed7953"
            ],
            [
             0.7777777777777778,
             "#fb9f3a"
            ],
            [
             0.8888888888888888,
             "#fdca26"
            ],
            [
             1,
             "#f0f921"
            ]
           ]
          },
          "colorway": [
           "#636efa",
           "#EF553B",
           "#00cc96",
           "#ab63fa",
           "#FFA15A",
           "#19d3f3",
           "#FF6692",
           "#B6E880",
           "#FF97FF",
           "#FECB52"
          ],
          "font": {
           "color": "#2a3f5f"
          },
          "geo": {
           "bgcolor": "white",
           "lakecolor": "white",
           "landcolor": "#E5ECF6",
           "showlakes": true,
           "showland": true,
           "subunitcolor": "white"
          },
          "hoverlabel": {
           "align": "left"
          },
          "hovermode": "closest",
          "mapbox": {
           "style": "light"
          },
          "paper_bgcolor": "white",
          "plot_bgcolor": "#E5ECF6",
          "polar": {
           "angularaxis": {
            "gridcolor": "white",
            "linecolor": "white",
            "ticks": ""
           },
           "bgcolor": "#E5ECF6",
           "radialaxis": {
            "gridcolor": "white",
            "linecolor": "white",
            "ticks": ""
           }
          },
          "scene": {
           "xaxis": {
            "backgroundcolor": "#E5ECF6",
            "gridcolor": "white",
            "gridwidth": 2,
            "linecolor": "white",
            "showbackground": true,
            "ticks": "",
            "zerolinecolor": "white"
           },
           "yaxis": {
            "backgroundcolor": "#E5ECF6",
            "gridcolor": "white",
            "gridwidth": 2,
            "linecolor": "white",
            "showbackground": true,
            "ticks": "",
            "zerolinecolor": "white"
           },
           "zaxis": {
            "backgroundcolor": "#E5ECF6",
            "gridcolor": "white",
            "gridwidth": 2,
            "linecolor": "white",
            "showbackground": true,
            "ticks": "",
            "zerolinecolor": "white"
           }
          },
          "shapedefaults": {
           "line": {
            "color": "#2a3f5f"
           }
          },
          "ternary": {
           "aaxis": {
            "gridcolor": "white",
            "linecolor": "white",
            "ticks": ""
           },
           "baxis": {
            "gridcolor": "white",
            "linecolor": "white",
            "ticks": ""
           },
           "bgcolor": "#E5ECF6",
           "caxis": {
            "gridcolor": "white",
            "linecolor": "white",
            "ticks": ""
           }
          },
          "title": {
           "x": 0.05
          },
          "xaxis": {
           "automargin": true,
           "gridcolor": "white",
           "linecolor": "white",
           "ticks": "",
           "title": {
            "standoff": 15
           },
           "zerolinecolor": "white",
           "zerolinewidth": 2
          },
          "yaxis": {
           "automargin": true,
           "gridcolor": "white",
           "linecolor": "white",
           "ticks": "",
           "title": {
            "standoff": 15
           },
           "zerolinecolor": "white",
           "zerolinewidth": 2
          }
         }
        },
        "title": {
         "text": "Bar Plot of Coop vs FirstYearPersistence"
        },
        "xaxis": {
         "anchor": "y",
         "domain": [
          0,
          1
         ],
         "title": {
          "text": "Coop"
         },
         "type": "category"
        },
        "yaxis": {
         "anchor": "x",
         "domain": [
          0,
          1
         ],
         "title": {
          "text": "count"
         }
        }
       }
      }
     },
     "metadata": {},
     "output_type": "display_data"
    },
    {
     "data": {
      "application/vnd.plotly.v1+json": {
       "config": {
        "plotlyServerURL": "https://plot.ly"
       },
       "data": [
        {
         "alignmentgroup": "True",
         "bingroup": "x",
         "hovertemplate": "FirstYearPersistence=1<br>Residency=%{x}<br>count=%{y}<extra></extra>",
         "legendgroup": "1",
         "marker": {
          "color": "#636efa",
          "pattern": {
           "shape": ""
          }
         },
         "name": "1",
         "offsetgroup": "1",
         "orientation": "v",
         "showlegend": true,
         "type": "histogram",
         "x": [
          1,
          2,
          1,
          2,
          1,
          1,
          1,
          1,
          1,
          2,
          1,
          1,
          1,
          2,
          2,
          1,
          1,
          2,
          2,
          2,
          1,
          2,
          2,
          2,
          1,
          1,
          2,
          2,
          2,
          1,
          1,
          1,
          2,
          2,
          1,
          1,
          1,
          1,
          1,
          2,
          1,
          1,
          2,
          2,
          1,
          1,
          1,
          2,
          2,
          2,
          1,
          1,
          1,
          1,
          1,
          2,
          2,
          2,
          1,
          2,
          2,
          1,
          1,
          1,
          1,
          2,
          2,
          1,
          2,
          2,
          1,
          1,
          1,
          2,
          1,
          1,
          1,
          1,
          1,
          1,
          2,
          1,
          2,
          1,
          1,
          1,
          1,
          1,
          2,
          1,
          2,
          2,
          1,
          2,
          1,
          1,
          2,
          2,
          2,
          2,
          1,
          2,
          1,
          2,
          2,
          1,
          1,
          1,
          1,
          1,
          1,
          1,
          1,
          1,
          2,
          1,
          2,
          2,
          2,
          2,
          1,
          1,
          1,
          2,
          1,
          1,
          2,
          1,
          1,
          1,
          2,
          2,
          2,
          2,
          1,
          1,
          2,
          1,
          1,
          2,
          2,
          2,
          1,
          1,
          1,
          1,
          2,
          2,
          1,
          2,
          2,
          1,
          2,
          2,
          1,
          1,
          1,
          2,
          1,
          1,
          2,
          1,
          1,
          1,
          1,
          1,
          2,
          1,
          2,
          2,
          2,
          1,
          2,
          2,
          2,
          1,
          2,
          2,
          2,
          1,
          2,
          1,
          2,
          2,
          2,
          1,
          2,
          2,
          2,
          2,
          1,
          1,
          1,
          2,
          1,
          2,
          1,
          1,
          2,
          2,
          1,
          1,
          1,
          2,
          2,
          1,
          1,
          1,
          2,
          1,
          1,
          1,
          2,
          1,
          2,
          1,
          2,
          2,
          2,
          2,
          2,
          1,
          1,
          1,
          2,
          2,
          1,
          1,
          2,
          1,
          2,
          2,
          1,
          2,
          1,
          1,
          1,
          1,
          2,
          1,
          1,
          1,
          2,
          2,
          1,
          2,
          1,
          1,
          1,
          1,
          2,
          1,
          1,
          1,
          2,
          1,
          2,
          1,
          1,
          1,
          2,
          1,
          2,
          1,
          2,
          2,
          2,
          2,
          1,
          2,
          2,
          1,
          1,
          2,
          1,
          2,
          1,
          1,
          1,
          2,
          2,
          2,
          1,
          1,
          2,
          2,
          1,
          1,
          1,
          1,
          1,
          2,
          1,
          2,
          1,
          1,
          1,
          2,
          2,
          1,
          1,
          1,
          1,
          2,
          1,
          1,
          1,
          1,
          1,
          2,
          1,
          2,
          1,
          2,
          2,
          1,
          1,
          1,
          2,
          1,
          2,
          2,
          1,
          1,
          1,
          2,
          1,
          1,
          2,
          1,
          1,
          1,
          1,
          1,
          1,
          1,
          2,
          1,
          1,
          2,
          2,
          2,
          1,
          1,
          2,
          2,
          2,
          1,
          1,
          2,
          2,
          2,
          1,
          2,
          1,
          2,
          2,
          2,
          2,
          2,
          2,
          1,
          1,
          2,
          1,
          1,
          1,
          1,
          1,
          2,
          2,
          1,
          1,
          1,
          2,
          1,
          1,
          1,
          1,
          2,
          2,
          1,
          2,
          1,
          2,
          1,
          1,
          1,
          1,
          2,
          2,
          2,
          1,
          2,
          1,
          1,
          2,
          1,
          1,
          1,
          2,
          1,
          1,
          1,
          2,
          2,
          2,
          1,
          1,
          2,
          2,
          2,
          2,
          1,
          1,
          2,
          2,
          1,
          1,
          1,
          2,
          2,
          1,
          2,
          2,
          1,
          1,
          2,
          1,
          1,
          1,
          2,
          1,
          2,
          1,
          1,
          2,
          1,
          2,
          2,
          1,
          2,
          1,
          1,
          1,
          2,
          2,
          2,
          1,
          2,
          1,
          2,
          1,
          2,
          1,
          1,
          2,
          1,
          2,
          2,
          1,
          1,
          1,
          1,
          2,
          2,
          1,
          2,
          1,
          1,
          2,
          2,
          2,
          1,
          2,
          1,
          2,
          1,
          1,
          1,
          1,
          2,
          2,
          1,
          1,
          1,
          1,
          1,
          2,
          2,
          1,
          1,
          2,
          2,
          2,
          2,
          1,
          2,
          1,
          1,
          1,
          1,
          2,
          1,
          2,
          2,
          2,
          2,
          2,
          2,
          1,
          1,
          2,
          2,
          1,
          1,
          1,
          1,
          2,
          2,
          2,
          2,
          2,
          2,
          1,
          2,
          2,
          1,
          1,
          1,
          1,
          2,
          2,
          1,
          1,
          1,
          1,
          2,
          2,
          1,
          2,
          2,
          1,
          2,
          2,
          2,
          1,
          1,
          1,
          1,
          1,
          1,
          1,
          2,
          1,
          1,
          1,
          2,
          1,
          2,
          1,
          1,
          2,
          1,
          1,
          2,
          1,
          1,
          2,
          2,
          1,
          1,
          1,
          1,
          1,
          2,
          2,
          2,
          1,
          2,
          2,
          2,
          2,
          1,
          1,
          2,
          2,
          1,
          2,
          2,
          1,
          1,
          2,
          1,
          1,
          2,
          1,
          2,
          1,
          2,
          2,
          2,
          2,
          2,
          1,
          2,
          1,
          2,
          2,
          2,
          2,
          2,
          2,
          1,
          2,
          2,
          2,
          2,
          2,
          1,
          1,
          2,
          1,
          1,
          2,
          1,
          2,
          1,
          2,
          2,
          1,
          2,
          2,
          2,
          1,
          1,
          2,
          1,
          1,
          1,
          1,
          1,
          1,
          1,
          2,
          2,
          2,
          2,
          1,
          1,
          2,
          2,
          1,
          1,
          2,
          1,
          1,
          1,
          1,
          2,
          2,
          2,
          2,
          1,
          2,
          1,
          1,
          2,
          2,
          2,
          1,
          2,
          1,
          2,
          1,
          1,
          2,
          2,
          2,
          1,
          1,
          1,
          1,
          1,
          2,
          2,
          1,
          2,
          2,
          2,
          1,
          2,
          2,
          1,
          1,
          1,
          1,
          1,
          1,
          2,
          2,
          1,
          1,
          2,
          1,
          1,
          2,
          1,
          2,
          2,
          2,
          1,
          2,
          2,
          2,
          1,
          1,
          1,
          1,
          2,
          1,
          2,
          2,
          1,
          2,
          2,
          1,
          1,
          1,
          1,
          2,
          1,
          2,
          2,
          1,
          2,
          1,
          1,
          2,
          1,
          2,
          1,
          1,
          1,
          1,
          1,
          2,
          1,
          2,
          2,
          1,
          2,
          1,
          2,
          2,
          1,
          2,
          2,
          1,
          1,
          1,
          1,
          2,
          1,
          2,
          2,
          2,
          1,
          2,
          2,
          2,
          1,
          1,
          1,
          2,
          2,
          2,
          1,
          1,
          2,
          2,
          1,
          2,
          2,
          2,
          2,
          1,
          2,
          2,
          1,
          1,
          2,
          2,
          1,
          1,
          2,
          2,
          1,
          1,
          1,
          2,
          1,
          1,
          1,
          2,
          1,
          1,
          1,
          2,
          2,
          2,
          1,
          1,
          1,
          1,
          2,
          2,
          1,
          2,
          1,
          1,
          2,
          1,
          1,
          2,
          2,
          1,
          1,
          1,
          2,
          1,
          2,
          1,
          1,
          1,
          2,
          2,
          1,
          1,
          2,
          1,
          2,
          2,
          2,
          2,
          2,
          2,
          2,
          1,
          2,
          2,
          1,
          1,
          1,
          2,
          1,
          2,
          1,
          2,
          1,
          2,
          2,
          1,
          1,
          2,
          1,
          1,
          2,
          2,
          1,
          1,
          2,
          2,
          2,
          1,
          1,
          2,
          2,
          2,
          2,
          2,
          1,
          2,
          1,
          1,
          2,
          1,
          1,
          1,
          1,
          2,
          1,
          1,
          1,
          2,
          2,
          2,
          1,
          1,
          1,
          2,
          1,
          2,
          1,
          2,
          1,
          1,
          1,
          1,
          1,
          1,
          1,
          2,
          2,
          1,
          2,
          2,
          2,
          2,
          2,
          2,
          2,
          2,
          2,
          2,
          1,
          1,
          1,
          2,
          2,
          2,
          1,
          2,
          1,
          1,
          1,
          2,
          1,
          2,
          1,
          1,
          2,
          1,
          2,
          1,
          1,
          1,
          2,
          2,
          1,
          2,
          2,
          2,
          1,
          2,
          2,
          1,
          1,
          1,
          2,
          1,
          2,
          2,
          2,
          2,
          1,
          1,
          2,
          1,
          1,
          2,
          2,
          1,
          1,
          1,
          1,
          2,
          2,
          1,
          1,
          2,
          2,
          2,
          2,
          1,
          2,
          2,
          1,
          2,
          2,
          1,
          2,
          1,
          1,
          1,
          2,
          2,
          1,
          1,
          2,
          1,
          1,
          1,
          2,
          1,
          2,
          2,
          1,
          1,
          2,
          1,
          1,
          1,
          2,
          1,
          1,
          1,
          1,
          2,
          1,
          1,
          2,
          1,
          2,
          1,
          1,
          2,
          2,
          1,
          1,
          2,
          2,
          1,
          2,
          2,
          1,
          1,
          1,
          1,
          2,
          1,
          1,
          1,
          2,
          1,
          1,
          1,
          1,
          1,
          2,
          1,
          2,
          1,
          1,
          2,
          1,
          2,
          1,
          2,
          1,
          1,
          1,
          1,
          1,
          1,
          1,
          2,
          2,
          2,
          1,
          1,
          1,
          2,
          2,
          2,
          1,
          2,
          1,
          2,
          2,
          1,
          2,
          1,
          1,
          1,
          2,
          1,
          1,
          1,
          1,
          1,
          1,
          2,
          2,
          2,
          1,
          1,
          1,
          2,
          2,
          2,
          1,
          2,
          2,
          1,
          2,
          2,
          1,
          1,
          1,
          1,
          2,
          2,
          1,
          1,
          2,
          2,
          1,
          1,
          1,
          2,
          2,
          2,
          1,
          2,
          1,
          1,
          1,
          1,
          1,
          2,
          1,
          1,
          2,
          1
         ],
         "xaxis": "x",
         "yaxis": "y"
        },
        {
         "alignmentgroup": "True",
         "bingroup": "x",
         "hovertemplate": "FirstYearPersistence=0<br>Residency=%{x}<br>count=%{y}<extra></extra>",
         "legendgroup": "0",
         "marker": {
          "color": "#EF553B",
          "pattern": {
           "shape": ""
          }
         },
         "name": "0",
         "offsetgroup": "0",
         "orientation": "v",
         "showlegend": true,
         "type": "histogram",
         "x": [
          1,
          1,
          1,
          1,
          1,
          1,
          1,
          1,
          2,
          1,
          1,
          1,
          1,
          2,
          1,
          2,
          1,
          1,
          2,
          1,
          1,
          1,
          1,
          2,
          1,
          1,
          1,
          2,
          2,
          1,
          1,
          1,
          1,
          1,
          2,
          2,
          2,
          1,
          1,
          1,
          1,
          1,
          1,
          1,
          1,
          2,
          1,
          1,
          1,
          2,
          1,
          1,
          1,
          1,
          1,
          1,
          1,
          2,
          1,
          2,
          1,
          2,
          2,
          1,
          1,
          1,
          2,
          1,
          2,
          1,
          2,
          1,
          1,
          1,
          1,
          1,
          1,
          2,
          1,
          1,
          1,
          1,
          1,
          1,
          1,
          2,
          2,
          1,
          1,
          1,
          1,
          1,
          1,
          1,
          1,
          1,
          1,
          1,
          1,
          1,
          1,
          1,
          1,
          1,
          1,
          1,
          1,
          1,
          2,
          1,
          1,
          2,
          1,
          1,
          1,
          1,
          1,
          1,
          1,
          1,
          1,
          1,
          1,
          1,
          1,
          1,
          1,
          1,
          1,
          1,
          1,
          1,
          1,
          1,
          1,
          1,
          1,
          2,
          1,
          1,
          1,
          2,
          1,
          1,
          1,
          1,
          1,
          1,
          1,
          1,
          1,
          1,
          1,
          1,
          2,
          1,
          1,
          1,
          2,
          1,
          1,
          2,
          2,
          1,
          1,
          1,
          1,
          1,
          2,
          1,
          1,
          1,
          1,
          2,
          1,
          1,
          1,
          1,
          1,
          2,
          1,
          2,
          1,
          2,
          1,
          1,
          1,
          1,
          1,
          1,
          1,
          2,
          1,
          2,
          2,
          1,
          1,
          1,
          1,
          1,
          1,
          1,
          1,
          1,
          1,
          1,
          1,
          2,
          1,
          1,
          1,
          1,
          1,
          1,
          2,
          1,
          1,
          1,
          2,
          1,
          1,
          1,
          2,
          2,
          1,
          1,
          2,
          1,
          1,
          2,
          1,
          1,
          1,
          2,
          1,
          2,
          1,
          2,
          1,
          1,
          1,
          1,
          1,
          1,
          1,
          1,
          1,
          1,
          1,
          1,
          1,
          1,
          1,
          1,
          1,
          1,
          1,
          1,
          1,
          1,
          1,
          2,
          2,
          1,
          1,
          2,
          2,
          1,
          1,
          2,
          1,
          2,
          2,
          2,
          1,
          1,
          1,
          2,
          1,
          2,
          1,
          1,
          1,
          1,
          1,
          1,
          1,
          1,
          1,
          1,
          2,
          1,
          1,
          1,
          1,
          1,
          1,
          2
         ],
         "xaxis": "x",
         "yaxis": "y"
        }
       ],
       "layout": {
        "barmode": "group",
        "legend": {
         "title": {
          "text": "FirstYearPersistence"
         },
         "tracegroupgap": 0
        },
        "template": {
         "data": {
          "bar": [
           {
            "error_x": {
             "color": "#2a3f5f"
            },
            "error_y": {
             "color": "#2a3f5f"
            },
            "marker": {
             "line": {
              "color": "#E5ECF6",
              "width": 0.5
             },
             "pattern": {
              "fillmode": "overlay",
              "size": 10,
              "solidity": 0.2
             }
            },
            "type": "bar"
           }
          ],
          "barpolar": [
           {
            "marker": {
             "line": {
              "color": "#E5ECF6",
              "width": 0.5
             },
             "pattern": {
              "fillmode": "overlay",
              "size": 10,
              "solidity": 0.2
             }
            },
            "type": "barpolar"
           }
          ],
          "carpet": [
           {
            "aaxis": {
             "endlinecolor": "#2a3f5f",
             "gridcolor": "white",
             "linecolor": "white",
             "minorgridcolor": "white",
             "startlinecolor": "#2a3f5f"
            },
            "baxis": {
             "endlinecolor": "#2a3f5f",
             "gridcolor": "white",
             "linecolor": "white",
             "minorgridcolor": "white",
             "startlinecolor": "#2a3f5f"
            },
            "type": "carpet"
           }
          ],
          "choropleth": [
           {
            "colorbar": {
             "outlinewidth": 0,
             "ticks": ""
            },
            "type": "choropleth"
           }
          ],
          "contour": [
           {
            "colorbar": {
             "outlinewidth": 0,
             "ticks": ""
            },
            "colorscale": [
             [
              0,
              "#0d0887"
             ],
             [
              0.1111111111111111,
              "#46039f"
             ],
             [
              0.2222222222222222,
              "#7201a8"
             ],
             [
              0.3333333333333333,
              "#9c179e"
             ],
             [
              0.4444444444444444,
              "#bd3786"
             ],
             [
              0.5555555555555556,
              "#d8576b"
             ],
             [
              0.6666666666666666,
              "#ed7953"
             ],
             [
              0.7777777777777778,
              "#fb9f3a"
             ],
             [
              0.8888888888888888,
              "#fdca26"
             ],
             [
              1,
              "#f0f921"
             ]
            ],
            "type": "contour"
           }
          ],
          "contourcarpet": [
           {
            "colorbar": {
             "outlinewidth": 0,
             "ticks": ""
            },
            "type": "contourcarpet"
           }
          ],
          "heatmap": [
           {
            "colorbar": {
             "outlinewidth": 0,
             "ticks": ""
            },
            "colorscale": [
             [
              0,
              "#0d0887"
             ],
             [
              0.1111111111111111,
              "#46039f"
             ],
             [
              0.2222222222222222,
              "#7201a8"
             ],
             [
              0.3333333333333333,
              "#9c179e"
             ],
             [
              0.4444444444444444,
              "#bd3786"
             ],
             [
              0.5555555555555556,
              "#d8576b"
             ],
             [
              0.6666666666666666,
              "#ed7953"
             ],
             [
              0.7777777777777778,
              "#fb9f3a"
             ],
             [
              0.8888888888888888,
              "#fdca26"
             ],
             [
              1,
              "#f0f921"
             ]
            ],
            "type": "heatmap"
           }
          ],
          "heatmapgl": [
           {
            "colorbar": {
             "outlinewidth": 0,
             "ticks": ""
            },
            "colorscale": [
             [
              0,
              "#0d0887"
             ],
             [
              0.1111111111111111,
              "#46039f"
             ],
             [
              0.2222222222222222,
              "#7201a8"
             ],
             [
              0.3333333333333333,
              "#9c179e"
             ],
             [
              0.4444444444444444,
              "#bd3786"
             ],
             [
              0.5555555555555556,
              "#d8576b"
             ],
             [
              0.6666666666666666,
              "#ed7953"
             ],
             [
              0.7777777777777778,
              "#fb9f3a"
             ],
             [
              0.8888888888888888,
              "#fdca26"
             ],
             [
              1,
              "#f0f921"
             ]
            ],
            "type": "heatmapgl"
           }
          ],
          "histogram": [
           {
            "marker": {
             "pattern": {
              "fillmode": "overlay",
              "size": 10,
              "solidity": 0.2
             }
            },
            "type": "histogram"
           }
          ],
          "histogram2d": [
           {
            "colorbar": {
             "outlinewidth": 0,
             "ticks": ""
            },
            "colorscale": [
             [
              0,
              "#0d0887"
             ],
             [
              0.1111111111111111,
              "#46039f"
             ],
             [
              0.2222222222222222,
              "#7201a8"
             ],
             [
              0.3333333333333333,
              "#9c179e"
             ],
             [
              0.4444444444444444,
              "#bd3786"
             ],
             [
              0.5555555555555556,
              "#d8576b"
             ],
             [
              0.6666666666666666,
              "#ed7953"
             ],
             [
              0.7777777777777778,
              "#fb9f3a"
             ],
             [
              0.8888888888888888,
              "#fdca26"
             ],
             [
              1,
              "#f0f921"
             ]
            ],
            "type": "histogram2d"
           }
          ],
          "histogram2dcontour": [
           {
            "colorbar": {
             "outlinewidth": 0,
             "ticks": ""
            },
            "colorscale": [
             [
              0,
              "#0d0887"
             ],
             [
              0.1111111111111111,
              "#46039f"
             ],
             [
              0.2222222222222222,
              "#7201a8"
             ],
             [
              0.3333333333333333,
              "#9c179e"
             ],
             [
              0.4444444444444444,
              "#bd3786"
             ],
             [
              0.5555555555555556,
              "#d8576b"
             ],
             [
              0.6666666666666666,
              "#ed7953"
             ],
             [
              0.7777777777777778,
              "#fb9f3a"
             ],
             [
              0.8888888888888888,
              "#fdca26"
             ],
             [
              1,
              "#f0f921"
             ]
            ],
            "type": "histogram2dcontour"
           }
          ],
          "mesh3d": [
           {
            "colorbar": {
             "outlinewidth": 0,
             "ticks": ""
            },
            "type": "mesh3d"
           }
          ],
          "parcoords": [
           {
            "line": {
             "colorbar": {
              "outlinewidth": 0,
              "ticks": ""
             }
            },
            "type": "parcoords"
           }
          ],
          "pie": [
           {
            "automargin": true,
            "type": "pie"
           }
          ],
          "scatter": [
           {
            "fillpattern": {
             "fillmode": "overlay",
             "size": 10,
             "solidity": 0.2
            },
            "type": "scatter"
           }
          ],
          "scatter3d": [
           {
            "line": {
             "colorbar": {
              "outlinewidth": 0,
              "ticks": ""
             }
            },
            "marker": {
             "colorbar": {
              "outlinewidth": 0,
              "ticks": ""
             }
            },
            "type": "scatter3d"
           }
          ],
          "scattercarpet": [
           {
            "marker": {
             "colorbar": {
              "outlinewidth": 0,
              "ticks": ""
             }
            },
            "type": "scattercarpet"
           }
          ],
          "scattergeo": [
           {
            "marker": {
             "colorbar": {
              "outlinewidth": 0,
              "ticks": ""
             }
            },
            "type": "scattergeo"
           }
          ],
          "scattergl": [
           {
            "marker": {
             "colorbar": {
              "outlinewidth": 0,
              "ticks": ""
             }
            },
            "type": "scattergl"
           }
          ],
          "scattermapbox": [
           {
            "marker": {
             "colorbar": {
              "outlinewidth": 0,
              "ticks": ""
             }
            },
            "type": "scattermapbox"
           }
          ],
          "scatterpolar": [
           {
            "marker": {
             "colorbar": {
              "outlinewidth": 0,
              "ticks": ""
             }
            },
            "type": "scatterpolar"
           }
          ],
          "scatterpolargl": [
           {
            "marker": {
             "colorbar": {
              "outlinewidth": 0,
              "ticks": ""
             }
            },
            "type": "scatterpolargl"
           }
          ],
          "scatterternary": [
           {
            "marker": {
             "colorbar": {
              "outlinewidth": 0,
              "ticks": ""
             }
            },
            "type": "scatterternary"
           }
          ],
          "surface": [
           {
            "colorbar": {
             "outlinewidth": 0,
             "ticks": ""
            },
            "colorscale": [
             [
              0,
              "#0d0887"
             ],
             [
              0.1111111111111111,
              "#46039f"
             ],
             [
              0.2222222222222222,
              "#7201a8"
             ],
             [
              0.3333333333333333,
              "#9c179e"
             ],
             [
              0.4444444444444444,
              "#bd3786"
             ],
             [
              0.5555555555555556,
              "#d8576b"
             ],
             [
              0.6666666666666666,
              "#ed7953"
             ],
             [
              0.7777777777777778,
              "#fb9f3a"
             ],
             [
              0.8888888888888888,
              "#fdca26"
             ],
             [
              1,
              "#f0f921"
             ]
            ],
            "type": "surface"
           }
          ],
          "table": [
           {
            "cells": {
             "fill": {
              "color": "#EBF0F8"
             },
             "line": {
              "color": "white"
             }
            },
            "header": {
             "fill": {
              "color": "#C8D4E3"
             },
             "line": {
              "color": "white"
             }
            },
            "type": "table"
           }
          ]
         },
         "layout": {
          "annotationdefaults": {
           "arrowcolor": "#2a3f5f",
           "arrowhead": 0,
           "arrowwidth": 1
          },
          "autotypenumbers": "strict",
          "coloraxis": {
           "colorbar": {
            "outlinewidth": 0,
            "ticks": ""
           }
          },
          "colorscale": {
           "diverging": [
            [
             0,
             "#8e0152"
            ],
            [
             0.1,
             "#c51b7d"
            ],
            [
             0.2,
             "#de77ae"
            ],
            [
             0.3,
             "#f1b6da"
            ],
            [
             0.4,
             "#fde0ef"
            ],
            [
             0.5,
             "#f7f7f7"
            ],
            [
             0.6,
             "#e6f5d0"
            ],
            [
             0.7,
             "#b8e186"
            ],
            [
             0.8,
             "#7fbc41"
            ],
            [
             0.9,
             "#4d9221"
            ],
            [
             1,
             "#276419"
            ]
           ],
           "sequential": [
            [
             0,
             "#0d0887"
            ],
            [
             0.1111111111111111,
             "#46039f"
            ],
            [
             0.2222222222222222,
             "#7201a8"
            ],
            [
             0.3333333333333333,
             "#9c179e"
            ],
            [
             0.4444444444444444,
             "#bd3786"
            ],
            [
             0.5555555555555556,
             "#d8576b"
            ],
            [
             0.6666666666666666,
             "#ed7953"
            ],
            [
             0.7777777777777778,
             "#fb9f3a"
            ],
            [
             0.8888888888888888,
             "#fdca26"
            ],
            [
             1,
             "#f0f921"
            ]
           ],
           "sequentialminus": [
            [
             0,
             "#0d0887"
            ],
            [
             0.1111111111111111,
             "#46039f"
            ],
            [
             0.2222222222222222,
             "#7201a8"
            ],
            [
             0.3333333333333333,
             "#9c179e"
            ],
            [
             0.4444444444444444,
             "#bd3786"
            ],
            [
             0.5555555555555556,
             "#d8576b"
            ],
            [
             0.6666666666666666,
             "#ed7953"
            ],
            [
             0.7777777777777778,
             "#fb9f3a"
            ],
            [
             0.8888888888888888,
             "#fdca26"
            ],
            [
             1,
             "#f0f921"
            ]
           ]
          },
          "colorway": [
           "#636efa",
           "#EF553B",
           "#00cc96",
           "#ab63fa",
           "#FFA15A",
           "#19d3f3",
           "#FF6692",
           "#B6E880",
           "#FF97FF",
           "#FECB52"
          ],
          "font": {
           "color": "#2a3f5f"
          },
          "geo": {
           "bgcolor": "white",
           "lakecolor": "white",
           "landcolor": "#E5ECF6",
           "showlakes": true,
           "showland": true,
           "subunitcolor": "white"
          },
          "hoverlabel": {
           "align": "left"
          },
          "hovermode": "closest",
          "mapbox": {
           "style": "light"
          },
          "paper_bgcolor": "white",
          "plot_bgcolor": "#E5ECF6",
          "polar": {
           "angularaxis": {
            "gridcolor": "white",
            "linecolor": "white",
            "ticks": ""
           },
           "bgcolor": "#E5ECF6",
           "radialaxis": {
            "gridcolor": "white",
            "linecolor": "white",
            "ticks": ""
           }
          },
          "scene": {
           "xaxis": {
            "backgroundcolor": "#E5ECF6",
            "gridcolor": "white",
            "gridwidth": 2,
            "linecolor": "white",
            "showbackground": true,
            "ticks": "",
            "zerolinecolor": "white"
           },
           "yaxis": {
            "backgroundcolor": "#E5ECF6",
            "gridcolor": "white",
            "gridwidth": 2,
            "linecolor": "white",
            "showbackground": true,
            "ticks": "",
            "zerolinecolor": "white"
           },
           "zaxis": {
            "backgroundcolor": "#E5ECF6",
            "gridcolor": "white",
            "gridwidth": 2,
            "linecolor": "white",
            "showbackground": true,
            "ticks": "",
            "zerolinecolor": "white"
           }
          },
          "shapedefaults": {
           "line": {
            "color": "#2a3f5f"
           }
          },
          "ternary": {
           "aaxis": {
            "gridcolor": "white",
            "linecolor": "white",
            "ticks": ""
           },
           "baxis": {
            "gridcolor": "white",
            "linecolor": "white",
            "ticks": ""
           },
           "bgcolor": "#E5ECF6",
           "caxis": {
            "gridcolor": "white",
            "linecolor": "white",
            "ticks": ""
           }
          },
          "title": {
           "x": 0.05
          },
          "xaxis": {
           "automargin": true,
           "gridcolor": "white",
           "linecolor": "white",
           "ticks": "",
           "title": {
            "standoff": 15
           },
           "zerolinecolor": "white",
           "zerolinewidth": 2
          },
          "yaxis": {
           "automargin": true,
           "gridcolor": "white",
           "linecolor": "white",
           "ticks": "",
           "title": {
            "standoff": 15
           },
           "zerolinecolor": "white",
           "zerolinewidth": 2
          }
         }
        },
        "title": {
         "text": "Bar Plot of Residency vs FirstYearPersistence"
        },
        "xaxis": {
         "anchor": "y",
         "domain": [
          0,
          1
         ],
         "title": {
          "text": "Residency"
         },
         "type": "category"
        },
        "yaxis": {
         "anchor": "x",
         "domain": [
          0,
          1
         ],
         "title": {
          "text": "count"
         }
        }
       }
      }
     },
     "metadata": {},
     "output_type": "display_data"
    },
    {
     "data": {
      "application/vnd.plotly.v1+json": {
       "config": {
        "plotlyServerURL": "https://plot.ly"
       },
       "data": [
        {
         "alignmentgroup": "True",
         "bingroup": "x",
         "hovertemplate": "FirstYearPersistence=1<br>Gender=%{x}<br>count=%{y}<extra></extra>",
         "legendgroup": "1",
         "marker": {
          "color": "#636efa",
          "pattern": {
           "shape": ""
          }
         },
         "name": "1",
         "offsetgroup": "1",
         "orientation": "v",
         "showlegend": true,
         "type": "histogram",
         "x": [
          2,
          2,
          1,
          2,
          1,
          2,
          2,
          1,
          2,
          2,
          2,
          2,
          2,
          2,
          2,
          1,
          2,
          2,
          2,
          2,
          1,
          1,
          2,
          2,
          2,
          2,
          1,
          1,
          2,
          2,
          1,
          2,
          1,
          2,
          2,
          1,
          2,
          2,
          1,
          2,
          1,
          1,
          1,
          2,
          2,
          2,
          2,
          2,
          2,
          2,
          1,
          2,
          2,
          1,
          2,
          2,
          2,
          1,
          2,
          1,
          2,
          2,
          2,
          2,
          2,
          1,
          2,
          1,
          1,
          2,
          2,
          2,
          2,
          2,
          2,
          2,
          2,
          1,
          2,
          2,
          2,
          2,
          2,
          2,
          2,
          2,
          2,
          1,
          1,
          2,
          2,
          1,
          1,
          2,
          2,
          1,
          2,
          1,
          2,
          1,
          2,
          2,
          2,
          2,
          2,
          2,
          1,
          2,
          2,
          2,
          2,
          1,
          2,
          1,
          2,
          2,
          2,
          1,
          2,
          2,
          1,
          2,
          2,
          2,
          2,
          1,
          2,
          2,
          1,
          2,
          2,
          2,
          2,
          2,
          2,
          2,
          2,
          2,
          2,
          1,
          2,
          2,
          2,
          2,
          2,
          2,
          2,
          2,
          1,
          1,
          2,
          2,
          2,
          2,
          1,
          1,
          1,
          2,
          1,
          1,
          2,
          2,
          1,
          1,
          2,
          2,
          2,
          2,
          2,
          2,
          2,
          1,
          2,
          1,
          2,
          1,
          2,
          2,
          2,
          2,
          2,
          1,
          2,
          2,
          2,
          2,
          2,
          1,
          2,
          2,
          2,
          1,
          1,
          2,
          2,
          1,
          2,
          2,
          2,
          1,
          2,
          2,
          2,
          2,
          2,
          1,
          2,
          1,
          2,
          2,
          2,
          2,
          2,
          2,
          2,
          2,
          2,
          2,
          1,
          2,
          2,
          2,
          2,
          2,
          1,
          2,
          2,
          2,
          2,
          2,
          1,
          1,
          1,
          2,
          2,
          2,
          2,
          2,
          1,
          2,
          2,
          2,
          1,
          1,
          2,
          2,
          2,
          1,
          2,
          1,
          2,
          2,
          2,
          1,
          2,
          2,
          1,
          2,
          2,
          2,
          2,
          2,
          2,
          2,
          1,
          2,
          2,
          2,
          2,
          2,
          2,
          2,
          2,
          2,
          2,
          2,
          2,
          1,
          2,
          2,
          2,
          2,
          2,
          2,
          2,
          2,
          2,
          2,
          2,
          2,
          2,
          1,
          2,
          2,
          2,
          1,
          2,
          2,
          2,
          2,
          2,
          2,
          1,
          2,
          2,
          2,
          2,
          2,
          2,
          2,
          2,
          2,
          1,
          2,
          2,
          1,
          2,
          2,
          2,
          1,
          2,
          1,
          1,
          1,
          2,
          2,
          2,
          2,
          1,
          2,
          1,
          2,
          2,
          1,
          2,
          2,
          2,
          1,
          2,
          2,
          2,
          2,
          2,
          2,
          2,
          2,
          1,
          2,
          2,
          1,
          2,
          2,
          2,
          2,
          2,
          2,
          1,
          2,
          2,
          2,
          1,
          2,
          1,
          2,
          2,
          2,
          2,
          2,
          2,
          1,
          1,
          2,
          2,
          2,
          2,
          2,
          2,
          2,
          2,
          1,
          2,
          2,
          2,
          2,
          2,
          2,
          2,
          2,
          2,
          2,
          1,
          2,
          2,
          2,
          2,
          2,
          2,
          2,
          1,
          2,
          2,
          2,
          2,
          2,
          2,
          1,
          2,
          2,
          1,
          2,
          2,
          2,
          2,
          2,
          2,
          2,
          2,
          2,
          2,
          2,
          2,
          2,
          2,
          2,
          1,
          2,
          2,
          1,
          2,
          2,
          2,
          2,
          1,
          2,
          1,
          2,
          2,
          2,
          2,
          2,
          1,
          2,
          2,
          1,
          1,
          2,
          1,
          2,
          2,
          1,
          2,
          2,
          2,
          2,
          2,
          2,
          2,
          2,
          2,
          2,
          2,
          2,
          2,
          2,
          1,
          1,
          2,
          1,
          2,
          2,
          2,
          2,
          1,
          2,
          2,
          1,
          2,
          2,
          2,
          2,
          2,
          2,
          1,
          2,
          2,
          2,
          2,
          2,
          2,
          2,
          2,
          2,
          2,
          2,
          2,
          2,
          2,
          1,
          2,
          2,
          2,
          2,
          2,
          1,
          2,
          1,
          1,
          2,
          2,
          1,
          2,
          2,
          1,
          1,
          2,
          2,
          2,
          2,
          1,
          1,
          2,
          2,
          2,
          2,
          2,
          1,
          1,
          1,
          1,
          2,
          2,
          2,
          1,
          2,
          2,
          2,
          2,
          2,
          2,
          1,
          1,
          2,
          1,
          1,
          2,
          2,
          2,
          2,
          2,
          2,
          2,
          2,
          2,
          1,
          2,
          2,
          2,
          1,
          1,
          2,
          2,
          2,
          1,
          2,
          2,
          2,
          2,
          2,
          1,
          1,
          2,
          2,
          2,
          2,
          2,
          2,
          1,
          1,
          1,
          2,
          2,
          1,
          2,
          2,
          2,
          2,
          1,
          2,
          2,
          2,
          2,
          1,
          2,
          2,
          2,
          2,
          1,
          2,
          2,
          2,
          2,
          2,
          2,
          2,
          2,
          1,
          2,
          1,
          2,
          2,
          2,
          2,
          1,
          1,
          1,
          1,
          2,
          2,
          2,
          1,
          1,
          1,
          1,
          2,
          1,
          2,
          2,
          2,
          2,
          2,
          2,
          2,
          2,
          2,
          2,
          2,
          1,
          2,
          2,
          2,
          1,
          1,
          1,
          2,
          1,
          2,
          2,
          2,
          1,
          2,
          2,
          1,
          2,
          2,
          2,
          1,
          2,
          2,
          1,
          1,
          1,
          1,
          2,
          2,
          2,
          2,
          2,
          1,
          2,
          2,
          1,
          2,
          2,
          2,
          2,
          2,
          2,
          2,
          2,
          2,
          2,
          2,
          2,
          2,
          1,
          2,
          2,
          2,
          2,
          2,
          2,
          2,
          1,
          2,
          2,
          2,
          2,
          2,
          1,
          2,
          2,
          2,
          2,
          2,
          2,
          1,
          2,
          2,
          2,
          2,
          2,
          2,
          1,
          2,
          2,
          2,
          2,
          1,
          2,
          1,
          1,
          2,
          2,
          2,
          2,
          2,
          1,
          2,
          2,
          2,
          2,
          2,
          2,
          1,
          1,
          2,
          2,
          2,
          2,
          2,
          2,
          2,
          2,
          2,
          2,
          2,
          1,
          2,
          1,
          2,
          2,
          2,
          2,
          2,
          2,
          2,
          2,
          2,
          2,
          2,
          1,
          2,
          2,
          2,
          2,
          2,
          1,
          2,
          2,
          1,
          2,
          2,
          2,
          1,
          2,
          1,
          2,
          2,
          2,
          1,
          2,
          2,
          2,
          2,
          1,
          2,
          2,
          2,
          2,
          2,
          2,
          2,
          1,
          2,
          2,
          1,
          2,
          2,
          1,
          2,
          2,
          1,
          1,
          2,
          1,
          1,
          2,
          2,
          2,
          1,
          2,
          1,
          2,
          2,
          2,
          2,
          1,
          2,
          2,
          2,
          2,
          2,
          2,
          2,
          2,
          2,
          2,
          1,
          2,
          2,
          2,
          2,
          2,
          1,
          2,
          2,
          2,
          2,
          2,
          1,
          2,
          2,
          2,
          2,
          2,
          2,
          2,
          2,
          1,
          2,
          1,
          2,
          1,
          2,
          1,
          1,
          2,
          2,
          1,
          2,
          2,
          2,
          2,
          1,
          2,
          2,
          1,
          2,
          2,
          2,
          2,
          1,
          2,
          2,
          1,
          2,
          2,
          2,
          2,
          1,
          1,
          2,
          2,
          2,
          2,
          2,
          1,
          2,
          2,
          2,
          1,
          2,
          2,
          2,
          1,
          2,
          1,
          1,
          2,
          2,
          2,
          2,
          1,
          1,
          1,
          2,
          2,
          2,
          2,
          2,
          2,
          1,
          1,
          1,
          2,
          2,
          2,
          1,
          1,
          2,
          2,
          2,
          2,
          2,
          2,
          1,
          2,
          2,
          1,
          2,
          2,
          2,
          1,
          2,
          1,
          2,
          2,
          2,
          2,
          1,
          2,
          2,
          2,
          2,
          1,
          2,
          1,
          1,
          2,
          2,
          2,
          2,
          2,
          1,
          2,
          2,
          2,
          1,
          2,
          2,
          2,
          2,
          2,
          2,
          2,
          2,
          2,
          2,
          2,
          2,
          1,
          1,
          1,
          2,
          2,
          2,
          2,
          2,
          2,
          2,
          1,
          2,
          2,
          2,
          2,
          1,
          2,
          2,
          2,
          2,
          2,
          1,
          2,
          2,
          2,
          2,
          2,
          2,
          2,
          2,
          2,
          2,
          2,
          2,
          1,
          2,
          1,
          1,
          2,
          2,
          2,
          2,
          2,
          2,
          2,
          2,
          1,
          2,
          2,
          2,
          1,
          1,
          2,
          1,
          2,
          2,
          2,
          2,
          2,
          2,
          1,
          2,
          1,
          2,
          2,
          1,
          2,
          2,
          2,
          2,
          2,
          2,
          1,
          1,
          2,
          2,
          2,
          2,
          2,
          2,
          2,
          1,
          1,
          2,
          1,
          1,
          2,
          2,
          2,
          2,
          2,
          1,
          2,
          2,
          2,
          2,
          2,
          2,
          2,
          2,
          2,
          2,
          2,
          2,
          1,
          2,
          2,
          2,
          2,
          1,
          2,
          2,
          2,
          2,
          2,
          2,
          1,
          2,
          1,
          2,
          1,
          2,
          1,
          2,
          2,
          2,
          2,
          2,
          2,
          2,
          2,
          2,
          2,
          1,
          2,
          2,
          2,
          1,
          2,
          2,
          1,
          2,
          2,
          2,
          1,
          2,
          2,
          2,
          2,
          2,
          2,
          2,
          2,
          2,
          2,
          2,
          2,
          1,
          1,
          1,
          2,
          1,
          2,
          1,
          1
         ],
         "xaxis": "x",
         "yaxis": "y"
        },
        {
         "alignmentgroup": "True",
         "bingroup": "x",
         "hovertemplate": "FirstYearPersistence=0<br>Gender=%{x}<br>count=%{y}<extra></extra>",
         "legendgroup": "0",
         "marker": {
          "color": "#EF553B",
          "pattern": {
           "shape": ""
          }
         },
         "name": "0",
         "offsetgroup": "0",
         "orientation": "v",
         "showlegend": true,
         "type": "histogram",
         "x": [
          2,
          2,
          2,
          2,
          2,
          2,
          1,
          2,
          2,
          2,
          2,
          2,
          2,
          1,
          2,
          2,
          2,
          2,
          2,
          2,
          2,
          2,
          2,
          2,
          1,
          2,
          2,
          2,
          2,
          1,
          2,
          2,
          2,
          1,
          2,
          2,
          1,
          2,
          2,
          2,
          2,
          2,
          2,
          2,
          2,
          2,
          2,
          2,
          2,
          1,
          2,
          2,
          2,
          2,
          2,
          2,
          1,
          2,
          1,
          2,
          2,
          2,
          2,
          2,
          2,
          2,
          2,
          1,
          1,
          2,
          2,
          2,
          1,
          2,
          2,
          2,
          2,
          1,
          2,
          2,
          2,
          2,
          2,
          2,
          1,
          2,
          1,
          2,
          1,
          2,
          2,
          2,
          1,
          2,
          2,
          2,
          2,
          2,
          2,
          2,
          2,
          2,
          2,
          2,
          2,
          2,
          2,
          2,
          2,
          2,
          2,
          2,
          2,
          2,
          2,
          2,
          2,
          2,
          1,
          2,
          2,
          2,
          2,
          2,
          2,
          2,
          2,
          3,
          2,
          2,
          1,
          2,
          1,
          1,
          2,
          2,
          2,
          2,
          2,
          2,
          2,
          1,
          2,
          2,
          2,
          2,
          2,
          2,
          2,
          2,
          2,
          2,
          2,
          2,
          1,
          2,
          2,
          2,
          1,
          1,
          1,
          2,
          2,
          1,
          2,
          1,
          2,
          2,
          1,
          2,
          2,
          2,
          2,
          2,
          2,
          2,
          2,
          2,
          1,
          2,
          2,
          2,
          2,
          1,
          2,
          1,
          2,
          2,
          2,
          1,
          2,
          2,
          2,
          2,
          2,
          2,
          2,
          2,
          2,
          1,
          2,
          2,
          2,
          1,
          1,
          2,
          1,
          2,
          2,
          2,
          2,
          2,
          2,
          2,
          2,
          2,
          2,
          2,
          1,
          2,
          2,
          1,
          2,
          2,
          1,
          2,
          2,
          2,
          2,
          2,
          2,
          2,
          2,
          2,
          2,
          1,
          1,
          2,
          2,
          2,
          2,
          2,
          2,
          2,
          2,
          1,
          2,
          2,
          2,
          2,
          2,
          2,
          2,
          2,
          2,
          1,
          2,
          2,
          2,
          2,
          2,
          2,
          2,
          2,
          2,
          2,
          1,
          2,
          2,
          1,
          2,
          2,
          2,
          2,
          2,
          2,
          2,
          1,
          2,
          2,
          1,
          1,
          2,
          2,
          2,
          2,
          2,
          2,
          2,
          2,
          2,
          2,
          2,
          2,
          1,
          2,
          2,
          2
         ],
         "xaxis": "x",
         "yaxis": "y"
        }
       ],
       "layout": {
        "barmode": "group",
        "legend": {
         "title": {
          "text": "FirstYearPersistence"
         },
         "tracegroupgap": 0
        },
        "template": {
         "data": {
          "bar": [
           {
            "error_x": {
             "color": "#2a3f5f"
            },
            "error_y": {
             "color": "#2a3f5f"
            },
            "marker": {
             "line": {
              "color": "#E5ECF6",
              "width": 0.5
             },
             "pattern": {
              "fillmode": "overlay",
              "size": 10,
              "solidity": 0.2
             }
            },
            "type": "bar"
           }
          ],
          "barpolar": [
           {
            "marker": {
             "line": {
              "color": "#E5ECF6",
              "width": 0.5
             },
             "pattern": {
              "fillmode": "overlay",
              "size": 10,
              "solidity": 0.2
             }
            },
            "type": "barpolar"
           }
          ],
          "carpet": [
           {
            "aaxis": {
             "endlinecolor": "#2a3f5f",
             "gridcolor": "white",
             "linecolor": "white",
             "minorgridcolor": "white",
             "startlinecolor": "#2a3f5f"
            },
            "baxis": {
             "endlinecolor": "#2a3f5f",
             "gridcolor": "white",
             "linecolor": "white",
             "minorgridcolor": "white",
             "startlinecolor": "#2a3f5f"
            },
            "type": "carpet"
           }
          ],
          "choropleth": [
           {
            "colorbar": {
             "outlinewidth": 0,
             "ticks": ""
            },
            "type": "choropleth"
           }
          ],
          "contour": [
           {
            "colorbar": {
             "outlinewidth": 0,
             "ticks": ""
            },
            "colorscale": [
             [
              0,
              "#0d0887"
             ],
             [
              0.1111111111111111,
              "#46039f"
             ],
             [
              0.2222222222222222,
              "#7201a8"
             ],
             [
              0.3333333333333333,
              "#9c179e"
             ],
             [
              0.4444444444444444,
              "#bd3786"
             ],
             [
              0.5555555555555556,
              "#d8576b"
             ],
             [
              0.6666666666666666,
              "#ed7953"
             ],
             [
              0.7777777777777778,
              "#fb9f3a"
             ],
             [
              0.8888888888888888,
              "#fdca26"
             ],
             [
              1,
              "#f0f921"
             ]
            ],
            "type": "contour"
           }
          ],
          "contourcarpet": [
           {
            "colorbar": {
             "outlinewidth": 0,
             "ticks": ""
            },
            "type": "contourcarpet"
           }
          ],
          "heatmap": [
           {
            "colorbar": {
             "outlinewidth": 0,
             "ticks": ""
            },
            "colorscale": [
             [
              0,
              "#0d0887"
             ],
             [
              0.1111111111111111,
              "#46039f"
             ],
             [
              0.2222222222222222,
              "#7201a8"
             ],
             [
              0.3333333333333333,
              "#9c179e"
             ],
             [
              0.4444444444444444,
              "#bd3786"
             ],
             [
              0.5555555555555556,
              "#d8576b"
             ],
             [
              0.6666666666666666,
              "#ed7953"
             ],
             [
              0.7777777777777778,
              "#fb9f3a"
             ],
             [
              0.8888888888888888,
              "#fdca26"
             ],
             [
              1,
              "#f0f921"
             ]
            ],
            "type": "heatmap"
           }
          ],
          "heatmapgl": [
           {
            "colorbar": {
             "outlinewidth": 0,
             "ticks": ""
            },
            "colorscale": [
             [
              0,
              "#0d0887"
             ],
             [
              0.1111111111111111,
              "#46039f"
             ],
             [
              0.2222222222222222,
              "#7201a8"
             ],
             [
              0.3333333333333333,
              "#9c179e"
             ],
             [
              0.4444444444444444,
              "#bd3786"
             ],
             [
              0.5555555555555556,
              "#d8576b"
             ],
             [
              0.6666666666666666,
              "#ed7953"
             ],
             [
              0.7777777777777778,
              "#fb9f3a"
             ],
             [
              0.8888888888888888,
              "#fdca26"
             ],
             [
              1,
              "#f0f921"
             ]
            ],
            "type": "heatmapgl"
           }
          ],
          "histogram": [
           {
            "marker": {
             "pattern": {
              "fillmode": "overlay",
              "size": 10,
              "solidity": 0.2
             }
            },
            "type": "histogram"
           }
          ],
          "histogram2d": [
           {
            "colorbar": {
             "outlinewidth": 0,
             "ticks": ""
            },
            "colorscale": [
             [
              0,
              "#0d0887"
             ],
             [
              0.1111111111111111,
              "#46039f"
             ],
             [
              0.2222222222222222,
              "#7201a8"
             ],
             [
              0.3333333333333333,
              "#9c179e"
             ],
             [
              0.4444444444444444,
              "#bd3786"
             ],
             [
              0.5555555555555556,
              "#d8576b"
             ],
             [
              0.6666666666666666,
              "#ed7953"
             ],
             [
              0.7777777777777778,
              "#fb9f3a"
             ],
             [
              0.8888888888888888,
              "#fdca26"
             ],
             [
              1,
              "#f0f921"
             ]
            ],
            "type": "histogram2d"
           }
          ],
          "histogram2dcontour": [
           {
            "colorbar": {
             "outlinewidth": 0,
             "ticks": ""
            },
            "colorscale": [
             [
              0,
              "#0d0887"
             ],
             [
              0.1111111111111111,
              "#46039f"
             ],
             [
              0.2222222222222222,
              "#7201a8"
             ],
             [
              0.3333333333333333,
              "#9c179e"
             ],
             [
              0.4444444444444444,
              "#bd3786"
             ],
             [
              0.5555555555555556,
              "#d8576b"
             ],
             [
              0.6666666666666666,
              "#ed7953"
             ],
             [
              0.7777777777777778,
              "#fb9f3a"
             ],
             [
              0.8888888888888888,
              "#fdca26"
             ],
             [
              1,
              "#f0f921"
             ]
            ],
            "type": "histogram2dcontour"
           }
          ],
          "mesh3d": [
           {
            "colorbar": {
             "outlinewidth": 0,
             "ticks": ""
            },
            "type": "mesh3d"
           }
          ],
          "parcoords": [
           {
            "line": {
             "colorbar": {
              "outlinewidth": 0,
              "ticks": ""
             }
            },
            "type": "parcoords"
           }
          ],
          "pie": [
           {
            "automargin": true,
            "type": "pie"
           }
          ],
          "scatter": [
           {
            "fillpattern": {
             "fillmode": "overlay",
             "size": 10,
             "solidity": 0.2
            },
            "type": "scatter"
           }
          ],
          "scatter3d": [
           {
            "line": {
             "colorbar": {
              "outlinewidth": 0,
              "ticks": ""
             }
            },
            "marker": {
             "colorbar": {
              "outlinewidth": 0,
              "ticks": ""
             }
            },
            "type": "scatter3d"
           }
          ],
          "scattercarpet": [
           {
            "marker": {
             "colorbar": {
              "outlinewidth": 0,
              "ticks": ""
             }
            },
            "type": "scattercarpet"
           }
          ],
          "scattergeo": [
           {
            "marker": {
             "colorbar": {
              "outlinewidth": 0,
              "ticks": ""
             }
            },
            "type": "scattergeo"
           }
          ],
          "scattergl": [
           {
            "marker": {
             "colorbar": {
              "outlinewidth": 0,
              "ticks": ""
             }
            },
            "type": "scattergl"
           }
          ],
          "scattermapbox": [
           {
            "marker": {
             "colorbar": {
              "outlinewidth": 0,
              "ticks": ""
             }
            },
            "type": "scattermapbox"
           }
          ],
          "scatterpolar": [
           {
            "marker": {
             "colorbar": {
              "outlinewidth": 0,
              "ticks": ""
             }
            },
            "type": "scatterpolar"
           }
          ],
          "scatterpolargl": [
           {
            "marker": {
             "colorbar": {
              "outlinewidth": 0,
              "ticks": ""
             }
            },
            "type": "scatterpolargl"
           }
          ],
          "scatterternary": [
           {
            "marker": {
             "colorbar": {
              "outlinewidth": 0,
              "ticks": ""
             }
            },
            "type": "scatterternary"
           }
          ],
          "surface": [
           {
            "colorbar": {
             "outlinewidth": 0,
             "ticks": ""
            },
            "colorscale": [
             [
              0,
              "#0d0887"
             ],
             [
              0.1111111111111111,
              "#46039f"
             ],
             [
              0.2222222222222222,
              "#7201a8"
             ],
             [
              0.3333333333333333,
              "#9c179e"
             ],
             [
              0.4444444444444444,
              "#bd3786"
             ],
             [
              0.5555555555555556,
              "#d8576b"
             ],
             [
              0.6666666666666666,
              "#ed7953"
             ],
             [
              0.7777777777777778,
              "#fb9f3a"
             ],
             [
              0.8888888888888888,
              "#fdca26"
             ],
             [
              1,
              "#f0f921"
             ]
            ],
            "type": "surface"
           }
          ],
          "table": [
           {
            "cells": {
             "fill": {
              "color": "#EBF0F8"
             },
             "line": {
              "color": "white"
             }
            },
            "header": {
             "fill": {
              "color": "#C8D4E3"
             },
             "line": {
              "color": "white"
             }
            },
            "type": "table"
           }
          ]
         },
         "layout": {
          "annotationdefaults": {
           "arrowcolor": "#2a3f5f",
           "arrowhead": 0,
           "arrowwidth": 1
          },
          "autotypenumbers": "strict",
          "coloraxis": {
           "colorbar": {
            "outlinewidth": 0,
            "ticks": ""
           }
          },
          "colorscale": {
           "diverging": [
            [
             0,
             "#8e0152"
            ],
            [
             0.1,
             "#c51b7d"
            ],
            [
             0.2,
             "#de77ae"
            ],
            [
             0.3,
             "#f1b6da"
            ],
            [
             0.4,
             "#fde0ef"
            ],
            [
             0.5,
             "#f7f7f7"
            ],
            [
             0.6,
             "#e6f5d0"
            ],
            [
             0.7,
             "#b8e186"
            ],
            [
             0.8,
             "#7fbc41"
            ],
            [
             0.9,
             "#4d9221"
            ],
            [
             1,
             "#276419"
            ]
           ],
           "sequential": [
            [
             0,
             "#0d0887"
            ],
            [
             0.1111111111111111,
             "#46039f"
            ],
            [
             0.2222222222222222,
             "#7201a8"
            ],
            [
             0.3333333333333333,
             "#9c179e"
            ],
            [
             0.4444444444444444,
             "#bd3786"
            ],
            [
             0.5555555555555556,
             "#d8576b"
            ],
            [
             0.6666666666666666,
             "#ed7953"
            ],
            [
             0.7777777777777778,
             "#fb9f3a"
            ],
            [
             0.8888888888888888,
             "#fdca26"
            ],
            [
             1,
             "#f0f921"
            ]
           ],
           "sequentialminus": [
            [
             0,
             "#0d0887"
            ],
            [
             0.1111111111111111,
             "#46039f"
            ],
            [
             0.2222222222222222,
             "#7201a8"
            ],
            [
             0.3333333333333333,
             "#9c179e"
            ],
            [
             0.4444444444444444,
             "#bd3786"
            ],
            [
             0.5555555555555556,
             "#d8576b"
            ],
            [
             0.6666666666666666,
             "#ed7953"
            ],
            [
             0.7777777777777778,
             "#fb9f3a"
            ],
            [
             0.8888888888888888,
             "#fdca26"
            ],
            [
             1,
             "#f0f921"
            ]
           ]
          },
          "colorway": [
           "#636efa",
           "#EF553B",
           "#00cc96",
           "#ab63fa",
           "#FFA15A",
           "#19d3f3",
           "#FF6692",
           "#B6E880",
           "#FF97FF",
           "#FECB52"
          ],
          "font": {
           "color": "#2a3f5f"
          },
          "geo": {
           "bgcolor": "white",
           "lakecolor": "white",
           "landcolor": "#E5ECF6",
           "showlakes": true,
           "showland": true,
           "subunitcolor": "white"
          },
          "hoverlabel": {
           "align": "left"
          },
          "hovermode": "closest",
          "mapbox": {
           "style": "light"
          },
          "paper_bgcolor": "white",
          "plot_bgcolor": "#E5ECF6",
          "polar": {
           "angularaxis": {
            "gridcolor": "white",
            "linecolor": "white",
            "ticks": ""
           },
           "bgcolor": "#E5ECF6",
           "radialaxis": {
            "gridcolor": "white",
            "linecolor": "white",
            "ticks": ""
           }
          },
          "scene": {
           "xaxis": {
            "backgroundcolor": "#E5ECF6",
            "gridcolor": "white",
            "gridwidth": 2,
            "linecolor": "white",
            "showbackground": true,
            "ticks": "",
            "zerolinecolor": "white"
           },
           "yaxis": {
            "backgroundcolor": "#E5ECF6",
            "gridcolor": "white",
            "gridwidth": 2,
            "linecolor": "white",
            "showbackground": true,
            "ticks": "",
            "zerolinecolor": "white"
           },
           "zaxis": {
            "backgroundcolor": "#E5ECF6",
            "gridcolor": "white",
            "gridwidth": 2,
            "linecolor": "white",
            "showbackground": true,
            "ticks": "",
            "zerolinecolor": "white"
           }
          },
          "shapedefaults": {
           "line": {
            "color": "#2a3f5f"
           }
          },
          "ternary": {
           "aaxis": {
            "gridcolor": "white",
            "linecolor": "white",
            "ticks": ""
           },
           "baxis": {
            "gridcolor": "white",
            "linecolor": "white",
            "ticks": ""
           },
           "bgcolor": "#E5ECF6",
           "caxis": {
            "gridcolor": "white",
            "linecolor": "white",
            "ticks": ""
           }
          },
          "title": {
           "x": 0.05
          },
          "xaxis": {
           "automargin": true,
           "gridcolor": "white",
           "linecolor": "white",
           "ticks": "",
           "title": {
            "standoff": 15
           },
           "zerolinecolor": "white",
           "zerolinewidth": 2
          },
          "yaxis": {
           "automargin": true,
           "gridcolor": "white",
           "linecolor": "white",
           "ticks": "",
           "title": {
            "standoff": 15
           },
           "zerolinecolor": "white",
           "zerolinewidth": 2
          }
         }
        },
        "title": {
         "text": "Bar Plot of Gender vs FirstYearPersistence"
        },
        "xaxis": {
         "anchor": "y",
         "domain": [
          0,
          1
         ],
         "title": {
          "text": "Gender"
         },
         "type": "category"
        },
        "yaxis": {
         "anchor": "x",
         "domain": [
          0,
          1
         ],
         "title": {
          "text": "count"
         }
        }
       }
      }
     },
     "metadata": {},
     "output_type": "display_data"
    },
    {
     "data": {
      "application/vnd.plotly.v1+json": {
       "config": {
        "plotlyServerURL": "https://plot.ly"
       },
       "data": [
        {
         "alignmentgroup": "True",
         "bingroup": "x",
         "hovertemplate": "FirstYearPersistence=1<br>Previous Education=%{x}<br>count=%{y}<extra></extra>",
         "legendgroup": "1",
         "marker": {
          "color": "#636efa",
          "pattern": {
           "shape": ""
          }
         },
         "name": "1",
         "offsetgroup": "1",
         "orientation": "v",
         "showlegend": true,
         "type": "histogram",
         "x": [
          1,
          1,
          2,
          2,
          2,
          2,
          1,
          1,
          1,
          2,
          1,
          1,
          1,
          1,
          2,
          2,
          2,
          2,
          1,
          2,
          2,
          1,
          2,
          1,
          2,
          2,
          2,
          2,
          2,
          2,
          0,
          1,
          1,
          1,
          1,
          2,
          1,
          1,
          1,
          2,
          1,
          2,
          1,
          2,
          1,
          1,
          1,
          1,
          1,
          2,
          1,
          1,
          1,
          1,
          1,
          2,
          1,
          2,
          2,
          2,
          1,
          1,
          0,
          1,
          1,
          1,
          1,
          1,
          1,
          2,
          1,
          1,
          1,
          1,
          1,
          2,
          1,
          2,
          1,
          1,
          1,
          1,
          1,
          1,
          1,
          1,
          1,
          2,
          1,
          1,
          2,
          2,
          1,
          2,
          2,
          2,
          2,
          2,
          1,
          2,
          1,
          2,
          1,
          1,
          2,
          1,
          2,
          2,
          1,
          2,
          2,
          2,
          1,
          1,
          1,
          1,
          2,
          1,
          2,
          2,
          1,
          1,
          2,
          1,
          1,
          2,
          1,
          1,
          2,
          2,
          1,
          1,
          2,
          2,
          1,
          1,
          2,
          2,
          1,
          2,
          1,
          2,
          1,
          2,
          1,
          1,
          2,
          1,
          2,
          2,
          2,
          1,
          1,
          1,
          1,
          2,
          2,
          1,
          1,
          2,
          1,
          1,
          2,
          2,
          2,
          1,
          1,
          2,
          1,
          1,
          2,
          1,
          2,
          1,
          2,
          2,
          1,
          0,
          2,
          1,
          1,
          1,
          2,
          1,
          2,
          1,
          2,
          2,
          1,
          2,
          1,
          2,
          2,
          1,
          2,
          2,
          1,
          1,
          1,
          2,
          2,
          1,
          1,
          1,
          2,
          2,
          1,
          2,
          1,
          1,
          2,
          1,
          1,
          1,
          1,
          1,
          2,
          2,
          1,
          1,
          1,
          1,
          1,
          0,
          1,
          1,
          2,
          0,
          1,
          1,
          1,
          1,
          2,
          2,
          1,
          1,
          1,
          1,
          1,
          1,
          1,
          1,
          2,
          1,
          1,
          1,
          1,
          1,
          1,
          1,
          1,
          1,
          2,
          1,
          1,
          2,
          2,
          2,
          1,
          2,
          1,
          2,
          1,
          2,
          1,
          2,
          1,
          1,
          1,
          2,
          1,
          1,
          1,
          1,
          2,
          1,
          1,
          2,
          0,
          1,
          1,
          2,
          1,
          1,
          0,
          1,
          1,
          2,
          1,
          2,
          2,
          1,
          1,
          1,
          0,
          2,
          1,
          1,
          1,
          2,
          2,
          1,
          2,
          1,
          1,
          0,
          2,
          1,
          1,
          1,
          2,
          1,
          1,
          2,
          2,
          2,
          2,
          2,
          1,
          2,
          1,
          1,
          1,
          0,
          1,
          1,
          2,
          0,
          2,
          1,
          1,
          0,
          1,
          2,
          2,
          1,
          2,
          2,
          1,
          1,
          1,
          2,
          1,
          1,
          2,
          1,
          1,
          0,
          2,
          2,
          1,
          1,
          0,
          2,
          2,
          2,
          1,
          2,
          1,
          1,
          1,
          1,
          2,
          2,
          1,
          1,
          1,
          1,
          0,
          1,
          1,
          2,
          2,
          1,
          1,
          2,
          1,
          1,
          1,
          2,
          1,
          0,
          2,
          1,
          2,
          1,
          2,
          1,
          2,
          1,
          2,
          1,
          1,
          1,
          1,
          2,
          1,
          1,
          2,
          1,
          2,
          0,
          1,
          1,
          2,
          2,
          1,
          1,
          2,
          1,
          1,
          1,
          2,
          1,
          2,
          1,
          1,
          0,
          1,
          1,
          1,
          1,
          1,
          2,
          1,
          1,
          1,
          1,
          2,
          1,
          1,
          1,
          2,
          1,
          1,
          0,
          1,
          1,
          1,
          1,
          1,
          1,
          1,
          1,
          2,
          1,
          1,
          1,
          1,
          1,
          2,
          2,
          2,
          2,
          2,
          1,
          1,
          2,
          1,
          2,
          1,
          1,
          2,
          2,
          2,
          1,
          0,
          2,
          1,
          1,
          2,
          1,
          1,
          2,
          2,
          0,
          1,
          1,
          2,
          1,
          1,
          2,
          1,
          1,
          1,
          1,
          2,
          1,
          1,
          1,
          1,
          1,
          2,
          2,
          0,
          2,
          1,
          2,
          1,
          1,
          2,
          1,
          1,
          1,
          1,
          2,
          2,
          1,
          1,
          2,
          2,
          2,
          1,
          2,
          1,
          1,
          0,
          0,
          1,
          1,
          2,
          2,
          1,
          1,
          2,
          2,
          2,
          1,
          1,
          2,
          1,
          2,
          1,
          1,
          1,
          1,
          1,
          2,
          1,
          2,
          2,
          2,
          2,
          1,
          0,
          1,
          1,
          0,
          1,
          2,
          1,
          1,
          1,
          1,
          2,
          1,
          1,
          1,
          1,
          2,
          0,
          2,
          1,
          1,
          1,
          1,
          1,
          1,
          2,
          2,
          1,
          2,
          1,
          1,
          1,
          2,
          1,
          1,
          1,
          2,
          1,
          1,
          1,
          1,
          0,
          1,
          2,
          1,
          1,
          1,
          0,
          2,
          1,
          1,
          2,
          2,
          2,
          1,
          1,
          2,
          1,
          1,
          1,
          2,
          2,
          2,
          1,
          1,
          1,
          2,
          1,
          2,
          2,
          1,
          1,
          1,
          1,
          1,
          1,
          1,
          1,
          1,
          2,
          1,
          1,
          2,
          2,
          1,
          1,
          0,
          1,
          2,
          1,
          2,
          2,
          1,
          2,
          1,
          1,
          1,
          2,
          2,
          1,
          2,
          1,
          1,
          1,
          2,
          1,
          1,
          2,
          1,
          1,
          1,
          2,
          2,
          0,
          1,
          2,
          2,
          1,
          2,
          2,
          1,
          1,
          2,
          2,
          1,
          1,
          2,
          2,
          1,
          1,
          1,
          1,
          1,
          2,
          1,
          2,
          2,
          2,
          1,
          1,
          1,
          1,
          2,
          2,
          0,
          1,
          1,
          1,
          1,
          1,
          1,
          1,
          1,
          2,
          1,
          2,
          2,
          1,
          0,
          2,
          1,
          2,
          2,
          1,
          1,
          2,
          1,
          1,
          1,
          1,
          1,
          2,
          1,
          1,
          1,
          1,
          1,
          1,
          1,
          1,
          1,
          1,
          1,
          2,
          1,
          1,
          2,
          2,
          1,
          1,
          2,
          1,
          2,
          0,
          1,
          1,
          1,
          2,
          2,
          2,
          2,
          1,
          2,
          2,
          2,
          1,
          1,
          2,
          2,
          2,
          1,
          1,
          2,
          1,
          1,
          2,
          1,
          2,
          1,
          2,
          1,
          1,
          2,
          2,
          1,
          1,
          2,
          2,
          1,
          2,
          1,
          1,
          2,
          1,
          1,
          2,
          2,
          1,
          1,
          2,
          2,
          1,
          1,
          1,
          1,
          1,
          1,
          2,
          2,
          2,
          2,
          2,
          2,
          1,
          1,
          2,
          1,
          1,
          1,
          1,
          1,
          1,
          0,
          2,
          1,
          1,
          2,
          2,
          1,
          1,
          1,
          1,
          0,
          2,
          1,
          1,
          1,
          1,
          1,
          2,
          1,
          1,
          1,
          1,
          2,
          1,
          1,
          1,
          1,
          1,
          1,
          1,
          1,
          1,
          1,
          1,
          2,
          1,
          0,
          2,
          1,
          1,
          2,
          2,
          2,
          2,
          1,
          1,
          1,
          2,
          0,
          2,
          1,
          1,
          1,
          1,
          1,
          2,
          1,
          1,
          1,
          1,
          2,
          0,
          1,
          1,
          1,
          2,
          1,
          2,
          1,
          1,
          1,
          1,
          2,
          1,
          1,
          2,
          1,
          2,
          1,
          2,
          1,
          2,
          1,
          1,
          1,
          2,
          1,
          1,
          1,
          2,
          1,
          2,
          1,
          2,
          1,
          2,
          1,
          1,
          2,
          1,
          2,
          1,
          2,
          1,
          1,
          1,
          2,
          2,
          1,
          1,
          2,
          1,
          1,
          1,
          1,
          2,
          2,
          2,
          1,
          2,
          2,
          1,
          2,
          2,
          2,
          1,
          1,
          2,
          0,
          0,
          0,
          1,
          1,
          1,
          2,
          1,
          1,
          1,
          2,
          0,
          1,
          2,
          2,
          1,
          0,
          2,
          1,
          1,
          1,
          1,
          1,
          2,
          2,
          2,
          1,
          1,
          1,
          2,
          2,
          2,
          2,
          1,
          2,
          2,
          0,
          2,
          1,
          2,
          2,
          0,
          2,
          1,
          2,
          1,
          1,
          0,
          1,
          1,
          1,
          2,
          1,
          1,
          1,
          2,
          1,
          2,
          1,
          1,
          1,
          1,
          2,
          1,
          0,
          1,
          2,
          1,
          1,
          1,
          1,
          2,
          1,
          1,
          1,
          1,
          1,
          1,
          1,
          1,
          1,
          0,
          2,
          1,
          1,
          2,
          1,
          2,
          1,
          0,
          2,
          0,
          1,
          1,
          2,
          2,
          0,
          1,
          1,
          1,
          0,
          2,
          0,
          1,
          1,
          2,
          1,
          0,
          1,
          1,
          1,
          1,
          1,
          2,
          1,
          1,
          2,
          1,
          2,
          2,
          1,
          1,
          2,
          2,
          2,
          1,
          1,
          2,
          2,
          1,
          1,
          1,
          1,
          2,
          2,
          2,
          0,
          1,
          1,
          1,
          1,
          2,
          2,
          2,
          1,
          2,
          1,
          2,
          2,
          2,
          1,
          2,
          1,
          2,
          1,
          2,
          2,
          0,
          1,
          2,
          2,
          2,
          1,
          1,
          1,
          1,
          1,
          1,
          1,
          1,
          1,
          1,
          1,
          1,
          1,
          2,
          1,
          2,
          2,
          2,
          2,
          2,
          1,
          2,
          2,
          1,
          2,
          2,
          1,
          1,
          1,
          1,
          1,
          2,
          2,
          1,
          2,
          2,
          2,
          1,
          1,
          1
         ],
         "xaxis": "x",
         "yaxis": "y"
        },
        {
         "alignmentgroup": "True",
         "bingroup": "x",
         "hovertemplate": "FirstYearPersistence=0<br>Previous Education=%{x}<br>count=%{y}<extra></extra>",
         "legendgroup": "0",
         "marker": {
          "color": "#EF553B",
          "pattern": {
           "shape": ""
          }
         },
         "name": "0",
         "offsetgroup": "0",
         "orientation": "v",
         "showlegend": true,
         "type": "histogram",
         "x": [
          1,
          1,
          1,
          2,
          1,
          0,
          1,
          0,
          1,
          1,
          1,
          2,
          1,
          1,
          1,
          2,
          0,
          1,
          2,
          1,
          1,
          1,
          1,
          1,
          1,
          2,
          1,
          1,
          2,
          1,
          1,
          1,
          1,
          2,
          1,
          0,
          2,
          1,
          2,
          1,
          1,
          1,
          2,
          1,
          0,
          1,
          1,
          2,
          1,
          1,
          0,
          1,
          1,
          0,
          1,
          2,
          2,
          2,
          1,
          1,
          1,
          1,
          0,
          1,
          1,
          0,
          2,
          2,
          1,
          1,
          1,
          2,
          1,
          1,
          1,
          1,
          2,
          1,
          1,
          1,
          1,
          0,
          1,
          1,
          1,
          2,
          1,
          1,
          2,
          2,
          1,
          1,
          1,
          2,
          2,
          1,
          1,
          2,
          1,
          2,
          2,
          2,
          0,
          1,
          2,
          1,
          2,
          1,
          1,
          1,
          0,
          1,
          2,
          2,
          1,
          1,
          1,
          2,
          2,
          0,
          1,
          1,
          1,
          1,
          1,
          1,
          1,
          1,
          1,
          1,
          2,
          1,
          0,
          2,
          1,
          0,
          0,
          0,
          1,
          1,
          1,
          1,
          1,
          1,
          1,
          1,
          0,
          2,
          1,
          1,
          2,
          1,
          1,
          1,
          1,
          1,
          1,
          1,
          1,
          2,
          1,
          1,
          1,
          1,
          1,
          2,
          2,
          0,
          2,
          1,
          1,
          1,
          1,
          2,
          0,
          1,
          2,
          2,
          2,
          1,
          1,
          1,
          2,
          1,
          1,
          1,
          2,
          0,
          0,
          1,
          1,
          1,
          1,
          2,
          1,
          1,
          1,
          1,
          0,
          2,
          1,
          2,
          1,
          1,
          1,
          2,
          2,
          1,
          1,
          1,
          1,
          2,
          1,
          1,
          1,
          1,
          2,
          1,
          2,
          1,
          1,
          1,
          1,
          2,
          1,
          1,
          1,
          1,
          1,
          2,
          1,
          2,
          2,
          1,
          1,
          2,
          1,
          1,
          1,
          1,
          1,
          2,
          1,
          1,
          1,
          1,
          1,
          1,
          1,
          1,
          1,
          0,
          1,
          1,
          1,
          1,
          1,
          1,
          1,
          1,
          1,
          2,
          0,
          0,
          1,
          2,
          2,
          1,
          1,
          2,
          1,
          1,
          1,
          2,
          1,
          2,
          2,
          1,
          1,
          1,
          1,
          1,
          0,
          0,
          2,
          1,
          2,
          0,
          1,
          1,
          0,
          1,
          2,
          1,
          0,
          1,
          1,
          1
         ],
         "xaxis": "x",
         "yaxis": "y"
        }
       ],
       "layout": {
        "barmode": "group",
        "legend": {
         "title": {
          "text": "FirstYearPersistence"
         },
         "tracegroupgap": 0
        },
        "template": {
         "data": {
          "bar": [
           {
            "error_x": {
             "color": "#2a3f5f"
            },
            "error_y": {
             "color": "#2a3f5f"
            },
            "marker": {
             "line": {
              "color": "#E5ECF6",
              "width": 0.5
             },
             "pattern": {
              "fillmode": "overlay",
              "size": 10,
              "solidity": 0.2
             }
            },
            "type": "bar"
           }
          ],
          "barpolar": [
           {
            "marker": {
             "line": {
              "color": "#E5ECF6",
              "width": 0.5
             },
             "pattern": {
              "fillmode": "overlay",
              "size": 10,
              "solidity": 0.2
             }
            },
            "type": "barpolar"
           }
          ],
          "carpet": [
           {
            "aaxis": {
             "endlinecolor": "#2a3f5f",
             "gridcolor": "white",
             "linecolor": "white",
             "minorgridcolor": "white",
             "startlinecolor": "#2a3f5f"
            },
            "baxis": {
             "endlinecolor": "#2a3f5f",
             "gridcolor": "white",
             "linecolor": "white",
             "minorgridcolor": "white",
             "startlinecolor": "#2a3f5f"
            },
            "type": "carpet"
           }
          ],
          "choropleth": [
           {
            "colorbar": {
             "outlinewidth": 0,
             "ticks": ""
            },
            "type": "choropleth"
           }
          ],
          "contour": [
           {
            "colorbar": {
             "outlinewidth": 0,
             "ticks": ""
            },
            "colorscale": [
             [
              0,
              "#0d0887"
             ],
             [
              0.1111111111111111,
              "#46039f"
             ],
             [
              0.2222222222222222,
              "#7201a8"
             ],
             [
              0.3333333333333333,
              "#9c179e"
             ],
             [
              0.4444444444444444,
              "#bd3786"
             ],
             [
              0.5555555555555556,
              "#d8576b"
             ],
             [
              0.6666666666666666,
              "#ed7953"
             ],
             [
              0.7777777777777778,
              "#fb9f3a"
             ],
             [
              0.8888888888888888,
              "#fdca26"
             ],
             [
              1,
              "#f0f921"
             ]
            ],
            "type": "contour"
           }
          ],
          "contourcarpet": [
           {
            "colorbar": {
             "outlinewidth": 0,
             "ticks": ""
            },
            "type": "contourcarpet"
           }
          ],
          "heatmap": [
           {
            "colorbar": {
             "outlinewidth": 0,
             "ticks": ""
            },
            "colorscale": [
             [
              0,
              "#0d0887"
             ],
             [
              0.1111111111111111,
              "#46039f"
             ],
             [
              0.2222222222222222,
              "#7201a8"
             ],
             [
              0.3333333333333333,
              "#9c179e"
             ],
             [
              0.4444444444444444,
              "#bd3786"
             ],
             [
              0.5555555555555556,
              "#d8576b"
             ],
             [
              0.6666666666666666,
              "#ed7953"
             ],
             [
              0.7777777777777778,
              "#fb9f3a"
             ],
             [
              0.8888888888888888,
              "#fdca26"
             ],
             [
              1,
              "#f0f921"
             ]
            ],
            "type": "heatmap"
           }
          ],
          "heatmapgl": [
           {
            "colorbar": {
             "outlinewidth": 0,
             "ticks": ""
            },
            "colorscale": [
             [
              0,
              "#0d0887"
             ],
             [
              0.1111111111111111,
              "#46039f"
             ],
             [
              0.2222222222222222,
              "#7201a8"
             ],
             [
              0.3333333333333333,
              "#9c179e"
             ],
             [
              0.4444444444444444,
              "#bd3786"
             ],
             [
              0.5555555555555556,
              "#d8576b"
             ],
             [
              0.6666666666666666,
              "#ed7953"
             ],
             [
              0.7777777777777778,
              "#fb9f3a"
             ],
             [
              0.8888888888888888,
              "#fdca26"
             ],
             [
              1,
              "#f0f921"
             ]
            ],
            "type": "heatmapgl"
           }
          ],
          "histogram": [
           {
            "marker": {
             "pattern": {
              "fillmode": "overlay",
              "size": 10,
              "solidity": 0.2
             }
            },
            "type": "histogram"
           }
          ],
          "histogram2d": [
           {
            "colorbar": {
             "outlinewidth": 0,
             "ticks": ""
            },
            "colorscale": [
             [
              0,
              "#0d0887"
             ],
             [
              0.1111111111111111,
              "#46039f"
             ],
             [
              0.2222222222222222,
              "#7201a8"
             ],
             [
              0.3333333333333333,
              "#9c179e"
             ],
             [
              0.4444444444444444,
              "#bd3786"
             ],
             [
              0.5555555555555556,
              "#d8576b"
             ],
             [
              0.6666666666666666,
              "#ed7953"
             ],
             [
              0.7777777777777778,
              "#fb9f3a"
             ],
             [
              0.8888888888888888,
              "#fdca26"
             ],
             [
              1,
              "#f0f921"
             ]
            ],
            "type": "histogram2d"
           }
          ],
          "histogram2dcontour": [
           {
            "colorbar": {
             "outlinewidth": 0,
             "ticks": ""
            },
            "colorscale": [
             [
              0,
              "#0d0887"
             ],
             [
              0.1111111111111111,
              "#46039f"
             ],
             [
              0.2222222222222222,
              "#7201a8"
             ],
             [
              0.3333333333333333,
              "#9c179e"
             ],
             [
              0.4444444444444444,
              "#bd3786"
             ],
             [
              0.5555555555555556,
              "#d8576b"
             ],
             [
              0.6666666666666666,
              "#ed7953"
             ],
             [
              0.7777777777777778,
              "#fb9f3a"
             ],
             [
              0.8888888888888888,
              "#fdca26"
             ],
             [
              1,
              "#f0f921"
             ]
            ],
            "type": "histogram2dcontour"
           }
          ],
          "mesh3d": [
           {
            "colorbar": {
             "outlinewidth": 0,
             "ticks": ""
            },
            "type": "mesh3d"
           }
          ],
          "parcoords": [
           {
            "line": {
             "colorbar": {
              "outlinewidth": 0,
              "ticks": ""
             }
            },
            "type": "parcoords"
           }
          ],
          "pie": [
           {
            "automargin": true,
            "type": "pie"
           }
          ],
          "scatter": [
           {
            "fillpattern": {
             "fillmode": "overlay",
             "size": 10,
             "solidity": 0.2
            },
            "type": "scatter"
           }
          ],
          "scatter3d": [
           {
            "line": {
             "colorbar": {
              "outlinewidth": 0,
              "ticks": ""
             }
            },
            "marker": {
             "colorbar": {
              "outlinewidth": 0,
              "ticks": ""
             }
            },
            "type": "scatter3d"
           }
          ],
          "scattercarpet": [
           {
            "marker": {
             "colorbar": {
              "outlinewidth": 0,
              "ticks": ""
             }
            },
            "type": "scattercarpet"
           }
          ],
          "scattergeo": [
           {
            "marker": {
             "colorbar": {
              "outlinewidth": 0,
              "ticks": ""
             }
            },
            "type": "scattergeo"
           }
          ],
          "scattergl": [
           {
            "marker": {
             "colorbar": {
              "outlinewidth": 0,
              "ticks": ""
             }
            },
            "type": "scattergl"
           }
          ],
          "scattermapbox": [
           {
            "marker": {
             "colorbar": {
              "outlinewidth": 0,
              "ticks": ""
             }
            },
            "type": "scattermapbox"
           }
          ],
          "scatterpolar": [
           {
            "marker": {
             "colorbar": {
              "outlinewidth": 0,
              "ticks": ""
             }
            },
            "type": "scatterpolar"
           }
          ],
          "scatterpolargl": [
           {
            "marker": {
             "colorbar": {
              "outlinewidth": 0,
              "ticks": ""
             }
            },
            "type": "scatterpolargl"
           }
          ],
          "scatterternary": [
           {
            "marker": {
             "colorbar": {
              "outlinewidth": 0,
              "ticks": ""
             }
            },
            "type": "scatterternary"
           }
          ],
          "surface": [
           {
            "colorbar": {
             "outlinewidth": 0,
             "ticks": ""
            },
            "colorscale": [
             [
              0,
              "#0d0887"
             ],
             [
              0.1111111111111111,
              "#46039f"
             ],
             [
              0.2222222222222222,
              "#7201a8"
             ],
             [
              0.3333333333333333,
              "#9c179e"
             ],
             [
              0.4444444444444444,
              "#bd3786"
             ],
             [
              0.5555555555555556,
              "#d8576b"
             ],
             [
              0.6666666666666666,
              "#ed7953"
             ],
             [
              0.7777777777777778,
              "#fb9f3a"
             ],
             [
              0.8888888888888888,
              "#fdca26"
             ],
             [
              1,
              "#f0f921"
             ]
            ],
            "type": "surface"
           }
          ],
          "table": [
           {
            "cells": {
             "fill": {
              "color": "#EBF0F8"
             },
             "line": {
              "color": "white"
             }
            },
            "header": {
             "fill": {
              "color": "#C8D4E3"
             },
             "line": {
              "color": "white"
             }
            },
            "type": "table"
           }
          ]
         },
         "layout": {
          "annotationdefaults": {
           "arrowcolor": "#2a3f5f",
           "arrowhead": 0,
           "arrowwidth": 1
          },
          "autotypenumbers": "strict",
          "coloraxis": {
           "colorbar": {
            "outlinewidth": 0,
            "ticks": ""
           }
          },
          "colorscale": {
           "diverging": [
            [
             0,
             "#8e0152"
            ],
            [
             0.1,
             "#c51b7d"
            ],
            [
             0.2,
             "#de77ae"
            ],
            [
             0.3,
             "#f1b6da"
            ],
            [
             0.4,
             "#fde0ef"
            ],
            [
             0.5,
             "#f7f7f7"
            ],
            [
             0.6,
             "#e6f5d0"
            ],
            [
             0.7,
             "#b8e186"
            ],
            [
             0.8,
             "#7fbc41"
            ],
            [
             0.9,
             "#4d9221"
            ],
            [
             1,
             "#276419"
            ]
           ],
           "sequential": [
            [
             0,
             "#0d0887"
            ],
            [
             0.1111111111111111,
             "#46039f"
            ],
            [
             0.2222222222222222,
             "#7201a8"
            ],
            [
             0.3333333333333333,
             "#9c179e"
            ],
            [
             0.4444444444444444,
             "#bd3786"
            ],
            [
             0.5555555555555556,
             "#d8576b"
            ],
            [
             0.6666666666666666,
             "#ed7953"
            ],
            [
             0.7777777777777778,
             "#fb9f3a"
            ],
            [
             0.8888888888888888,
             "#fdca26"
            ],
            [
             1,
             "#f0f921"
            ]
           ],
           "sequentialminus": [
            [
             0,
             "#0d0887"
            ],
            [
             0.1111111111111111,
             "#46039f"
            ],
            [
             0.2222222222222222,
             "#7201a8"
            ],
            [
             0.3333333333333333,
             "#9c179e"
            ],
            [
             0.4444444444444444,
             "#bd3786"
            ],
            [
             0.5555555555555556,
             "#d8576b"
            ],
            [
             0.6666666666666666,
             "#ed7953"
            ],
            [
             0.7777777777777778,
             "#fb9f3a"
            ],
            [
             0.8888888888888888,
             "#fdca26"
            ],
            [
             1,
             "#f0f921"
            ]
           ]
          },
          "colorway": [
           "#636efa",
           "#EF553B",
           "#00cc96",
           "#ab63fa",
           "#FFA15A",
           "#19d3f3",
           "#FF6692",
           "#B6E880",
           "#FF97FF",
           "#FECB52"
          ],
          "font": {
           "color": "#2a3f5f"
          },
          "geo": {
           "bgcolor": "white",
           "lakecolor": "white",
           "landcolor": "#E5ECF6",
           "showlakes": true,
           "showland": true,
           "subunitcolor": "white"
          },
          "hoverlabel": {
           "align": "left"
          },
          "hovermode": "closest",
          "mapbox": {
           "style": "light"
          },
          "paper_bgcolor": "white",
          "plot_bgcolor": "#E5ECF6",
          "polar": {
           "angularaxis": {
            "gridcolor": "white",
            "linecolor": "white",
            "ticks": ""
           },
           "bgcolor": "#E5ECF6",
           "radialaxis": {
            "gridcolor": "white",
            "linecolor": "white",
            "ticks": ""
           }
          },
          "scene": {
           "xaxis": {
            "backgroundcolor": "#E5ECF6",
            "gridcolor": "white",
            "gridwidth": 2,
            "linecolor": "white",
            "showbackground": true,
            "ticks": "",
            "zerolinecolor": "white"
           },
           "yaxis": {
            "backgroundcolor": "#E5ECF6",
            "gridcolor": "white",
            "gridwidth": 2,
            "linecolor": "white",
            "showbackground": true,
            "ticks": "",
            "zerolinecolor": "white"
           },
           "zaxis": {
            "backgroundcolor": "#E5ECF6",
            "gridcolor": "white",
            "gridwidth": 2,
            "linecolor": "white",
            "showbackground": true,
            "ticks": "",
            "zerolinecolor": "white"
           }
          },
          "shapedefaults": {
           "line": {
            "color": "#2a3f5f"
           }
          },
          "ternary": {
           "aaxis": {
            "gridcolor": "white",
            "linecolor": "white",
            "ticks": ""
           },
           "baxis": {
            "gridcolor": "white",
            "linecolor": "white",
            "ticks": ""
           },
           "bgcolor": "#E5ECF6",
           "caxis": {
            "gridcolor": "white",
            "linecolor": "white",
            "ticks": ""
           }
          },
          "title": {
           "x": 0.05
          },
          "xaxis": {
           "automargin": true,
           "gridcolor": "white",
           "linecolor": "white",
           "ticks": "",
           "title": {
            "standoff": 15
           },
           "zerolinecolor": "white",
           "zerolinewidth": 2
          },
          "yaxis": {
           "automargin": true,
           "gridcolor": "white",
           "linecolor": "white",
           "ticks": "",
           "title": {
            "standoff": 15
           },
           "zerolinecolor": "white",
           "zerolinewidth": 2
          }
         }
        },
        "title": {
         "text": "Bar Plot of Previous Education vs FirstYearPersistence"
        },
        "xaxis": {
         "anchor": "y",
         "domain": [
          0,
          1
         ],
         "title": {
          "text": "Previous Education"
         },
         "type": "category"
        },
        "yaxis": {
         "anchor": "x",
         "domain": [
          0,
          1
         ],
         "title": {
          "text": "count"
         }
        }
       }
      }
     },
     "metadata": {},
     "output_type": "display_data"
    },
    {
     "data": {
      "application/vnd.plotly.v1+json": {
       "config": {
        "plotlyServerURL": "https://plot.ly"
       },
       "data": [
        {
         "alignmentgroup": "True",
         "bingroup": "x",
         "hovertemplate": "FirstYearPersistence=1<br>Age Group=%{x}<br>count=%{y}<extra></extra>",
         "legendgroup": "1",
         "marker": {
          "color": "#636efa",
          "pattern": {
           "shape": ""
          }
         },
         "name": "1",
         "offsetgroup": "1",
         "orientation": "v",
         "showlegend": true,
         "type": "histogram",
         "x": [
          1,
          3,
          3,
          3,
          3,
          3,
          1,
          2,
          1,
          3,
          2,
          1,
          4,
          4,
          3,
          8,
          8,
          3,
          3,
          3,
          3,
          3,
          3,
          2,
          6,
          8,
          2,
          3,
          1,
          3,
          4,
          2,
          1,
          2,
          3,
          4,
          1,
          2,
          2,
          3,
          1,
          3,
          3,
          1,
          1,
          1,
          4,
          2,
          3,
          3,
          6,
          3,
          1,
          2,
          1,
          3,
          3,
          2,
          3,
          1,
          2,
          3,
          4,
          1,
          3,
          3,
          3,
          1,
          1,
          3,
          1,
          1,
          1,
          2,
          2,
          3,
          7,
          7,
          2,
          3,
          3,
          2,
          2,
          1,
          1,
          2,
          1,
          3,
          3,
          1,
          3,
          3,
          1,
          3,
          8,
          3,
          3,
          4,
          2,
          3,
          3,
          3,
          1,
          3,
          1,
          1,
          3,
          6,
          3,
          7,
          7,
          2,
          2,
          1,
          4,
          2,
          1,
          3,
          3,
          5,
          1,
          1,
          7,
          2,
          1,
          5,
          4,
          2,
          3,
          6,
          4,
          3,
          1,
          2,
          2,
          4,
          4,
          3,
          2,
          2,
          3,
          1,
          1,
          2,
          3,
          4,
          1,
          3,
          5,
          3,
          3,
          1,
          5,
          3,
          3,
          3,
          3,
          3,
          1,
          6,
          2,
          1,
          3,
          6,
          3,
          3,
          2,
          3,
          2,
          1,
          3,
          1,
          3,
          2,
          3,
          5,
          3,
          3,
          4,
          1,
          2,
          2,
          3,
          2,
          3,
          1,
          3,
          3,
          1,
          3,
          1,
          3,
          4,
          3,
          2,
          3,
          1,
          4,
          3,
          4,
          4,
          1,
          1,
          4,
          1,
          4,
          1,
          3,
          3,
          1,
          7,
          1,
          3,
          1,
          3,
          1,
          3,
          3,
          3,
          3,
          5,
          1,
          1,
          6,
          3,
          2,
          1,
          1,
          3,
          2,
          4,
          2,
          3,
          3,
          3,
          1,
          1,
          1,
          2,
          1,
          1,
          1,
          1,
          3,
          1,
          5,
          1,
          2,
          1,
          3,
          2,
          3,
          7,
          4,
          2,
          4,
          3,
          7,
          3,
          1,
          4,
          5,
          3,
          3,
          3,
          3,
          3,
          4,
          1,
          3,
          3,
          1,
          1,
          1,
          2,
          3,
          2,
          4,
          7,
          3,
          3,
          3,
          3,
          1,
          4,
          2,
          1,
          2,
          3,
          7,
          4,
          3,
          3,
          3,
          3,
          4,
          1,
          1,
          4,
          3,
          2,
          1,
          1,
          2,
          1,
          7,
          3,
          1,
          2,
          3,
          7,
          3,
          3,
          3,
          3,
          3,
          2,
          7,
          1,
          3,
          2,
          3,
          3,
          3,
          1,
          2,
          6,
          3,
          3,
          2,
          2,
          4,
          1,
          3,
          7,
          1,
          3,
          3,
          1,
          4,
          3,
          3,
          1,
          2,
          3,
          3,
          3,
          5,
          4,
          1,
          4,
          2,
          7,
          3,
          3,
          3,
          1,
          3,
          3,
          1,
          3,
          4,
          3,
          3,
          3,
          4,
          3,
          2,
          3,
          1,
          3,
          3,
          6,
          1,
          3,
          3,
          2,
          2,
          2,
          3,
          3,
          2,
          3,
          3,
          3,
          1,
          1,
          3,
          6,
          1,
          3,
          2,
          3,
          4,
          1,
          4,
          1,
          6,
          3,
          1,
          3,
          3,
          3,
          3,
          3,
          3,
          3,
          2,
          4,
          2,
          1,
          3,
          3,
          1,
          2,
          3,
          3,
          6,
          2,
          2,
          4,
          3,
          1,
          1,
          3,
          2,
          1,
          3,
          3,
          1,
          1,
          3,
          5,
          3,
          2,
          5,
          4,
          3,
          3,
          3,
          3,
          3,
          2,
          2,
          3,
          3,
          1,
          1,
          3,
          2,
          4,
          3,
          3,
          3,
          1,
          1,
          2,
          5,
          3,
          3,
          1,
          2,
          2,
          3,
          3,
          3,
          2,
          3,
          1,
          1,
          3,
          2,
          2,
          3,
          3,
          7,
          3,
          1,
          6,
          1,
          2,
          3,
          1,
          1,
          1,
          1,
          6,
          2,
          3,
          3,
          2,
          1,
          3,
          3,
          3,
          3,
          3,
          3,
          1,
          2,
          3,
          1,
          3,
          1,
          1,
          3,
          1,
          3,
          3,
          3,
          4,
          3,
          4,
          5,
          1,
          3,
          3,
          8,
          3,
          2,
          3,
          1,
          3,
          2,
          3,
          4,
          3,
          1,
          2,
          7,
          5,
          3,
          2,
          1,
          1,
          1,
          2,
          1,
          1,
          5,
          3,
          3,
          7,
          3,
          3,
          1,
          2,
          3,
          2,
          2,
          1,
          1,
          2,
          3,
          3,
          1,
          2,
          4,
          2,
          1,
          2,
          6,
          4,
          3,
          1,
          3,
          5,
          4,
          3,
          3,
          2,
          3,
          1,
          1,
          1,
          3,
          2,
          3,
          1,
          2,
          3,
          3,
          1,
          3,
          6,
          3,
          3,
          2,
          3,
          4,
          7,
          3,
          3,
          1,
          2,
          1,
          3,
          5,
          1,
          1,
          3,
          3,
          3,
          3,
          7,
          3,
          1,
          3,
          1,
          3,
          1,
          3,
          3,
          5,
          1,
          5,
          3,
          3,
          3,
          1,
          2,
          3,
          3,
          1,
          3,
          3,
          5,
          1,
          3,
          2,
          3,
          3,
          2,
          3,
          3,
          2,
          3,
          2,
          1,
          1,
          3,
          5,
          1,
          7,
          3,
          3,
          3,
          3,
          1,
          3,
          4,
          2,
          1,
          1,
          3,
          6,
          1,
          1,
          3,
          2,
          3,
          3,
          3,
          2,
          3,
          2,
          4,
          3,
          2,
          4,
          5,
          3,
          2,
          1,
          1,
          3,
          3,
          3,
          3,
          7,
          5,
          1,
          1,
          2,
          3,
          1,
          5,
          3,
          2,
          4,
          2,
          4,
          3,
          1,
          2,
          1,
          3,
          1,
          3,
          3,
          3,
          8,
          4,
          3,
          3,
          5,
          3,
          2,
          1,
          3,
          3,
          1,
          3,
          3,
          3,
          1,
          1,
          2,
          3,
          3,
          2,
          1,
          3,
          3,
          3,
          5,
          4,
          1,
          4,
          4,
          3,
          2,
          3,
          3,
          1,
          3,
          4,
          1,
          4,
          1,
          3,
          7,
          4,
          4,
          2,
          2,
          3,
          2,
          3,
          5,
          3,
          1,
          5,
          3,
          2,
          2,
          3,
          2,
          2,
          1,
          2,
          1,
          3,
          1,
          3,
          3,
          4,
          2,
          2,
          3,
          3,
          2,
          4,
          1,
          3,
          3,
          3,
          1,
          3,
          1,
          3,
          1,
          3,
          3,
          3,
          1,
          2,
          3,
          2,
          2,
          3,
          3,
          3,
          6,
          3,
          4,
          3,
          2,
          2,
          1,
          3,
          3,
          3,
          1,
          3,
          4,
          2,
          2,
          3,
          2,
          3,
          3,
          1,
          1,
          1,
          1,
          3,
          2,
          1,
          1,
          1,
          3,
          7,
          1,
          4,
          1,
          5,
          7,
          3,
          3,
          3,
          3,
          1,
          2,
          1,
          3,
          3,
          1,
          1,
          3,
          1,
          1,
          4,
          3,
          1,
          4,
          3,
          1,
          4,
          3,
          1,
          2,
          3,
          2,
          4,
          1,
          3,
          2,
          3,
          1,
          3,
          2,
          2,
          2,
          3,
          2,
          6,
          3,
          3,
          2,
          3,
          3,
          2,
          3,
          3,
          2,
          3,
          3,
          4,
          3,
          3,
          2,
          3,
          2,
          3,
          1,
          3,
          3,
          1,
          1,
          3,
          1,
          3,
          1,
          4,
          4,
          2,
          3,
          4,
          2,
          3,
          2,
          3,
          2,
          3,
          3,
          6,
          2,
          2,
          2,
          1,
          6,
          3,
          2,
          1,
          3,
          3,
          3,
          2,
          1,
          3,
          3,
          4,
          3,
          1,
          5,
          1,
          2,
          1,
          3,
          3,
          2,
          1,
          7,
          2,
          4,
          3,
          4,
          4,
          3,
          3,
          2,
          1,
          1,
          2,
          2,
          3,
          3,
          4,
          7,
          1,
          3,
          2,
          3,
          4,
          3,
          3,
          3,
          8,
          3,
          1,
          2,
          1,
          3,
          1,
          3,
          2,
          3,
          4,
          7,
          3,
          2,
          3,
          4,
          1,
          4,
          3,
          3,
          2,
          1,
          2,
          3,
          3,
          3,
          5,
          3,
          3,
          6,
          4,
          2,
          5,
          3,
          2,
          3,
          1,
          1,
          2,
          4,
          2,
          3,
          2,
          1,
          2,
          4,
          3,
          3,
          2,
          1,
          1,
          3,
          2,
          2,
          1,
          3,
          3,
          3,
          3,
          2,
          3,
          3,
          3,
          2,
          4,
          3,
          8,
          2,
          2,
          3,
          3,
          3,
          3,
          3,
          2,
          2,
          3,
          3,
          2,
          1,
          3,
          1,
          3,
          1,
          3,
          3,
          1,
          1,
          5,
          1,
          2,
          3,
          1,
          3,
          4,
          2,
          3,
          3,
          2,
          4,
          1,
          2,
          6,
          3,
          1,
          1,
          2,
          1,
          3,
          2,
          3,
          2,
          1,
          3,
          3,
          3,
          4,
          3,
          3,
          2,
          2,
          1,
          4,
          3,
          7,
          7,
          3,
          3,
          4,
          1,
          3,
          4,
          4,
          2,
          3,
          3,
          3,
          3,
          1,
          2,
          3,
          1,
          3,
          1,
          2,
          3,
          1,
          2,
          4,
          1,
          4,
          1,
          5,
          3,
          3,
          2,
          5,
          4,
          3,
          7,
          2,
          7,
          2,
          3,
          1,
          5,
          3,
          1,
          3,
          3,
          1,
          4,
          2,
          4,
          1,
          2,
          1
         ],
         "xaxis": "x",
         "yaxis": "y"
        },
        {
         "alignmentgroup": "True",
         "bingroup": "x",
         "hovertemplate": "FirstYearPersistence=0<br>Age Group=%{x}<br>count=%{y}<extra></extra>",
         "legendgroup": "0",
         "marker": {
          "color": "#EF553B",
          "pattern": {
           "shape": ""
          }
         },
         "name": "0",
         "offsetgroup": "0",
         "orientation": "v",
         "showlegend": true,
         "type": "histogram",
         "x": [
          1,
          1,
          2,
          2,
          1,
          3,
          2,
          4,
          1,
          2,
          2,
          5,
          1,
          1,
          1,
          3,
          3,
          1,
          3,
          3,
          2,
          1,
          4,
          3,
          1,
          3,
          3,
          3,
          3,
          1,
          1,
          3,
          1,
          3,
          3,
          6,
          2,
          3,
          3,
          2,
          1,
          2,
          3,
          1,
          3,
          3,
          1,
          3,
          2,
          1,
          2,
          2,
          2,
          3,
          7,
          4,
          3,
          3,
          1,
          3,
          1,
          2,
          1,
          2,
          2,
          1,
          1,
          3,
          2,
          1,
          2,
          3,
          1,
          1,
          2,
          2,
          3,
          4,
          1,
          1,
          1,
          2,
          2,
          1,
          3,
          3,
          3,
          2,
          4,
          4,
          3,
          2,
          2,
          1,
          6,
          4,
          1,
          3,
          2,
          2,
          2,
          3,
          3,
          1,
          3,
          1,
          7,
          3,
          2,
          1,
          3,
          3,
          6,
          2,
          3,
          1,
          2,
          2,
          2,
          3,
          3,
          3,
          1,
          2,
          3,
          3,
          6,
          2,
          2,
          1,
          3,
          2,
          2,
          3,
          1,
          1,
          2,
          2,
          1,
          2,
          2,
          1,
          1,
          3,
          2,
          1,
          3,
          2,
          1,
          1,
          3,
          2,
          1,
          2,
          6,
          1,
          3,
          6,
          1,
          3,
          2,
          1,
          3,
          1,
          3,
          2,
          5,
          3,
          3,
          2,
          3,
          1,
          1,
          2,
          2,
          2,
          3,
          2,
          2,
          1,
          1,
          2,
          3,
          1,
          1,
          1,
          3,
          3,
          2,
          1,
          1,
          3,
          1,
          3,
          1,
          2,
          1,
          2,
          2,
          3,
          1,
          1,
          2,
          3,
          1,
          2,
          3,
          3,
          2,
          3,
          1,
          7,
          1,
          1,
          3,
          1,
          3,
          3,
          4,
          1,
          1,
          1,
          2,
          3,
          1,
          2,
          3,
          1,
          1,
          1,
          1,
          3,
          2,
          2,
          2,
          1,
          2,
          1,
          3,
          2,
          1,
          5,
          1,
          2,
          1,
          1,
          1,
          1,
          2,
          2,
          2,
          4,
          1,
          2,
          2,
          1,
          1,
          4,
          1,
          1,
          2,
          2,
          4,
          3,
          3,
          3,
          3,
          3,
          2,
          2,
          4,
          2,
          3,
          5,
          1,
          5,
          3,
          3,
          2,
          2,
          1,
          1,
          3,
          2,
          7,
          2,
          3,
          8,
          4,
          1,
          4,
          2,
          4,
          6,
          7,
          2,
          3,
          1
         ],
         "xaxis": "x",
         "yaxis": "y"
        }
       ],
       "layout": {
        "barmode": "group",
        "legend": {
         "title": {
          "text": "FirstYearPersistence"
         },
         "tracegroupgap": 0
        },
        "template": {
         "data": {
          "bar": [
           {
            "error_x": {
             "color": "#2a3f5f"
            },
            "error_y": {
             "color": "#2a3f5f"
            },
            "marker": {
             "line": {
              "color": "#E5ECF6",
              "width": 0.5
             },
             "pattern": {
              "fillmode": "overlay",
              "size": 10,
              "solidity": 0.2
             }
            },
            "type": "bar"
           }
          ],
          "barpolar": [
           {
            "marker": {
             "line": {
              "color": "#E5ECF6",
              "width": 0.5
             },
             "pattern": {
              "fillmode": "overlay",
              "size": 10,
              "solidity": 0.2
             }
            },
            "type": "barpolar"
           }
          ],
          "carpet": [
           {
            "aaxis": {
             "endlinecolor": "#2a3f5f",
             "gridcolor": "white",
             "linecolor": "white",
             "minorgridcolor": "white",
             "startlinecolor": "#2a3f5f"
            },
            "baxis": {
             "endlinecolor": "#2a3f5f",
             "gridcolor": "white",
             "linecolor": "white",
             "minorgridcolor": "white",
             "startlinecolor": "#2a3f5f"
            },
            "type": "carpet"
           }
          ],
          "choropleth": [
           {
            "colorbar": {
             "outlinewidth": 0,
             "ticks": ""
            },
            "type": "choropleth"
           }
          ],
          "contour": [
           {
            "colorbar": {
             "outlinewidth": 0,
             "ticks": ""
            },
            "colorscale": [
             [
              0,
              "#0d0887"
             ],
             [
              0.1111111111111111,
              "#46039f"
             ],
             [
              0.2222222222222222,
              "#7201a8"
             ],
             [
              0.3333333333333333,
              "#9c179e"
             ],
             [
              0.4444444444444444,
              "#bd3786"
             ],
             [
              0.5555555555555556,
              "#d8576b"
             ],
             [
              0.6666666666666666,
              "#ed7953"
             ],
             [
              0.7777777777777778,
              "#fb9f3a"
             ],
             [
              0.8888888888888888,
              "#fdca26"
             ],
             [
              1,
              "#f0f921"
             ]
            ],
            "type": "contour"
           }
          ],
          "contourcarpet": [
           {
            "colorbar": {
             "outlinewidth": 0,
             "ticks": ""
            },
            "type": "contourcarpet"
           }
          ],
          "heatmap": [
           {
            "colorbar": {
             "outlinewidth": 0,
             "ticks": ""
            },
            "colorscale": [
             [
              0,
              "#0d0887"
             ],
             [
              0.1111111111111111,
              "#46039f"
             ],
             [
              0.2222222222222222,
              "#7201a8"
             ],
             [
              0.3333333333333333,
              "#9c179e"
             ],
             [
              0.4444444444444444,
              "#bd3786"
             ],
             [
              0.5555555555555556,
              "#d8576b"
             ],
             [
              0.6666666666666666,
              "#ed7953"
             ],
             [
              0.7777777777777778,
              "#fb9f3a"
             ],
             [
              0.8888888888888888,
              "#fdca26"
             ],
             [
              1,
              "#f0f921"
             ]
            ],
            "type": "heatmap"
           }
          ],
          "heatmapgl": [
           {
            "colorbar": {
             "outlinewidth": 0,
             "ticks": ""
            },
            "colorscale": [
             [
              0,
              "#0d0887"
             ],
             [
              0.1111111111111111,
              "#46039f"
             ],
             [
              0.2222222222222222,
              "#7201a8"
             ],
             [
              0.3333333333333333,
              "#9c179e"
             ],
             [
              0.4444444444444444,
              "#bd3786"
             ],
             [
              0.5555555555555556,
              "#d8576b"
             ],
             [
              0.6666666666666666,
              "#ed7953"
             ],
             [
              0.7777777777777778,
              "#fb9f3a"
             ],
             [
              0.8888888888888888,
              "#fdca26"
             ],
             [
              1,
              "#f0f921"
             ]
            ],
            "type": "heatmapgl"
           }
          ],
          "histogram": [
           {
            "marker": {
             "pattern": {
              "fillmode": "overlay",
              "size": 10,
              "solidity": 0.2
             }
            },
            "type": "histogram"
           }
          ],
          "histogram2d": [
           {
            "colorbar": {
             "outlinewidth": 0,
             "ticks": ""
            },
            "colorscale": [
             [
              0,
              "#0d0887"
             ],
             [
              0.1111111111111111,
              "#46039f"
             ],
             [
              0.2222222222222222,
              "#7201a8"
             ],
             [
              0.3333333333333333,
              "#9c179e"
             ],
             [
              0.4444444444444444,
              "#bd3786"
             ],
             [
              0.5555555555555556,
              "#d8576b"
             ],
             [
              0.6666666666666666,
              "#ed7953"
             ],
             [
              0.7777777777777778,
              "#fb9f3a"
             ],
             [
              0.8888888888888888,
              "#fdca26"
             ],
             [
              1,
              "#f0f921"
             ]
            ],
            "type": "histogram2d"
           }
          ],
          "histogram2dcontour": [
           {
            "colorbar": {
             "outlinewidth": 0,
             "ticks": ""
            },
            "colorscale": [
             [
              0,
              "#0d0887"
             ],
             [
              0.1111111111111111,
              "#46039f"
             ],
             [
              0.2222222222222222,
              "#7201a8"
             ],
             [
              0.3333333333333333,
              "#9c179e"
             ],
             [
              0.4444444444444444,
              "#bd3786"
             ],
             [
              0.5555555555555556,
              "#d8576b"
             ],
             [
              0.6666666666666666,
              "#ed7953"
             ],
             [
              0.7777777777777778,
              "#fb9f3a"
             ],
             [
              0.8888888888888888,
              "#fdca26"
             ],
             [
              1,
              "#f0f921"
             ]
            ],
            "type": "histogram2dcontour"
           }
          ],
          "mesh3d": [
           {
            "colorbar": {
             "outlinewidth": 0,
             "ticks": ""
            },
            "type": "mesh3d"
           }
          ],
          "parcoords": [
           {
            "line": {
             "colorbar": {
              "outlinewidth": 0,
              "ticks": ""
             }
            },
            "type": "parcoords"
           }
          ],
          "pie": [
           {
            "automargin": true,
            "type": "pie"
           }
          ],
          "scatter": [
           {
            "fillpattern": {
             "fillmode": "overlay",
             "size": 10,
             "solidity": 0.2
            },
            "type": "scatter"
           }
          ],
          "scatter3d": [
           {
            "line": {
             "colorbar": {
              "outlinewidth": 0,
              "ticks": ""
             }
            },
            "marker": {
             "colorbar": {
              "outlinewidth": 0,
              "ticks": ""
             }
            },
            "type": "scatter3d"
           }
          ],
          "scattercarpet": [
           {
            "marker": {
             "colorbar": {
              "outlinewidth": 0,
              "ticks": ""
             }
            },
            "type": "scattercarpet"
           }
          ],
          "scattergeo": [
           {
            "marker": {
             "colorbar": {
              "outlinewidth": 0,
              "ticks": ""
             }
            },
            "type": "scattergeo"
           }
          ],
          "scattergl": [
           {
            "marker": {
             "colorbar": {
              "outlinewidth": 0,
              "ticks": ""
             }
            },
            "type": "scattergl"
           }
          ],
          "scattermapbox": [
           {
            "marker": {
             "colorbar": {
              "outlinewidth": 0,
              "ticks": ""
             }
            },
            "type": "scattermapbox"
           }
          ],
          "scatterpolar": [
           {
            "marker": {
             "colorbar": {
              "outlinewidth": 0,
              "ticks": ""
             }
            },
            "type": "scatterpolar"
           }
          ],
          "scatterpolargl": [
           {
            "marker": {
             "colorbar": {
              "outlinewidth": 0,
              "ticks": ""
             }
            },
            "type": "scatterpolargl"
           }
          ],
          "scatterternary": [
           {
            "marker": {
             "colorbar": {
              "outlinewidth": 0,
              "ticks": ""
             }
            },
            "type": "scatterternary"
           }
          ],
          "surface": [
           {
            "colorbar": {
             "outlinewidth": 0,
             "ticks": ""
            },
            "colorscale": [
             [
              0,
              "#0d0887"
             ],
             [
              0.1111111111111111,
              "#46039f"
             ],
             [
              0.2222222222222222,
              "#7201a8"
             ],
             [
              0.3333333333333333,
              "#9c179e"
             ],
             [
              0.4444444444444444,
              "#bd3786"
             ],
             [
              0.5555555555555556,
              "#d8576b"
             ],
             [
              0.6666666666666666,
              "#ed7953"
             ],
             [
              0.7777777777777778,
              "#fb9f3a"
             ],
             [
              0.8888888888888888,
              "#fdca26"
             ],
             [
              1,
              "#f0f921"
             ]
            ],
            "type": "surface"
           }
          ],
          "table": [
           {
            "cells": {
             "fill": {
              "color": "#EBF0F8"
             },
             "line": {
              "color": "white"
             }
            },
            "header": {
             "fill": {
              "color": "#C8D4E3"
             },
             "line": {
              "color": "white"
             }
            },
            "type": "table"
           }
          ]
         },
         "layout": {
          "annotationdefaults": {
           "arrowcolor": "#2a3f5f",
           "arrowhead": 0,
           "arrowwidth": 1
          },
          "autotypenumbers": "strict",
          "coloraxis": {
           "colorbar": {
            "outlinewidth": 0,
            "ticks": ""
           }
          },
          "colorscale": {
           "diverging": [
            [
             0,
             "#8e0152"
            ],
            [
             0.1,
             "#c51b7d"
            ],
            [
             0.2,
             "#de77ae"
            ],
            [
             0.3,
             "#f1b6da"
            ],
            [
             0.4,
             "#fde0ef"
            ],
            [
             0.5,
             "#f7f7f7"
            ],
            [
             0.6,
             "#e6f5d0"
            ],
            [
             0.7,
             "#b8e186"
            ],
            [
             0.8,
             "#7fbc41"
            ],
            [
             0.9,
             "#4d9221"
            ],
            [
             1,
             "#276419"
            ]
           ],
           "sequential": [
            [
             0,
             "#0d0887"
            ],
            [
             0.1111111111111111,
             "#46039f"
            ],
            [
             0.2222222222222222,
             "#7201a8"
            ],
            [
             0.3333333333333333,
             "#9c179e"
            ],
            [
             0.4444444444444444,
             "#bd3786"
            ],
            [
             0.5555555555555556,
             "#d8576b"
            ],
            [
             0.6666666666666666,
             "#ed7953"
            ],
            [
             0.7777777777777778,
             "#fb9f3a"
            ],
            [
             0.8888888888888888,
             "#fdca26"
            ],
            [
             1,
             "#f0f921"
            ]
           ],
           "sequentialminus": [
            [
             0,
             "#0d0887"
            ],
            [
             0.1111111111111111,
             "#46039f"
            ],
            [
             0.2222222222222222,
             "#7201a8"
            ],
            [
             0.3333333333333333,
             "#9c179e"
            ],
            [
             0.4444444444444444,
             "#bd3786"
            ],
            [
             0.5555555555555556,
             "#d8576b"
            ],
            [
             0.6666666666666666,
             "#ed7953"
            ],
            [
             0.7777777777777778,
             "#fb9f3a"
            ],
            [
             0.8888888888888888,
             "#fdca26"
            ],
            [
             1,
             "#f0f921"
            ]
           ]
          },
          "colorway": [
           "#636efa",
           "#EF553B",
           "#00cc96",
           "#ab63fa",
           "#FFA15A",
           "#19d3f3",
           "#FF6692",
           "#B6E880",
           "#FF97FF",
           "#FECB52"
          ],
          "font": {
           "color": "#2a3f5f"
          },
          "geo": {
           "bgcolor": "white",
           "lakecolor": "white",
           "landcolor": "#E5ECF6",
           "showlakes": true,
           "showland": true,
           "subunitcolor": "white"
          },
          "hoverlabel": {
           "align": "left"
          },
          "hovermode": "closest",
          "mapbox": {
           "style": "light"
          },
          "paper_bgcolor": "white",
          "plot_bgcolor": "#E5ECF6",
          "polar": {
           "angularaxis": {
            "gridcolor": "white",
            "linecolor": "white",
            "ticks": ""
           },
           "bgcolor": "#E5ECF6",
           "radialaxis": {
            "gridcolor": "white",
            "linecolor": "white",
            "ticks": ""
           }
          },
          "scene": {
           "xaxis": {
            "backgroundcolor": "#E5ECF6",
            "gridcolor": "white",
            "gridwidth": 2,
            "linecolor": "white",
            "showbackground": true,
            "ticks": "",
            "zerolinecolor": "white"
           },
           "yaxis": {
            "backgroundcolor": "#E5ECF6",
            "gridcolor": "white",
            "gridwidth": 2,
            "linecolor": "white",
            "showbackground": true,
            "ticks": "",
            "zerolinecolor": "white"
           },
           "zaxis": {
            "backgroundcolor": "#E5ECF6",
            "gridcolor": "white",
            "gridwidth": 2,
            "linecolor": "white",
            "showbackground": true,
            "ticks": "",
            "zerolinecolor": "white"
           }
          },
          "shapedefaults": {
           "line": {
            "color": "#2a3f5f"
           }
          },
          "ternary": {
           "aaxis": {
            "gridcolor": "white",
            "linecolor": "white",
            "ticks": ""
           },
           "baxis": {
            "gridcolor": "white",
            "linecolor": "white",
            "ticks": ""
           },
           "bgcolor": "#E5ECF6",
           "caxis": {
            "gridcolor": "white",
            "linecolor": "white",
            "ticks": ""
           }
          },
          "title": {
           "x": 0.05
          },
          "xaxis": {
           "automargin": true,
           "gridcolor": "white",
           "linecolor": "white",
           "ticks": "",
           "title": {
            "standoff": 15
           },
           "zerolinecolor": "white",
           "zerolinewidth": 2
          },
          "yaxis": {
           "automargin": true,
           "gridcolor": "white",
           "linecolor": "white",
           "ticks": "",
           "title": {
            "standoff": 15
           },
           "zerolinecolor": "white",
           "zerolinewidth": 2
          }
         }
        },
        "title": {
         "text": "Bar Plot of Age Group vs FirstYearPersistence"
        },
        "xaxis": {
         "anchor": "y",
         "domain": [
          0,
          1
         ],
         "title": {
          "text": "Age Group"
         },
         "type": "category"
        },
        "yaxis": {
         "anchor": "x",
         "domain": [
          0,
          1
         ],
         "title": {
          "text": "count"
         }
        }
       }
      }
     },
     "metadata": {},
     "output_type": "display_data"
    }
   ],
   "source": [
    "# comparision of different features with our target column\n",
    "# 1- not drop out\n",
    "# 0- drop out\n",
    "import plotly.express as px\n",
    "\n",
    "categorical_vars = [\"Funding\", \"School\", \"FastTrack\", \"Coop\", \"Residency\", \"Gender\", \"Previous Education\", \"Age Group\"]\n",
    "\n",
    "for cat_var in categorical_vars:\n",
    "    fig = px.histogram(dataset, x=cat_var, color=\"FirstYearPersistence\", title=f'Bar Plot of {cat_var} vs FirstYearPersistence',\n",
    "                       labels={cat_var: cat_var, \"FirstYearPersistence\": \"FirstYearPersistence\"},\n",
    "                       barmode='group')\n",
    "    fig.update_layout(xaxis=dict(type='category'), legend_title_text='FirstYearPersistence')\n",
    "    fig.show()\n"
   ]
  },
  {
   "cell_type": "code",
   "execution_count": 60,
   "id": "61e1f018",
   "metadata": {},
   "outputs": [
    {
     "data": {
      "text/plain": [
       "<Axes: xlabel='FirstYearPersistence', ylabel='Math Score'>"
      ]
     },
     "execution_count": 60,
     "metadata": {},
     "output_type": "execute_result"
    },
    {
     "data": {
      "image/png": "[encoded data removed]",
      "text/plain": [
       "<Figure size 640x480 with 1 Axes>"
      ]
     },
     "metadata": {},
     "output_type": "display_data"
    }
   ],
   "source": [
    "# creating the box plot that shows the higher scrore of maths less dropout\n",
    "sns.boxplot(dataset,x='FirstYearPersistence',y='Math Score')"
   ]
  },
  {
   "cell_type": "code",
   "execution_count": 61,
   "id": "d4c38572",
   "metadata": {},
   "outputs": [
    {
     "data": {
      "text/plain": [
       "<Axes: xlabel='FirstYearPersistence', ylabel='Second Term Gpa'>"
      ]
     },
     "execution_count": 61,
     "metadata": {},
     "output_type": "execute_result"
    },
    {
     "data": {
      "image/png": "[encoded data removed]",
      "text/plain": [
       "<Figure size 640x480 with 1 Axes>"
      ]
     },
     "metadata": {},
     "output_type": "display_data"
    }
   ],
   "source": [
    "# creating the box plot that shows the higher scrore of Second year gpa less dropout\n",
    "sns.boxplot(dataset,x='FirstYearPersistence',y='Second Term Gpa')"
   ]
  },
  {
   "cell_type": "code",
   "execution_count": 62,
   "id": "9f94c9f4",
   "metadata": {},
   "outputs": [
    {
     "data": {
      "text/plain": [
       "<Axes: xlabel='FirstYearPersistence', ylabel='First Term Gpa'>"
      ]
     },
     "execution_count": 62,
     "metadata": {},
     "output_type": "execute_result"
    },
    {
     "data": {
      "image/png": "[encoded data removed]",
      "text/plain": [
       "<Figure size 640x480 with 1 Axes>"
      ]
     },
     "metadata": {},
     "output_type": "display_data"
    }
   ],
   "source": [
    "# creating the box plot that shows the higher scrore of First year gpa less dropout\n",
    "sns.boxplot(dataset,x='FirstYearPersistence',y='First Term Gpa')"
   ]
  },
  {
   "cell_type": "code",
   "execution_count": 63,
   "id": "50dc69e5",
   "metadata": {},
   "outputs": [],
   "source": [
    "# here we are droping school column because it contains almost same values\n",
    "dataset.drop(columns='School',inplace=True)"
   ]
  },
  {
   "cell_type": "code",
   "execution_count": 64,
   "id": "0edd7d67",
   "metadata": {
    "scrolled": false
   },
   "outputs": [
    {
     "data": {
      "image/png": "[encoded data removed]",
      "text/plain": [
       "<Figure size 800x600 with 1 Axes>"
      ]
     },
     "metadata": {},
     "output_type": "display_data"
    },
    {
     "data": {
      "image/png": "[encoded data removed]",
      "text/plain": [
       "<Figure size 800x600 with 1 Axes>"
      ]
     },
     "metadata": {},
     "output_type": "display_data"
    },
    {
     "data": {
      "image/png": "[encoded data removed]",
      "text/plain": [
       "<Figure size 800x600 with 1 Axes>"
      ]
     },
     "metadata": {},
     "output_type": "display_data"
    }
   ],
   "source": [
    "# vizulizing the \"First Term Gpa\", \"Second Term Gpa\", \"Math Score\" columns\n",
    "continuous_vars = [\"First Term Gpa\", \"Second Term Gpa\", \"Math Score\"]\n",
    "\n",
    "for cont_var in continuous_vars:\n",
    "    plt.figure(figsize=(8, 6))\n",
    "    sns.histplot(dataset[cont_var])\n",
    "    plt.title(f'Histogram of {cont_var}')\n",
    "    plt.xlabel(cont_var)\n",
    "    plt.ylabel('Frequency')\n",
    "    plt.show()\n"
   ]
  },
  {
   "cell_type": "code",
   "execution_count": 65,
   "id": "4ac9615d",
   "metadata": {},
   "outputs": [
    {
     "data": {
      "application/vnd.plotly.v1+json": {
       "config": {
        "plotlyServerURL": "https://plot.ly"
       },
       "data": [
        {
         "colorscale": [
          [
           0,
           "rgb(103,0,31)"
          ],
          [
           0.1,
           "rgb(178,24,43)"
          ],
          [
           0.2,
           "rgb(214,96,77)"
          ],
          [
           0.3,
           "rgb(244,165,130)"
          ],
          [
           0.4,
           "rgb(253,219,199)"
          ],
          [
           0.5,
           "rgb(247,247,247)"
          ],
          [
           0.6,
           "rgb(209,229,240)"
          ],
          [
           0.7,
           "rgb(146,197,222)"
          ],
          [
           0.8,
           "rgb(67,147,195)"
          ],
          [
           0.9,
           "rgb(33,102,172)"
          ],
          [
           1,
           "rgb(5,48,97)"
          ]
         ],
         "reversescale": false,
         "showscale": true,
         "type": "heatmap",
         "x": [
          "First Term Gpa",
          "Second Term Gpa",
          "First Language",
          "Funding",
          "FastTrack",
          "Coop",
          "Residency",
          "Gender",
          "Previous Education",
          "Age Group",
          "Math Score",
          "English Grade",
          "FirstYearPersistence"
         ],
         "y": [
          "First Term Gpa",
          "Second Term Gpa",
          "First Language",
          "Funding",
          "FastTrack",
          "Coop",
          "Residency",
          "Gender",
          "Previous Education",
          "Age Group",
          "Math Score",
          "English Grade",
          "FirstYearPersistence"
         ],
         "z": [
          [
           1,
           0.640811199323118,
           0.11541139002755539,
           0.13530902400217645,
           -0.1651533863494818,
           -0.05828532181339231,
           0.11882320416843092,
           -0.17104178696229702,
           0.26759888473370214,
           0.25339497532161126,
           0.3963749088197519,
           0.2161235763398417,
           0.5392017565140268
          ],
          [
           0.640811199323118,
           1,
           0.1102331003707343,
           0.1780287342794153,
           -0.16489830736733196,
           -0.04445740188098373,
           0.1574193573891071,
           -0.19366313368892518,
           0.23925516686386705,
           0.278497816227234,
           0.3561211748933469,
           0.17001242222567428,
           0.28731828301463413
          ],
          [
           0.11541139002755539,
           0.1102331003707343,
           1,
           0.5109810940959998,
           -0.5064271279504767,
           0.19769595097529874,
           0.6344674568717609,
           -0.07055148315355761,
           0.20303766882172633,
           0.15093606856958533,
           0.2251196718051588,
           -0.0665404766370781,
           0.1590301361304378
          ],
          [
           0.13530902400217645,
           0.1780287342794153,
           0.5109810940959998,
           1,
           -0.4288231075127983,
           0.26630277290147625,
           0.7236059192894867,
           -0.04058195964277658,
           0.003999486879797532,
           0.29381791760027326,
           0.2921007556571144,
           0.006045095760703376,
           0.1931390704739249
          ],
          [
           -0.1651533863494818,
           -0.16489830736733196,
           -0.5064271279504767,
           -0.4288231075127983,
           1,
           -0.13968867639907778,
           -0.5733660178106463,
           0.11616790853152545,
           -0.2939499497945237,
           -0.26950777925572017,
           -0.033947302564433776,
           -0.10232868513002824,
           -0.1837820995706405
          ],
          [
           -0.05828532181339231,
           -0.04445740188098373,
           0.19769595097529874,
           0.26630277290147625,
           -0.13968867639907778,
           1,
           0.25570384847068944,
           0.0123543258496083,
           0.013032718120508352,
           0.03880227031236072,
           -0.01739537691745225,
           -0.09527403649805916,
           0.0012387872392291162
          ],
          [
           0.11882320416843092,
           0.1574193573891071,
           0.6344674568717609,
           0.7236059192894867,
           -0.5733660178106463,
           0.25570384847068944,
           1,
           -0.07999387295853072,
           0.13085199766779887,
           0.035082606581600354,
           0.321123260607128,
           -0.016205170537459467,
           0.21300673212288998
          ],
          [
           -0.17104178696229702,
           -0.19366313368892518,
           -0.07055148315355761,
           -0.04058195964277658,
           0.11616790853152545,
           0.0123543258496083,
           -0.07999387295853072,
           1,
           -0.1578406720188483,
           -0.0659293653337533,
           -0.03191141851583297,
           -0.0418018668983744,
           -0.07524260596810203
          ],
          [
           0.26759888473370214,
           0.23925516686386705,
           0.20303766882172633,
           0.003999486879797532,
           -0.2939499497945237,
           0.013032718120508352,
           0.13085199766779887,
           -0.1578406720188483,
           1,
           0.20693624621443088,
           0.10662237922260676,
           0.1477630532144884,
           0.12703441186584252
          ],
          [
           0.25339497532161126,
           0.278497816227234,
           0.15093606856958533,
           0.29381791760027326,
           -0.26950777925572017,
           0.03880227031236072,
           0.035082606581600354,
           -0.0659293653337533,
           0.20693624621443088,
           1,
           0.1390043241635332,
           0.09444892907466898,
           0.1151976865862858
          ],
          [
           0.3963749088197519,
           0.3561211748933469,
           0.2251196718051588,
           0.2921007556571144,
           -0.033947302564433776,
           -0.01739537691745225,
           0.321123260607128,
           -0.03191141851583297,
           0.10662237922260676,
           0.1390043241635332,
           1,
           0.11258320172519291,
           0.20611028980182827
          ],
          [
           0.2161235763398417,
           0.17001242222567428,
           -0.0665404766370781,
           0.006045095760703376,
           -0.10232868513002824,
           -0.09527403649805916,
           -0.016205170537459467,
           -0.0418018668983744,
           0.1477630532144884,
           0.09444892907466898,
           0.11258320172519291,
           1,
           0.04124088865929735
          ],
          [
           0.5392017565140268,
           0.28731828301463413,
           0.1590301361304378,
           0.1931390704739249,
           -0.1837820995706405,
           0.0012387872392291162,
           0.21300673212288998,
           -0.07524260596810203,
           0.12703441186584252,
           0.1151976865862858,
           0.20611028980182827,
           0.04124088865929735,
           1
          ]
         ]
        }
       ],
       "layout": {
        "annotations": [
         {
          "font": {
           "color": "#FFFFFF"
          },
          "showarrow": false,
          "text": "1.0",
          "x": "First Term Gpa",
          "xref": "x",
          "y": "First Term Gpa",
          "yref": "y"
         },
         {
          "font": {
           "color": "#FFFFFF"
          },
          "showarrow": false,
          "text": "0.64",
          "x": "Second Term Gpa",
          "xref": "x",
          "y": "First Term Gpa",
          "yref": "y"
         },
         {
          "font": {
           "color": "#FFFFFF"
          },
          "showarrow": false,
          "text": "0.12",
          "x": "First Language",
          "xref": "x",
          "y": "First Term Gpa",
          "yref": "y"
         },
         {
          "font": {
           "color": "#FFFFFF"
          },
          "showarrow": false,
          "text": "0.14",
          "x": "Funding",
          "xref": "x",
          "y": "First Term Gpa",
          "yref": "y"
         },
         {
          "font": {
           "color": "#FFFFFF"
          },
          "showarrow": false,
          "text": "-0.17",
          "x": "FastTrack",
          "xref": "x",
          "y": "First Term Gpa",
          "yref": "y"
         },
         {
          "font": {
           "color": "#FFFFFF"
          },
          "showarrow": false,
          "text": "-0.06",
          "x": "Coop",
          "xref": "x",
          "y": "First Term Gpa",
          "yref": "y"
         },
         {
          "font": {
           "color": "#FFFFFF"
          },
          "showarrow": false,
          "text": "0.12",
          "x": "Residency",
          "xref": "x",
          "y": "First Term Gpa",
          "yref": "y"
         },
         {
          "font": {
           "color": "#FFFFFF"
          },
          "showarrow": false,
          "text": "-0.17",
          "x": "Gender",
          "xref": "x",
          "y": "First Term Gpa",
          "yref": "y"
         },
         {
          "font": {
           "color": "#FFFFFF"
          },
          "showarrow": false,
          "text": "0.27",
          "x": "Previous Education",
          "xref": "x",
          "y": "First Term Gpa",
          "yref": "y"
         },
         {
          "font": {
           "color": "#FFFFFF"
          },
          "showarrow": false,
          "text": "0.25",
          "x": "Age Group",
          "xref": "x",
          "y": "First Term Gpa",
          "yref": "y"
         },
         {
          "font": {
           "color": "#FFFFFF"
          },
          "showarrow": false,
          "text": "0.4",
          "x": "Math Score",
          "xref": "x",
          "y": "First Term Gpa",
          "yref": "y"
         },
         {
          "font": {
           "color": "#FFFFFF"
          },
          "showarrow": false,
          "text": "0.22",
          "x": "English Grade",
          "xref": "x",
          "y": "First Term Gpa",
          "yref": "y"
         },
         {
          "font": {
           "color": "#FFFFFF"
          },
          "showarrow": false,
          "text": "0.54",
          "x": "FirstYearPersistence",
          "xref": "x",
          "y": "First Term Gpa",
          "yref": "y"
         },
         {
          "font": {
           "color": "#FFFFFF"
          },
          "showarrow": false,
          "text": "0.64",
          "x": "First Term Gpa",
          "xref": "x",
          "y": "Second Term Gpa",
          "yref": "y"
         },
         {
          "font": {
           "color": "#FFFFFF"
          },
          "showarrow": false,
          "text": "1.0",
          "x": "Second Term Gpa",
          "xref": "x",
          "y": "Second Term Gpa",
          "yref": "y"
         },
         {
          "font": {
           "color": "#FFFFFF"
          },
          "showarrow": false,
          "text": "0.11",
          "x": "First Language",
          "xref": "x",
          "y": "Second Term Gpa",
          "yref": "y"
         },
         {
          "font": {
           "color": "#FFFFFF"
          },
          "showarrow": false,
          "text": "0.18",
          "x": "Funding",
          "xref": "x",
          "y": "Second Term Gpa",
          "yref": "y"
         },
         {
          "font": {
           "color": "#FFFFFF"
          },
          "showarrow": false,
          "text": "-0.16",
          "x": "FastTrack",
          "xref": "x",
          "y": "Second Term Gpa",
          "yref": "y"
         },
         {
          "font": {
           "color": "#FFFFFF"
          },
          "showarrow": false,
          "text": "-0.04",
          "x": "Coop",
          "xref": "x",
          "y": "Second Term Gpa",
          "yref": "y"
         },
         {
          "font": {
           "color": "#FFFFFF"
          },
          "showarrow": false,
          "text": "0.16",
          "x": "Residency",
          "xref": "x",
          "y": "Second Term Gpa",
          "yref": "y"
         },
         {
          "font": {
           "color": "#FFFFFF"
          },
          "showarrow": false,
          "text": "-0.19",
          "x": "Gender",
          "xref": "x",
          "y": "Second Term Gpa",
          "yref": "y"
         },
         {
          "font": {
           "color": "#FFFFFF"
          },
          "showarrow": false,
          "text": "0.24",
          "x": "Previous Education",
          "xref": "x",
          "y": "Second Term Gpa",
          "yref": "y"
         },
         {
          "font": {
           "color": "#FFFFFF"
          },
          "showarrow": false,
          "text": "0.28",
          "x": "Age Group",
          "xref": "x",
          "y": "Second Term Gpa",
          "yref": "y"
         },
         {
          "font": {
           "color": "#FFFFFF"
          },
          "showarrow": false,
          "text": "0.36",
          "x": "Math Score",
          "xref": "x",
          "y": "Second Term Gpa",
          "yref": "y"
         },
         {
          "font": {
           "color": "#FFFFFF"
          },
          "showarrow": false,
          "text": "0.17",
          "x": "English Grade",
          "xref": "x",
          "y": "Second Term Gpa",
          "yref": "y"
         },
         {
          "font": {
           "color": "#FFFFFF"
          },
          "showarrow": false,
          "text": "0.29",
          "x": "FirstYearPersistence",
          "xref": "x",
          "y": "Second Term Gpa",
          "yref": "y"
         },
         {
          "font": {
           "color": "#FFFFFF"
          },
          "showarrow": false,
          "text": "0.12",
          "x": "First Term Gpa",
          "xref": "x",
          "y": "First Language",
          "yref": "y"
         },
         {
          "font": {
           "color": "#FFFFFF"
          },
          "showarrow": false,
          "text": "0.11",
          "x": "Second Term Gpa",
          "xref": "x",
          "y": "First Language",
          "yref": "y"
         },
         {
          "font": {
           "color": "#FFFFFF"
          },
          "showarrow": false,
          "text": "1.0",
          "x": "First Language",
          "xref": "x",
          "y": "First Language",
          "yref": "y"
         },
         {
          "font": {
           "color": "#FFFFFF"
          },
          "showarrow": false,
          "text": "0.51",
          "x": "Funding",
          "xref": "x",
          "y": "First Language",
          "yref": "y"
         },
         {
          "font": {
           "color": "#FFFFFF"
          },
          "showarrow": false,
          "text": "-0.51",
          "x": "FastTrack",
          "xref": "x",
          "y": "First Language",
          "yref": "y"
         },
         {
          "font": {
           "color": "#FFFFFF"
          },
          "showarrow": false,
          "text": "0.2",
          "x": "Coop",
          "xref": "x",
          "y": "First Language",
          "yref": "y"
         },
         {
          "font": {
           "color": "#FFFFFF"
          },
          "showarrow": false,
          "text": "0.63",
          "x": "Residency",
          "xref": "x",
          "y": "First Language",
          "yref": "y"
         },
         {
          "font": {
           "color": "#FFFFFF"
          },
          "showarrow": false,
          "text": "-0.07",
          "x": "Gender",
          "xref": "x",
          "y": "First Language",
          "yref": "y"
         },
         {
          "font": {
           "color": "#FFFFFF"
          },
          "showarrow": false,
          "text": "0.2",
          "x": "Previous Education",
          "xref": "x",
          "y": "First Language",
          "yref": "y"
         },
         {
          "font": {
           "color": "#FFFFFF"
          },
          "showarrow": false,
          "text": "0.15",
          "x": "Age Group",
          "xref": "x",
          "y": "First Language",
          "yref": "y"
         },
         {
          "font": {
           "color": "#FFFFFF"
          },
          "showarrow": false,
          "text": "0.23",
          "x": "Math Score",
          "xref": "x",
          "y": "First Language",
          "yref": "y"
         },
         {
          "font": {
           "color": "#FFFFFF"
          },
          "showarrow": false,
          "text": "-0.07",
          "x": "English Grade",
          "xref": "x",
          "y": "First Language",
          "yref": "y"
         },
         {
          "font": {
           "color": "#FFFFFF"
          },
          "showarrow": false,
          "text": "0.16",
          "x": "FirstYearPersistence",
          "xref": "x",
          "y": "First Language",
          "yref": "y"
         },
         {
          "font": {
           "color": "#FFFFFF"
          },
          "showarrow": false,
          "text": "0.14",
          "x": "First Term Gpa",
          "xref": "x",
          "y": "Funding",
          "yref": "y"
         },
         {
          "font": {
           "color": "#FFFFFF"
          },
          "showarrow": false,
          "text": "0.18",
          "x": "Second Term Gpa",
          "xref": "x",
          "y": "Funding",
          "yref": "y"
         },
         {
          "font": {
           "color": "#FFFFFF"
          },
          "showarrow": false,
          "text": "0.51",
          "x": "First Language",
          "xref": "x",
          "y": "Funding",
          "yref": "y"
         },
         {
          "font": {
           "color": "#FFFFFF"
          },
          "showarrow": false,
          "text": "1.0",
          "x": "Funding",
          "xref": "x",
          "y": "Funding",
          "yref": "y"
         },
         {
          "font": {
           "color": "#FFFFFF"
          },
          "showarrow": false,
          "text": "-0.43",
          "x": "FastTrack",
          "xref": "x",
          "y": "Funding",
          "yref": "y"
         },
         {
          "font": {
           "color": "#FFFFFF"
          },
          "showarrow": false,
          "text": "0.27",
          "x": "Coop",
          "xref": "x",
          "y": "Funding",
          "yref": "y"
         },
         {
          "font": {
           "color": "#FFFFFF"
          },
          "showarrow": false,
          "text": "0.72",
          "x": "Residency",
          "xref": "x",
          "y": "Funding",
          "yref": "y"
         },
         {
          "font": {
           "color": "#FFFFFF"
          },
          "showarrow": false,
          "text": "-0.04",
          "x": "Gender",
          "xref": "x",
          "y": "Funding",
          "yref": "y"
         },
         {
          "font": {
           "color": "#FFFFFF"
          },
          "showarrow": false,
          "text": "0.0",
          "x": "Previous Education",
          "xref": "x",
          "y": "Funding",
          "yref": "y"
         },
         {
          "font": {
           "color": "#FFFFFF"
          },
          "showarrow": false,
          "text": "0.29",
          "x": "Age Group",
          "xref": "x",
          "y": "Funding",
          "yref": "y"
         },
         {
          "font": {
           "color": "#FFFFFF"
          },
          "showarrow": false,
          "text": "0.29",
          "x": "Math Score",
          "xref": "x",
          "y": "Funding",
          "yref": "y"
         },
         {
          "font": {
           "color": "#FFFFFF"
          },
          "showarrow": false,
          "text": "0.01",
          "x": "English Grade",
          "xref": "x",
          "y": "Funding",
          "yref": "y"
         },
         {
          "font": {
           "color": "#FFFFFF"
          },
          "showarrow": false,
          "text": "0.19",
          "x": "FirstYearPersistence",
          "xref": "x",
          "y": "Funding",
          "yref": "y"
         },
         {
          "font": {
           "color": "#FFFFFF"
          },
          "showarrow": false,
          "text": "-0.17",
          "x": "First Term Gpa",
          "xref": "x",
          "y": "FastTrack",
          "yref": "y"
         },
         {
          "font": {
           "color": "#FFFFFF"
          },
          "showarrow": false,
          "text": "-0.16",
          "x": "Second Term Gpa",
          "xref": "x",
          "y": "FastTrack",
          "yref": "y"
         },
         {
          "font": {
           "color": "#FFFFFF"
          },
          "showarrow": false,
          "text": "-0.51",
          "x": "First Language",
          "xref": "x",
          "y": "FastTrack",
          "yref": "y"
         },
         {
          "font": {
           "color": "#FFFFFF"
          },
          "showarrow": false,
          "text": "-0.43",
          "x": "Funding",
          "xref": "x",
          "y": "FastTrack",
          "yref": "y"
         },
         {
          "font": {
           "color": "#FFFFFF"
          },
          "showarrow": false,
          "text": "1.0",
          "x": "FastTrack",
          "xref": "x",
          "y": "FastTrack",
          "yref": "y"
         },
         {
          "font": {
           "color": "#FFFFFF"
          },
          "showarrow": false,
          "text": "-0.14",
          "x": "Coop",
          "xref": "x",
          "y": "FastTrack",
          "yref": "y"
         },
         {
          "font": {
           "color": "#FFFFFF"
          },
          "showarrow": false,
          "text": "-0.57",
          "x": "Residency",
          "xref": "x",
          "y": "FastTrack",
          "yref": "y"
         },
         {
          "font": {
           "color": "#FFFFFF"
          },
          "showarrow": false,
          "text": "0.12",
          "x": "Gender",
          "xref": "x",
          "y": "FastTrack",
          "yref": "y"
         },
         {
          "font": {
           "color": "#FFFFFF"
          },
          "showarrow": false,
          "text": "-0.29",
          "x": "Previous Education",
          "xref": "x",
          "y": "FastTrack",
          "yref": "y"
         },
         {
          "font": {
           "color": "#FFFFFF"
          },
          "showarrow": false,
          "text": "-0.27",
          "x": "Age Group",
          "xref": "x",
          "y": "FastTrack",
          "yref": "y"
         },
         {
          "font": {
           "color": "#FFFFFF"
          },
          "showarrow": false,
          "text": "-0.03",
          "x": "Math Score",
          "xref": "x",
          "y": "FastTrack",
          "yref": "y"
         },
         {
          "font": {
           "color": "#FFFFFF"
          },
          "showarrow": false,
          "text": "-0.1",
          "x": "English Grade",
          "xref": "x",
          "y": "FastTrack",
          "yref": "y"
         },
         {
          "font": {
           "color": "#FFFFFF"
          },
          "showarrow": false,
          "text": "-0.18",
          "x": "FirstYearPersistence",
          "xref": "x",
          "y": "FastTrack",
          "yref": "y"
         },
         {
          "font": {
           "color": "#FFFFFF"
          },
          "showarrow": false,
          "text": "-0.06",
          "x": "First Term Gpa",
          "xref": "x",
          "y": "Coop",
          "yref": "y"
         },
         {
          "font": {
           "color": "#FFFFFF"
          },
          "showarrow": false,
          "text": "-0.04",
          "x": "Second Term Gpa",
          "xref": "x",
          "y": "Coop",
          "yref": "y"
         },
         {
          "font": {
           "color": "#FFFFFF"
          },
          "showarrow": false,
          "text": "0.2",
          "x": "First Language",
          "xref": "x",
          "y": "Coop",
          "yref": "y"
         },
         {
          "font": {
           "color": "#FFFFFF"
          },
          "showarrow": false,
          "text": "0.27",
          "x": "Funding",
          "xref": "x",
          "y": "Coop",
          "yref": "y"
         },
         {
          "font": {
           "color": "#FFFFFF"
          },
          "showarrow": false,
          "text": "-0.14",
          "x": "FastTrack",
          "xref": "x",
          "y": "Coop",
          "yref": "y"
         },
         {
          "font": {
           "color": "#FFFFFF"
          },
          "showarrow": false,
          "text": "1.0",
          "x": "Coop",
          "xref": "x",
          "y": "Coop",
          "yref": "y"
         },
         {
          "font": {
           "color": "#FFFFFF"
          },
          "showarrow": false,
          "text": "0.26",
          "x": "Residency",
          "xref": "x",
          "y": "Coop",
          "yref": "y"
         },
         {
          "font": {
           "color": "#FFFFFF"
          },
          "showarrow": false,
          "text": "0.01",
          "x": "Gender",
          "xref": "x",
          "y": "Coop",
          "yref": "y"
         },
         {
          "font": {
           "color": "#FFFFFF"
          },
          "showarrow": false,
          "text": "0.01",
          "x": "Previous Education",
          "xref": "x",
          "y": "Coop",
          "yref": "y"
         },
         {
          "font": {
           "color": "#FFFFFF"
          },
          "showarrow": false,
          "text": "0.04",
          "x": "Age Group",
          "xref": "x",
          "y": "Coop",
          "yref": "y"
         },
         {
          "font": {
           "color": "#FFFFFF"
          },
          "showarrow": false,
          "text": "-0.02",
          "x": "Math Score",
          "xref": "x",
          "y": "Coop",
          "yref": "y"
         },
         {
          "font": {
           "color": "#FFFFFF"
          },
          "showarrow": false,
          "text": "-0.1",
          "x": "English Grade",
          "xref": "x",
          "y": "Coop",
          "yref": "y"
         },
         {
          "font": {
           "color": "#FFFFFF"
          },
          "showarrow": false,
          "text": "0.0",
          "x": "FirstYearPersistence",
          "xref": "x",
          "y": "Coop",
          "yref": "y"
         },
         {
          "font": {
           "color": "#FFFFFF"
          },
          "showarrow": false,
          "text": "0.12",
          "x": "First Term Gpa",
          "xref": "x",
          "y": "Residency",
          "yref": "y"
         },
         {
          "font": {
           "color": "#FFFFFF"
          },
          "showarrow": false,
          "text": "0.16",
          "x": "Second Term Gpa",
          "xref": "x",
          "y": "Residency",
          "yref": "y"
         },
         {
          "font": {
           "color": "#FFFFFF"
          },
          "showarrow": false,
          "text": "0.63",
          "x": "First Language",
          "xref": "x",
          "y": "Residency",
          "yref": "y"
         },
         {
          "font": {
           "color": "#FFFFFF"
          },
          "showarrow": false,
          "text": "0.72",
          "x": "Funding",
          "xref": "x",
          "y": "Residency",
          "yref": "y"
         },
         {
          "font": {
           "color": "#FFFFFF"
          },
          "showarrow": false,
          "text": "-0.57",
          "x": "FastTrack",
          "xref": "x",
          "y": "Residency",
          "yref": "y"
         },
         {
          "font": {
           "color": "#FFFFFF"
          },
          "showarrow": false,
          "text": "0.26",
          "x": "Coop",
          "xref": "x",
          "y": "Residency",
          "yref": "y"
         },
         {
          "font": {
           "color": "#FFFFFF"
          },
          "showarrow": false,
          "text": "1.0",
          "x": "Residency",
          "xref": "x",
          "y": "Residency",
          "yref": "y"
         },
         {
          "font": {
           "color": "#FFFFFF"
          },
          "showarrow": false,
          "text": "-0.08",
          "x": "Gender",
          "xref": "x",
          "y": "Residency",
          "yref": "y"
         },
         {
          "font": {
           "color": "#FFFFFF"
          },
          "showarrow": false,
          "text": "0.13",
          "x": "Previous Education",
          "xref": "x",
          "y": "Residency",
          "yref": "y"
         },
         {
          "font": {
           "color": "#FFFFFF"
          },
          "showarrow": false,
          "text": "0.04",
          "x": "Age Group",
          "xref": "x",
          "y": "Residency",
          "yref": "y"
         },
         {
          "font": {
           "color": "#FFFFFF"
          },
          "showarrow": false,
          "text": "0.32",
          "x": "Math Score",
          "xref": "x",
          "y": "Residency",
          "yref": "y"
         },
         {
          "font": {
           "color": "#FFFFFF"
          },
          "showarrow": false,
          "text": "-0.02",
          "x": "English Grade",
          "xref": "x",
          "y": "Residency",
          "yref": "y"
         },
         {
          "font": {
           "color": "#FFFFFF"
          },
          "showarrow": false,
          "text": "0.21",
          "x": "FirstYearPersistence",
          "xref": "x",
          "y": "Residency",
          "yref": "y"
         },
         {
          "font": {
           "color": "#FFFFFF"
          },
          "showarrow": false,
          "text": "-0.17",
          "x": "First Term Gpa",
          "xref": "x",
          "y": "Gender",
          "yref": "y"
         },
         {
          "font": {
           "color": "#FFFFFF"
          },
          "showarrow": false,
          "text": "-0.19",
          "x": "Second Term Gpa",
          "xref": "x",
          "y": "Gender",
          "yref": "y"
         },
         {
          "font": {
           "color": "#FFFFFF"
          },
          "showarrow": false,
          "text": "-0.07",
          "x": "First Language",
          "xref": "x",
          "y": "Gender",
          "yref": "y"
         },
         {
          "font": {
           "color": "#FFFFFF"
          },
          "showarrow": false,
          "text": "-0.04",
          "x": "Funding",
          "xref": "x",
          "y": "Gender",
          "yref": "y"
         },
         {
          "font": {
           "color": "#FFFFFF"
          },
          "showarrow": false,
          "text": "0.12",
          "x": "FastTrack",
          "xref": "x",
          "y": "Gender",
          "yref": "y"
         },
         {
          "font": {
           "color": "#FFFFFF"
          },
          "showarrow": false,
          "text": "0.01",
          "x": "Coop",
          "xref": "x",
          "y": "Gender",
          "yref": "y"
         },
         {
          "font": {
           "color": "#FFFFFF"
          },
          "showarrow": false,
          "text": "-0.08",
          "x": "Residency",
          "xref": "x",
          "y": "Gender",
          "yref": "y"
         },
         {
          "font": {
           "color": "#FFFFFF"
          },
          "showarrow": false,
          "text": "1.0",
          "x": "Gender",
          "xref": "x",
          "y": "Gender",
          "yref": "y"
         },
         {
          "font": {
           "color": "#FFFFFF"
          },
          "showarrow": false,
          "text": "-0.16",
          "x": "Previous Education",
          "xref": "x",
          "y": "Gender",
          "yref": "y"
         },
         {
          "font": {
           "color": "#FFFFFF"
          },
          "showarrow": false,
          "text": "-0.07",
          "x": "Age Group",
          "xref": "x",
          "y": "Gender",
          "yref": "y"
         },
         {
          "font": {
           "color": "#FFFFFF"
          },
          "showarrow": false,
          "text": "-0.03",
          "x": "Math Score",
          "xref": "x",
          "y": "Gender",
          "yref": "y"
         },
         {
          "font": {
           "color": "#FFFFFF"
          },
          "showarrow": false,
          "text": "-0.04",
          "x": "English Grade",
          "xref": "x",
          "y": "Gender",
          "yref": "y"
         },
         {
          "font": {
           "color": "#FFFFFF"
          },
          "showarrow": false,
          "text": "-0.08",
          "x": "FirstYearPersistence",
          "xref": "x",
          "y": "Gender",
          "yref": "y"
         },
         {
          "font": {
           "color": "#FFFFFF"
          },
          "showarrow": false,
          "text": "0.27",
          "x": "First Term Gpa",
          "xref": "x",
          "y": "Previous Education",
          "yref": "y"
         },
         {
          "font": {
           "color": "#FFFFFF"
          },
          "showarrow": false,
          "text": "0.24",
          "x": "Second Term Gpa",
          "xref": "x",
          "y": "Previous Education",
          "yref": "y"
         },
         {
          "font": {
           "color": "#FFFFFF"
          },
          "showarrow": false,
          "text": "0.2",
          "x": "First Language",
          "xref": "x",
          "y": "Previous Education",
          "yref": "y"
         },
         {
          "font": {
           "color": "#FFFFFF"
          },
          "showarrow": false,
          "text": "0.0",
          "x": "Funding",
          "xref": "x",
          "y": "Previous Education",
          "yref": "y"
         },
         {
          "font": {
           "color": "#FFFFFF"
          },
          "showarrow": false,
          "text": "-0.29",
          "x": "FastTrack",
          "xref": "x",
          "y": "Previous Education",
          "yref": "y"
         },
         {
          "font": {
           "color": "#FFFFFF"
          },
          "showarrow": false,
          "text": "0.01",
          "x": "Coop",
          "xref": "x",
          "y": "Previous Education",
          "yref": "y"
         },
         {
          "font": {
           "color": "#FFFFFF"
          },
          "showarrow": false,
          "text": "0.13",
          "x": "Residency",
          "xref": "x",
          "y": "Previous Education",
          "yref": "y"
         },
         {
          "font": {
           "color": "#FFFFFF"
          },
          "showarrow": false,
          "text": "-0.16",
          "x": "Gender",
          "xref": "x",
          "y": "Previous Education",
          "yref": "y"
         },
         {
          "font": {
           "color": "#FFFFFF"
          },
          "showarrow": false,
          "text": "1.0",
          "x": "Previous Education",
          "xref": "x",
          "y": "Previous Education",
          "yref": "y"
         },
         {
          "font": {
           "color": "#FFFFFF"
          },
          "showarrow": false,
          "text": "0.21",
          "x": "Age Group",
          "xref": "x",
          "y": "Previous Education",
          "yref": "y"
         },
         {
          "font": {
           "color": "#FFFFFF"
          },
          "showarrow": false,
          "text": "0.11",
          "x": "Math Score",
          "xref": "x",
          "y": "Previous Education",
          "yref": "y"
         },
         {
          "font": {
           "color": "#FFFFFF"
          },
          "showarrow": false,
          "text": "0.15",
          "x": "English Grade",
          "xref": "x",
          "y": "Previous Education",
          "yref": "y"
         },
         {
          "font": {
           "color": "#FFFFFF"
          },
          "showarrow": false,
          "text": "0.13",
          "x": "FirstYearPersistence",
          "xref": "x",
          "y": "Previous Education",
          "yref": "y"
         },
         {
          "font": {
           "color": "#FFFFFF"
          },
          "showarrow": false,
          "text": "0.25",
          "x": "First Term Gpa",
          "xref": "x",
          "y": "Age Group",
          "yref": "y"
         },
         {
          "font": {
           "color": "#FFFFFF"
          },
          "showarrow": false,
          "text": "0.28",
          "x": "Second Term Gpa",
          "xref": "x",
          "y": "Age Group",
          "yref": "y"
         },
         {
          "font": {
           "color": "#FFFFFF"
          },
          "showarrow": false,
          "text": "0.15",
          "x": "First Language",
          "xref": "x",
          "y": "Age Group",
          "yref": "y"
         },
         {
          "font": {
           "color": "#FFFFFF"
          },
          "showarrow": false,
          "text": "0.29",
          "x": "Funding",
          "xref": "x",
          "y": "Age Group",
          "yref": "y"
         },
         {
          "font": {
           "color": "#FFFFFF"
          },
          "showarrow": false,
          "text": "-0.27",
          "x": "FastTrack",
          "xref": "x",
          "y": "Age Group",
          "yref": "y"
         },
         {
          "font": {
           "color": "#FFFFFF"
          },
          "showarrow": false,
          "text": "0.04",
          "x": "Coop",
          "xref": "x",
          "y": "Age Group",
          "yref": "y"
         },
         {
          "font": {
           "color": "#FFFFFF"
          },
          "showarrow": false,
          "text": "0.04",
          "x": "Residency",
          "xref": "x",
          "y": "Age Group",
          "yref": "y"
         },
         {
          "font": {
           "color": "#FFFFFF"
          },
          "showarrow": false,
          "text": "-0.07",
          "x": "Gender",
          "xref": "x",
          "y": "Age Group",
          "yref": "y"
         },
         {
          "font": {
           "color": "#FFFFFF"
          },
          "showarrow": false,
          "text": "0.21",
          "x": "Previous Education",
          "xref": "x",
          "y": "Age Group",
          "yref": "y"
         },
         {
          "font": {
           "color": "#FFFFFF"
          },
          "showarrow": false,
          "text": "1.0",
          "x": "Age Group",
          "xref": "x",
          "y": "Age Group",
          "yref": "y"
         },
         {
          "font": {
           "color": "#FFFFFF"
          },
          "showarrow": false,
          "text": "0.14",
          "x": "Math Score",
          "xref": "x",
          "y": "Age Group",
          "yref": "y"
         },
         {
          "font": {
           "color": "#FFFFFF"
          },
          "showarrow": false,
          "text": "0.09",
          "x": "English Grade",
          "xref": "x",
          "y": "Age Group",
          "yref": "y"
         },
         {
          "font": {
           "color": "#FFFFFF"
          },
          "showarrow": false,
          "text": "0.12",
          "x": "FirstYearPersistence",
          "xref": "x",
          "y": "Age Group",
          "yref": "y"
         },
         {
          "font": {
           "color": "#FFFFFF"
          },
          "showarrow": false,
          "text": "0.4",
          "x": "First Term Gpa",
          "xref": "x",
          "y": "Math Score",
          "yref": "y"
         },
         {
          "font": {
           "color": "#FFFFFF"
          },
          "showarrow": false,
          "text": "0.36",
          "x": "Second Term Gpa",
          "xref": "x",
          "y": "Math Score",
          "yref": "y"
         },
         {
          "font": {
           "color": "#FFFFFF"
          },
          "showarrow": false,
          "text": "0.23",
          "x": "First Language",
          "xref": "x",
          "y": "Math Score",
          "yref": "y"
         },
         {
          "font": {
           "color": "#FFFFFF"
          },
          "showarrow": false,
          "text": "0.29",
          "x": "Funding",
          "xref": "x",
          "y": "Math Score",
          "yref": "y"
         },
         {
          "font": {
           "color": "#FFFFFF"
          },
          "showarrow": false,
          "text": "-0.03",
          "x": "FastTrack",
          "xref": "x",
          "y": "Math Score",
          "yref": "y"
         },
         {
          "font": {
           "color": "#FFFFFF"
          },
          "showarrow": false,
          "text": "-0.02",
          "x": "Coop",
          "xref": "x",
          "y": "Math Score",
          "yref": "y"
         },
         {
          "font": {
           "color": "#FFFFFF"
          },
          "showarrow": false,
          "text": "0.32",
          "x": "Residency",
          "xref": "x",
          "y": "Math Score",
          "yref": "y"
         },
         {
          "font": {
           "color": "#FFFFFF"
          },
          "showarrow": false,
          "text": "-0.03",
          "x": "Gender",
          "xref": "x",
          "y": "Math Score",
          "yref": "y"
         },
         {
          "font": {
           "color": "#FFFFFF"
          },
          "showarrow": false,
          "text": "0.11",
          "x": "Previous Education",
          "xref": "x",
          "y": "Math Score",
          "yref": "y"
         },
         {
          "font": {
           "color": "#FFFFFF"
          },
          "showarrow": false,
          "text": "0.14",
          "x": "Age Group",
          "xref": "x",
          "y": "Math Score",
          "yref": "y"
         },
         {
          "font": {
           "color": "#FFFFFF"
          },
          "showarrow": false,
          "text": "1.0",
          "x": "Math Score",
          "xref": "x",
          "y": "Math Score",
          "yref": "y"
         },
         {
          "font": {
           "color": "#FFFFFF"
          },
          "showarrow": false,
          "text": "0.11",
          "x": "English Grade",
          "xref": "x",
          "y": "Math Score",
          "yref": "y"
         },
         {
          "font": {
           "color": "#FFFFFF"
          },
          "showarrow": false,
          "text": "0.21",
          "x": "FirstYearPersistence",
          "xref": "x",
          "y": "Math Score",
          "yref": "y"
         },
         {
          "font": {
           "color": "#FFFFFF"
          },
          "showarrow": false,
          "text": "0.22",
          "x": "First Term Gpa",
          "xref": "x",
          "y": "English Grade",
          "yref": "y"
         },
         {
          "font": {
           "color": "#FFFFFF"
          },
          "showarrow": false,
          "text": "0.17",
          "x": "Second Term Gpa",
          "xref": "x",
          "y": "English Grade",
          "yref": "y"
         },
         {
          "font": {
           "color": "#FFFFFF"
          },
          "showarrow": false,
          "text": "-0.07",
          "x": "First Language",
          "xref": "x",
          "y": "English Grade",
          "yref": "y"
         },
         {
          "font": {
           "color": "#FFFFFF"
          },
          "showarrow": false,
          "text": "0.01",
          "x": "Funding",
          "xref": "x",
          "y": "English Grade",
          "yref": "y"
         },
         {
          "font": {
           "color": "#FFFFFF"
          },
          "showarrow": false,
          "text": "-0.1",
          "x": "FastTrack",
          "xref": "x",
          "y": "English Grade",
          "yref": "y"
         },
         {
          "font": {
           "color": "#FFFFFF"
          },
          "showarrow": false,
          "text": "-0.1",
          "x": "Coop",
          "xref": "x",
          "y": "English Grade",
          "yref": "y"
         },
         {
          "font": {
           "color": "#FFFFFF"
          },
          "showarrow": false,
          "text": "-0.02",
          "x": "Residency",
          "xref": "x",
          "y": "English Grade",
          "yref": "y"
         },
         {
          "font": {
           "color": "#FFFFFF"
          },
          "showarrow": false,
          "text": "-0.04",
          "x": "Gender",
          "xref": "x",
          "y": "English Grade",
          "yref": "y"
         },
         {
          "font": {
           "color": "#FFFFFF"
          },
          "showarrow": false,
          "text": "0.15",
          "x": "Previous Education",
          "xref": "x",
          "y": "English Grade",
          "yref": "y"
         },
         {
          "font": {
           "color": "#FFFFFF"
          },
          "showarrow": false,
          "text": "0.09",
          "x": "Age Group",
          "xref": "x",
          "y": "English Grade",
          "yref": "y"
         },
         {
          "font": {
           "color": "#FFFFFF"
          },
          "showarrow": false,
          "text": "0.11",
          "x": "Math Score",
          "xref": "x",
          "y": "English Grade",
          "yref": "y"
         },
         {
          "font": {
           "color": "#FFFFFF"
          },
          "showarrow": false,
          "text": "1.0",
          "x": "English Grade",
          "xref": "x",
          "y": "English Grade",
          "yref": "y"
         },
         {
          "font": {
           "color": "#FFFFFF"
          },
          "showarrow": false,
          "text": "0.04",
          "x": "FirstYearPersistence",
          "xref": "x",
          "y": "English Grade",
          "yref": "y"
         },
         {
          "font": {
           "color": "#FFFFFF"
          },
          "showarrow": false,
          "text": "0.54",
          "x": "First Term Gpa",
          "xref": "x",
          "y": "FirstYearPersistence",
          "yref": "y"
         },
         {
          "font": {
           "color": "#FFFFFF"
          },
          "showarrow": false,
          "text": "0.29",
          "x": "Second Term Gpa",
          "xref": "x",
          "y": "FirstYearPersistence",
          "yref": "y"
         },
         {
          "font": {
           "color": "#FFFFFF"
          },
          "showarrow": false,
          "text": "0.16",
          "x": "First Language",
          "xref": "x",
          "y": "FirstYearPersistence",
          "yref": "y"
         },
         {
          "font": {
           "color": "#FFFFFF"
          },
          "showarrow": false,
          "text": "0.19",
          "x": "Funding",
          "xref": "x",
          "y": "FirstYearPersistence",
          "yref": "y"
         },
         {
          "font": {
           "color": "#FFFFFF"
          },
          "showarrow": false,
          "text": "-0.18",
          "x": "FastTrack",
          "xref": "x",
          "y": "FirstYearPersistence",
          "yref": "y"
         },
         {
          "font": {
           "color": "#FFFFFF"
          },
          "showarrow": false,
          "text": "0.0",
          "x": "Coop",
          "xref": "x",
          "y": "FirstYearPersistence",
          "yref": "y"
         },
         {
          "font": {
           "color": "#FFFFFF"
          },
          "showarrow": false,
          "text": "0.21",
          "x": "Residency",
          "xref": "x",
          "y": "FirstYearPersistence",
          "yref": "y"
         },
         {
          "font": {
           "color": "#FFFFFF"
          },
          "showarrow": false,
          "text": "-0.08",
          "x": "Gender",
          "xref": "x",
          "y": "FirstYearPersistence",
          "yref": "y"
         },
         {
          "font": {
           "color": "#FFFFFF"
          },
          "showarrow": false,
          "text": "0.13",
          "x": "Previous Education",
          "xref": "x",
          "y": "FirstYearPersistence",
          "yref": "y"
         },
         {
          "font": {
           "color": "#FFFFFF"
          },
          "showarrow": false,
          "text": "0.12",
          "x": "Age Group",
          "xref": "x",
          "y": "FirstYearPersistence",
          "yref": "y"
         },
         {
          "font": {
           "color": "#FFFFFF"
          },
          "showarrow": false,
          "text": "0.21",
          "x": "Math Score",
          "xref": "x",
          "y": "FirstYearPersistence",
          "yref": "y"
         },
         {
          "font": {
           "color": "#FFFFFF"
          },
          "showarrow": false,
          "text": "0.04",
          "x": "English Grade",
          "xref": "x",
          "y": "FirstYearPersistence",
          "yref": "y"
         },
         {
          "font": {
           "color": "#FFFFFF"
          },
          "showarrow": false,
          "text": "1.0",
          "x": "FirstYearPersistence",
          "xref": "x",
          "y": "FirstYearPersistence",
          "yref": "y"
         }
        ],
        "height": 800,
        "template": {
         "data": {
          "bar": [
           {
            "error_x": {
             "color": "#2a3f5f"
            },
            "error_y": {
             "color": "#2a3f5f"
            },
            "marker": {
             "line": {
              "color": "#E5ECF6",
              "width": 0.5
             },
             "pattern": {
              "fillmode": "overlay",
              "size": 10,
              "solidity": 0.2
             }
            },
            "type": "bar"
           }
          ],
          "barpolar": [
           {
            "marker": {
             "line": {
              "color": "#E5ECF6",
              "width": 0.5
             },
             "pattern": {
              "fillmode": "overlay",
              "size": 10,
              "solidity": 0.2
             }
            },
            "type": "barpolar"
           }
          ],
          "carpet": [
           {
            "aaxis": {
             "endlinecolor": "#2a3f5f",
             "gridcolor": "white",
             "linecolor": "white",
             "minorgridcolor": "white",
             "startlinecolor": "#2a3f5f"
            },
            "baxis": {
             "endlinecolor": "#2a3f5f",
             "gridcolor": "white",
             "linecolor": "white",
             "minorgridcolor": "white",
             "startlinecolor": "#2a3f5f"
            },
            "type": "carpet"
           }
          ],
          "choropleth": [
           {
            "colorbar": {
             "outlinewidth": 0,
             "ticks": ""
            },
            "type": "choropleth"
           }
          ],
          "contour": [
           {
            "colorbar": {
             "outlinewidth": 0,
             "ticks": ""
            },
            "colorscale": [
             [
              0,
              "#0d0887"
             ],
             [
              0.1111111111111111,
              "#46039f"
             ],
             [
              0.2222222222222222,
              "#7201a8"
             ],
             [
              0.3333333333333333,
              "#9c179e"
             ],
             [
              0.4444444444444444,
              "#bd3786"
             ],
             [
              0.5555555555555556,
              "#d8576b"
             ],
             [
              0.6666666666666666,
              "#ed7953"
             ],
             [
              0.7777777777777778,
              "#fb9f3a"
             ],
             [
              0.8888888888888888,
              "#fdca26"
             ],
             [
              1,
              "#f0f921"
             ]
            ],
            "type": "contour"
           }
          ],
          "contourcarpet": [
           {
            "colorbar": {
             "outlinewidth": 0,
             "ticks": ""
            },
            "type": "contourcarpet"
           }
          ],
          "heatmap": [
           {
            "colorbar": {
             "outlinewidth": 0,
             "ticks": ""
            },
            "colorscale": [
             [
              0,
              "#0d0887"
             ],
             [
              0.1111111111111111,
              "#46039f"
             ],
             [
              0.2222222222222222,
              "#7201a8"
             ],
             [
              0.3333333333333333,
              "#9c179e"
             ],
             [
              0.4444444444444444,
              "#bd3786"
             ],
             [
              0.5555555555555556,
              "#d8576b"
             ],
             [
              0.6666666666666666,
              "#ed7953"
             ],
             [
              0.7777777777777778,
              "#fb9f3a"
             ],
             [
              0.8888888888888888,
              "#fdca26"
             ],
             [
              1,
              "#f0f921"
             ]
            ],
            "type": "heatmap"
           }
          ],
          "heatmapgl": [
           {
            "colorbar": {
             "outlinewidth": 0,
             "ticks": ""
            },
            "colorscale": [
             [
              0,
              "#0d0887"
             ],
             [
              0.1111111111111111,
              "#46039f"
             ],
             [
              0.2222222222222222,
              "#7201a8"
             ],
             [
              0.3333333333333333,
              "#9c179e"
             ],
             [
              0.4444444444444444,
              "#bd3786"
             ],
             [
              0.5555555555555556,
              "#d8576b"
             ],
             [
              0.6666666666666666,
              "#ed7953"
             ],
             [
              0.7777777777777778,
              "#fb9f3a"
             ],
             [
              0.8888888888888888,
              "#fdca26"
             ],
             [
              1,
              "#f0f921"
             ]
            ],
            "type": "heatmapgl"
           }
          ],
          "histogram": [
           {
            "marker": {
             "pattern": {
              "fillmode": "overlay",
              "size": 10,
              "solidity": 0.2
             }
            },
            "type": "histogram"
           }
          ],
          "histogram2d": [
           {
            "colorbar": {
             "outlinewidth": 0,
             "ticks": ""
            },
            "colorscale": [
             [
              0,
              "#0d0887"
             ],
             [
              0.1111111111111111,
              "#46039f"
             ],
             [
              0.2222222222222222,
              "#7201a8"
             ],
             [
              0.3333333333333333,
              "#9c179e"
             ],
             [
              0.4444444444444444,
              "#bd3786"
             ],
             [
              0.5555555555555556,
              "#d8576b"
             ],
             [
              0.6666666666666666,
              "#ed7953"
             ],
             [
              0.7777777777777778,
              "#fb9f3a"
             ],
             [
              0.8888888888888888,
              "#fdca26"
             ],
             [
              1,
              "#f0f921"
             ]
            ],
            "type": "histogram2d"
           }
          ],
          "histogram2dcontour": [
           {
            "colorbar": {
             "outlinewidth": 0,
             "ticks": ""
            },
            "colorscale": [
             [
              0,
              "#0d0887"
             ],
             [
              0.1111111111111111,
              "#46039f"
             ],
             [
              0.2222222222222222,
              "#7201a8"
             ],
             [
              0.3333333333333333,
              "#9c179e"
             ],
             [
              0.4444444444444444,
              "#bd3786"
             ],
             [
              0.5555555555555556,
              "#d8576b"
             ],
             [
              0.6666666666666666,
              "#ed7953"
             ],
             [
              0.7777777777777778,
              "#fb9f3a"
             ],
             [
              0.8888888888888888,
              "#fdca26"
             ],
             [
              1,
              "#f0f921"
             ]
            ],
            "type": "histogram2dcontour"
           }
          ],
          "mesh3d": [
           {
            "colorbar": {
             "outlinewidth": 0,
             "ticks": ""
            },
            "type": "mesh3d"
           }
          ],
          "parcoords": [
           {
            "line": {
             "colorbar": {
              "outlinewidth": 0,
              "ticks": ""
             }
            },
            "type": "parcoords"
           }
          ],
          "pie": [
           {
            "automargin": true,
            "type": "pie"
           }
          ],
          "scatter": [
           {
            "fillpattern": {
             "fillmode": "overlay",
             "size": 10,
             "solidity": 0.2
            },
            "type": "scatter"
           }
          ],
          "scatter3d": [
           {
            "line": {
             "colorbar": {
              "outlinewidth": 0,
              "ticks": ""
             }
            },
            "marker": {
             "colorbar": {
              "outlinewidth": 0,
              "ticks": ""
             }
            },
            "type": "scatter3d"
           }
          ],
          "scattercarpet": [
           {
            "marker": {
             "colorbar": {
              "outlinewidth": 0,
              "ticks": ""
             }
            },
            "type": "scattercarpet"
           }
          ],
          "scattergeo": [
           {
            "marker": {
             "colorbar": {
              "outlinewidth": 0,
              "ticks": ""
             }
            },
            "type": "scattergeo"
           }
          ],
          "scattergl": [
           {
            "marker": {
             "colorbar": {
              "outlinewidth": 0,
              "ticks": ""
             }
            },
            "type": "scattergl"
           }
          ],
          "scattermapbox": [
           {
            "marker": {
             "colorbar": {
              "outlinewidth": 0,
              "ticks": ""
             }
            },
            "type": "scattermapbox"
           }
          ],
          "scatterpolar": [
           {
            "marker": {
             "colorbar": {
              "outlinewidth": 0,
              "ticks": ""
             }
            },
            "type": "scatterpolar"
           }
          ],
          "scatterpolargl": [
           {
            "marker": {
             "colorbar": {
              "outlinewidth": 0,
              "ticks": ""
             }
            },
            "type": "scatterpolargl"
           }
          ],
          "scatterternary": [
           {
            "marker": {
             "colorbar": {
              "outlinewidth": 0,
              "ticks": ""
             }
            },
            "type": "scatterternary"
           }
          ],
          "surface": [
           {
            "colorbar": {
             "outlinewidth": 0,
             "ticks": ""
            },
            "colorscale": [
             [
              0,
              "#0d0887"
             ],
             [
              0.1111111111111111,
              "#46039f"
             ],
             [
              0.2222222222222222,
              "#7201a8"
             ],
             [
              0.3333333333333333,
              "#9c179e"
             ],
             [
              0.4444444444444444,
              "#bd3786"
             ],
             [
              0.5555555555555556,
              "#d8576b"
             ],
             [
              0.6666666666666666,
              "#ed7953"
             ],
             [
              0.7777777777777778,
              "#fb9f3a"
             ],
             [
              0.8888888888888888,
              "#fdca26"
             ],
             [
              1,
              "#f0f921"
             ]
            ],
            "type": "surface"
           }
          ],
          "table": [
           {
            "cells": {
             "fill": {
              "color": "#EBF0F8"
             },
             "line": {
              "color": "white"
             }
            },
            "header": {
             "fill": {
              "color": "#C8D4E3"
             },
             "line": {
              "color": "white"
             }
            },
            "type": "table"
           }
          ]
         },
         "layout": {
          "annotationdefaults": {
           "arrowcolor": "#2a3f5f",
           "arrowhead": 0,
           "arrowwidth": 1
          },
          "autotypenumbers": "strict",
          "coloraxis": {
           "colorbar": {
            "outlinewidth": 0,
            "ticks": ""
           }
          },
          "colorscale": {
           "diverging": [
            [
             0,
             "#8e0152"
            ],
            [
             0.1,
             "#c51b7d"
            ],
            [
             0.2,
             "#de77ae"
            ],
            [
             0.3,
             "#f1b6da"
            ],
            [
             0.4,
             "#fde0ef"
            ],
            [
             0.5,
             "#f7f7f7"
            ],
            [
             0.6,
             "#e6f5d0"
            ],
            [
             0.7,
             "#b8e186"
            ],
            [
             0.8,
             "#7fbc41"
            ],
            [
             0.9,
             "#4d9221"
            ],
            [
             1,
             "#276419"
            ]
           ],
           "sequential": [
            [
             0,
             "#0d0887"
            ],
            [
             0.1111111111111111,
             "#46039f"
            ],
            [
             0.2222222222222222,
             "#7201a8"
            ],
            [
             0.3333333333333333,
             "#9c179e"
            ],
            [
             0.4444444444444444,
             "#bd3786"
            ],
            [
             0.5555555555555556,
             "#d8576b"
            ],
            [
             0.6666666666666666,
             "#ed7953"
            ],
            [
             0.7777777777777778,
             "#fb9f3a"
            ],
            [
             0.8888888888888888,
             "#fdca26"
            ],
            [
             1,
             "#f0f921"
            ]
           ],
           "sequentialminus": [
            [
             0,
             "#0d0887"
            ],
            [
             0.1111111111111111,
             "#46039f"
            ],
            [
             0.2222222222222222,
             "#7201a8"
            ],
            [
             0.3333333333333333,
             "#9c179e"
            ],
            [
             0.4444444444444444,
             "#bd3786"
            ],
            [
             0.5555555555555556,
             "#d8576b"
            ],
            [
             0.6666666666666666,
             "#ed7953"
            ],
            [
             0.7777777777777778,
             "#fb9f3a"
            ],
            [
             0.8888888888888888,
             "#fdca26"
            ],
            [
             1,
             "#f0f921"
            ]
           ]
          },
          "colorway": [
           "#636efa",
           "#EF553B",
           "#00cc96",
           "#ab63fa",
           "#FFA15A",
           "#19d3f3",
           "#FF6692",
           "#B6E880",
           "#FF97FF",
           "#FECB52"
          ],
          "font": {
           "color": "#2a3f5f"
          },
          "geo": {
           "bgcolor": "white",
           "lakecolor": "white",
           "landcolor": "#E5ECF6",
           "showlakes": true,
           "showland": true,
           "subunitcolor": "white"
          },
          "hoverlabel": {
           "align": "left"
          },
          "hovermode": "closest",
          "mapbox": {
           "style": "light"
          },
          "paper_bgcolor": "white",
          "plot_bgcolor": "#E5ECF6",
          "polar": {
           "angularaxis": {
            "gridcolor": "white",
            "linecolor": "white",
            "ticks": ""
           },
           "bgcolor": "#E5ECF6",
           "radialaxis": {
            "gridcolor": "white",
            "linecolor": "white",
            "ticks": ""
           }
          },
          "scene": {
           "xaxis": {
            "backgroundcolor": "#E5ECF6",
            "gridcolor": "white",
            "gridwidth": 2,
            "linecolor": "white",
            "showbackground": true,
            "ticks": "",
            "zerolinecolor": "white"
           },
           "yaxis": {
            "backgroundcolor": "#E5ECF6",
            "gridcolor": "white",
            "gridwidth": 2,
            "linecolor": "white",
            "showbackground": true,
            "ticks": "",
            "zerolinecolor": "white"
           },
           "zaxis": {
            "backgroundcolor": "#E5ECF6",
            "gridcolor": "white",
            "gridwidth": 2,
            "linecolor": "white",
            "showbackground": true,
            "ticks": "",
            "zerolinecolor": "white"
           }
          },
          "shapedefaults": {
           "line": {
            "color": "#2a3f5f"
           }
          },
          "ternary": {
           "aaxis": {
            "gridcolor": "white",
            "linecolor": "white",
            "ticks": ""
           },
           "baxis": {
            "gridcolor": "white",
            "linecolor": "white",
            "ticks": ""
           },
           "bgcolor": "#E5ECF6",
           "caxis": {
            "gridcolor": "white",
            "linecolor": "white",
            "ticks": ""
           }
          },
          "title": {
           "x": 0.05
          },
          "xaxis": {
           "automargin": true,
           "gridcolor": "white",
           "linecolor": "white",
           "ticks": "",
           "title": {
            "standoff": 15
           },
           "zerolinecolor": "white",
           "zerolinewidth": 2
          },
          "yaxis": {
           "automargin": true,
           "gridcolor": "white",
           "linecolor": "white",
           "ticks": "",
           "title": {
            "standoff": 15
           },
           "zerolinecolor": "white",
           "zerolinewidth": 2
          }
         }
        },
        "title": {
         "text": "Correlation Heatmap"
        },
        "width": 1000,
        "xaxis": {
         "dtick": 1,
         "gridcolor": "rgb(0, 0, 0)",
         "side": "bottom",
         "ticks": "",
         "title": {
          "text": "Features"
         }
        },
        "yaxis": {
         "dtick": 1,
         "ticks": "",
         "ticksuffix": "  ",
         "title": {
          "text": "Features"
         }
        }
       }
      }
     },
     "metadata": {},
     "output_type": "display_data"
    }
   ],
   "source": [
    "# finding correlation between the dataset\n",
    " \n",
    "correlation_matrix = dataset.corr()\n",
    " \n",
    "fig = ff.create_annotated_heatmap(z=correlation_matrix.values,\n",
    "                                   x=list(correlation_matrix.columns),\n",
    "                                   y=list(correlation_matrix.index),\n",
    "                                   colorscale='RdBu',\n",
    "                                   annotation_text=correlation_matrix.values.round(2),\n",
    "                                   showscale=True)\n",
    "fig.update_layout(title='Correlation Heatmap',\n",
    "      xaxis=dict(\n",
    "        title='Features',\n",
    "        side='bottom'  \n",
    "    ),\n",
    "    yaxis_title='Features',\n",
    "                width=1000, height=800)\n",
    "fig.show()"
   ]
  },
  {
   "cell_type": "code",
   "execution_count": 66,
   "id": "52517ff8",
   "metadata": {},
   "outputs": [
    {
     "data": {
      "text/plain": [
       "Index(['First Term Gpa', 'Second Term Gpa', 'First Language', 'Funding',\n",
       "       'FastTrack', 'Coop', 'Residency', 'Gender', 'Previous Education',\n",
       "       'Age Group', 'Math Score', 'English Grade', 'FirstYearPersistence'],\n",
       "      dtype='object')"
      ]
     },
     "execution_count": 66,
     "metadata": {},
     "output_type": "execute_result"
    }
   ],
   "source": [
    "dataset.columns"
   ]
  },
  {
   "cell_type": "code",
   "execution_count": 67,
   "id": "69e1d7d9",
   "metadata": {},
   "outputs": [],
   "source": [
    "# droping our target columns and storing it into y variable\n",
    "X=dataset.drop(columns='FirstYearPersistence')\n",
    "y=dataset['FirstYearPersistence']"
   ]
  },
  {
   "cell_type": "code",
   "execution_count": 68,
   "id": "127dcc19",
   "metadata": {},
   "outputs": [],
   "source": [
    "# splitting our dataset set for training \n",
    "X_train, X_test, y_train, y_test = train_test_split(X, y, test_size = 0.2, random_state = 42, stratify = y)"
   ]
  },
  {
   "cell_type": "code",
   "execution_count": 69,
   "id": "7a498d8b",
   "metadata": {},
   "outputs": [],
   "source": [
    "# applying deep nueral network to train our dataset\n",
    "model = Sequential([\n",
    "    Dense(64, activation='relu', input_shape=(X_train.shape[1],)),\n",
    "    Dense(32, activation='relu'),\n",
    "    Dense(1, activation='sigmoid')  \n",
    "])"
   ]
  },
  {
   "cell_type": "code",
   "execution_count": 70,
   "id": "7568f2d8",
   "metadata": {},
   "outputs": [],
   "source": [
    "# compiling the model\n",
    "model.compile(optimizer = 'adam', loss = 'binary_crossentropy', metrics = ['accuracy'])\n"
   ]
  },
  {
   "cell_type": "code",
   "execution_count": 71,
   "id": "02bf978d",
   "metadata": {},
   "outputs": [
    {
     "name": "stdout",
     "output_type": "stream",
     "text": [
      "Epoch 1/50\n",
      "33/33 [==============================] - 1s 4ms/step - loss: 0.7582 - accuracy: 0.6935 - val_loss: 0.4696 - val_accuracy: 0.7913\n",
      "Epoch 2/50\n",
      "33/33 [==============================] - 0s 1ms/step - loss: 0.4599 - accuracy: 0.7963 - val_loss: 0.4547 - val_accuracy: 0.7913\n",
      "Epoch 3/50\n",
      "33/33 [==============================] - 0s 1ms/step - loss: 0.4505 - accuracy: 0.8021 - val_loss: 0.4527 - val_accuracy: 0.8087\n",
      "Epoch 4/50\n",
      "33/33 [==============================] - 0s 1ms/step - loss: 0.4321 - accuracy: 0.8109 - val_loss: 0.4377 - val_accuracy: 0.8000\n",
      "Epoch 5/50\n",
      "33/33 [==============================] - 0s 1ms/step - loss: 0.4149 - accuracy: 0.8186 - val_loss: 0.4171 - val_accuracy: 0.8000\n",
      "Epoch 6/50\n",
      "33/33 [==============================] - 0s 1ms/step - loss: 0.3971 - accuracy: 0.8322 - val_loss: 0.4075 - val_accuracy: 0.8261\n",
      "Epoch 7/50\n",
      "33/33 [==============================] - 0s 1ms/step - loss: 0.3836 - accuracy: 0.8409 - val_loss: 0.4030 - val_accuracy: 0.8348\n",
      "Epoch 8/50\n",
      "33/33 [==============================] - 0s 1ms/step - loss: 0.3775 - accuracy: 0.8516 - val_loss: 0.3984 - val_accuracy: 0.8435\n",
      "Epoch 9/50\n",
      "33/33 [==============================] - 0s 1ms/step - loss: 0.3670 - accuracy: 0.8535 - val_loss: 0.4075 - val_accuracy: 0.8435\n",
      "Epoch 10/50\n",
      "33/33 [==============================] - 0s 1ms/step - loss: 0.3806 - accuracy: 0.8516 - val_loss: 0.3989 - val_accuracy: 0.8348\n",
      "Epoch 11/50\n",
      "33/33 [==============================] - 0s 1ms/step - loss: 0.3595 - accuracy: 0.8652 - val_loss: 0.3946 - val_accuracy: 0.8348\n",
      "Epoch 12/50\n",
      "33/33 [==============================] - 0s 1ms/step - loss: 0.3600 - accuracy: 0.8613 - val_loss: 0.3962 - val_accuracy: 0.8435\n",
      "Epoch 13/50\n",
      "33/33 [==============================] - 0s 1ms/step - loss: 0.3572 - accuracy: 0.8623 - val_loss: 0.4056 - val_accuracy: 0.8261\n",
      "Epoch 14/50\n",
      "33/33 [==============================] - 0s 1ms/step - loss: 0.3537 - accuracy: 0.8681 - val_loss: 0.3975 - val_accuracy: 0.8261\n",
      "Epoch 15/50\n",
      "33/33 [==============================] - 0s 1ms/step - loss: 0.3627 - accuracy: 0.8652 - val_loss: 0.3962 - val_accuracy: 0.8348\n",
      "Epoch 16/50\n",
      "33/33 [==============================] - 0s 1ms/step - loss: 0.3526 - accuracy: 0.8632 - val_loss: 0.4079 - val_accuracy: 0.8174\n",
      "Epoch 17/50\n",
      "33/33 [==============================] - 0s 1ms/step - loss: 0.3527 - accuracy: 0.8661 - val_loss: 0.3937 - val_accuracy: 0.8435\n",
      "Epoch 18/50\n",
      "33/33 [==============================] - 0s 1ms/step - loss: 0.3695 - accuracy: 0.8613 - val_loss: 0.3984 - val_accuracy: 0.8348\n",
      "Epoch 19/50\n",
      "33/33 [==============================] - 0s 1ms/step - loss: 0.3585 - accuracy: 0.8584 - val_loss: 0.3909 - val_accuracy: 0.8435\n",
      "Epoch 20/50\n",
      "33/33 [==============================] - 0s 1ms/step - loss: 0.3559 - accuracy: 0.8603 - val_loss: 0.3929 - val_accuracy: 0.8522\n",
      "Epoch 21/50\n",
      "33/33 [==============================] - 0s 1ms/step - loss: 0.3508 - accuracy: 0.8681 - val_loss: 0.3873 - val_accuracy: 0.8435\n",
      "Epoch 22/50\n",
      "33/33 [==============================] - 0s 1ms/step - loss: 0.3462 - accuracy: 0.8642 - val_loss: 0.3900 - val_accuracy: 0.8522\n",
      "Epoch 23/50\n",
      "33/33 [==============================] - 0s 1ms/step - loss: 0.3464 - accuracy: 0.8623 - val_loss: 0.3902 - val_accuracy: 0.8522\n",
      "Epoch 24/50\n",
      "33/33 [==============================] - 0s 1ms/step - loss: 0.3467 - accuracy: 0.8642 - val_loss: 0.3995 - val_accuracy: 0.8261\n",
      "Epoch 25/50\n",
      "33/33 [==============================] - 0s 1ms/step - loss: 0.3447 - accuracy: 0.8671 - val_loss: 0.3899 - val_accuracy: 0.8435\n",
      "Epoch 26/50\n",
      "33/33 [==============================] - 0s 1ms/step - loss: 0.3473 - accuracy: 0.8594 - val_loss: 0.4094 - val_accuracy: 0.8087\n",
      "Epoch 27/50\n",
      "33/33 [==============================] - 0s 1ms/step - loss: 0.3466 - accuracy: 0.8691 - val_loss: 0.4113 - val_accuracy: 0.8087\n",
      "Epoch 28/50\n",
      "33/33 [==============================] - 0s 1ms/step - loss: 0.3470 - accuracy: 0.8671 - val_loss: 0.3945 - val_accuracy: 0.8522\n",
      "Epoch 29/50\n",
      "33/33 [==============================] - 0s 1ms/step - loss: 0.3496 - accuracy: 0.8681 - val_loss: 0.3933 - val_accuracy: 0.8435\n",
      "Epoch 30/50\n",
      "33/33 [==============================] - 0s 1ms/step - loss: 0.3443 - accuracy: 0.8691 - val_loss: 0.4085 - val_accuracy: 0.8696\n",
      "Epoch 31/50\n",
      "33/33 [==============================] - 0s 1ms/step - loss: 0.3531 - accuracy: 0.8661 - val_loss: 0.3881 - val_accuracy: 0.8522\n",
      "Epoch 32/50\n",
      "33/33 [==============================] - 0s 1ms/step - loss: 0.3425 - accuracy: 0.8652 - val_loss: 0.3946 - val_accuracy: 0.8609\n",
      "Epoch 33/50\n",
      "33/33 [==============================] - 0s 1ms/step - loss: 0.3590 - accuracy: 0.8623 - val_loss: 0.3899 - val_accuracy: 0.8435\n",
      "Epoch 34/50\n",
      "33/33 [==============================] - 0s 1ms/step - loss: 0.3372 - accuracy: 0.8623 - val_loss: 0.3904 - val_accuracy: 0.8609\n",
      "Epoch 35/50\n",
      "33/33 [==============================] - 0s 1ms/step - loss: 0.3392 - accuracy: 0.8671 - val_loss: 0.3849 - val_accuracy: 0.8522\n",
      "Epoch 36/50\n",
      "33/33 [==============================] - 0s 1ms/step - loss: 0.3440 - accuracy: 0.8632 - val_loss: 0.4242 - val_accuracy: 0.7913\n",
      "Epoch 37/50\n",
      "33/33 [==============================] - 0s 1ms/step - loss: 0.3424 - accuracy: 0.8652 - val_loss: 0.3914 - val_accuracy: 0.8609\n",
      "Epoch 38/50\n",
      "33/33 [==============================] - 0s 1ms/step - loss: 0.3462 - accuracy: 0.8671 - val_loss: 0.3854 - val_accuracy: 0.8522\n",
      "Epoch 39/50\n",
      "33/33 [==============================] - 0s 1ms/step - loss: 0.3368 - accuracy: 0.8661 - val_loss: 0.3960 - val_accuracy: 0.8783\n",
      "Epoch 40/50\n",
      "33/33 [==============================] - 0s 1ms/step - loss: 0.3461 - accuracy: 0.8516 - val_loss: 0.4412 - val_accuracy: 0.7913\n",
      "Epoch 41/50\n",
      "33/33 [==============================] - 0s 1ms/step - loss: 0.3344 - accuracy: 0.8691 - val_loss: 0.4018 - val_accuracy: 0.8087\n",
      "Epoch 42/50\n",
      "33/33 [==============================] - 0s 1ms/step - loss: 0.3382 - accuracy: 0.8710 - val_loss: 0.3860 - val_accuracy: 0.8522\n",
      "Epoch 43/50\n",
      "33/33 [==============================] - 0s 1ms/step - loss: 0.3383 - accuracy: 0.8613 - val_loss: 0.3940 - val_accuracy: 0.8435\n",
      "Epoch 44/50\n",
      "33/33 [==============================] - 0s 1ms/step - loss: 0.3327 - accuracy: 0.8642 - val_loss: 0.4007 - val_accuracy: 0.8174\n",
      "Epoch 45/50\n",
      "33/33 [==============================] - 0s 1ms/step - loss: 0.3447 - accuracy: 0.8652 - val_loss: 0.3868 - val_accuracy: 0.8522\n",
      "Epoch 46/50\n",
      "33/33 [==============================] - 0s 1ms/step - loss: 0.3380 - accuracy: 0.8642 - val_loss: 0.3930 - val_accuracy: 0.8261\n",
      "Epoch 47/50\n",
      "33/33 [==============================] - 0s 1ms/step - loss: 0.3417 - accuracy: 0.8691 - val_loss: 0.3885 - val_accuracy: 0.8522\n",
      "Epoch 48/50\n",
      "33/33 [==============================] - 0s 1ms/step - loss: 0.3339 - accuracy: 0.8681 - val_loss: 0.3918 - val_accuracy: 0.8348\n",
      "Epoch 49/50\n",
      "33/33 [==============================] - 0s 1ms/step - loss: 0.3420 - accuracy: 0.8642 - val_loss: 0.3996 - val_accuracy: 0.8087\n",
      "Epoch 50/50\n",
      "33/33 [==============================] - 0s 1ms/step - loss: 0.3320 - accuracy: 0.8671 - val_loss: 0.3846 - val_accuracy: 0.8522\n"
     ]
    },
    {
     "data": {
      "text/plain": [
       "<keras.src.callbacks.History at 0x226134642d0>"
      ]
     },
     "execution_count": 71,
     "metadata": {},
     "output_type": "execute_result"
    }
   ],
   "source": [
    "# model training\n",
    "model.fit(X_train, y_train, epochs = 50, batch_size = 32, validation_split = 0.1)"
   ]
  },
  {
   "cell_type": "code",
   "execution_count": 72,
   "id": "cff76d08",
   "metadata": {},
   "outputs": [
    {
     "name": "stdout",
     "output_type": "stream",
     "text": [
      "36/36 [==============================] - 0s 663us/step - loss: 0.3341 - accuracy: 0.8682\n",
      "Train Accuracy: 0.8682373762130737\n"
     ]
    }
   ],
   "source": [
    "# Finding train loss and accuracy.\n",
    "train_loss, train_accuracy = model.evaluate(X_train, y_train)\n",
    "print(f'Train Accuracy: { train_accuracy }')"
   ]
  },
  {
   "cell_type": "code",
   "execution_count": 73,
   "id": "6e4ccead",
   "metadata": {},
   "outputs": [
    {
     "name": "stdout",
     "output_type": "stream",
     "text": [
      "9/9 [==============================] - 0s 750us/step - loss: 0.3721 - accuracy: 0.8537\n",
      "Test Accuracy: 0.8536585569381714\n"
     ]
    }
   ],
   "source": [
    "# Finding test loss and accuracy.\n",
    "test_loss, test_accuracy = model.evaluate(X_test, y_test)\n",
    "print(f'Test Accuracy: { test_accuracy }')"
   ]
  },
  {
   "cell_type": "markdown",
   "id": "8f24fd31",
   "metadata": {},
   "source": [
    "# Model Deployment"
   ]
  },
  {
   "cell_type": "code",
   "execution_count": 74,
   "id": "c3ad98cb",
   "metadata": {},
   "outputs": [],
   "source": [
    "# Opening a file for dumping the model using Pickle.\n",
    "file = open('neural_network_model.pkl', 'wb')"
   ]
  },
  {
   "cell_type": "code",
   "execution_count": 75,
   "id": "89a23340",
   "metadata": {},
   "outputs": [],
   "source": [
    "# Dumping the model.\n",
    "dump(model, file)"
   ]
  },
  {
   "cell_type": "code",
   "execution_count": 76,
   "id": "7da2bcce",
   "metadata": {},
   "outputs": [],
   "source": [
    "# Closing the file after dumping.\n",
    "file.close()"
   ]
  }
 ],
 "metadata": {
  "kernelspec": {
   "display_name": "Python 3 (ipykernel)",
   "language": "python",
   "name": "python3"
  },
  "language_info": {
   "codemirror_mode": {
    "name": "ipython",
    "version": 3
   },
   "file_extension": ".py",
   "mimetype": "text/x-python",
   "name": "python",
   "nbconvert_exporter": "python",
   "pygments_lexer": "ipython3",
   "version": "3.11.5"
  }
 },
 "nbformat": 4,
 "nbformat_minor": 5
}
